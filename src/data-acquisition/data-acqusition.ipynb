{
  "nbformat": 4,
  "nbformat_minor": 0,
  "metadata": {
    "colab": {
      "provenance": []
    },
    "kernelspec": {
      "name": "python3",
      "display_name": "Python 3"
    },
    "language_info": {
      "name": "python"
    }
  },
  "cells": [
    {
      "cell_type": "markdown",
      "source": [
        "# Dataset preparation"
      ],
      "metadata": {
        "id": "k_4ORc4L5ovj"
      }
    },
    {
      "cell_type": "markdown",
      "source": [
        "## Creating CSV file"
      ],
      "metadata": {
        "id": "u_mBbMWJ5qql"
      }
    },
    {
      "cell_type": "code",
      "source": [
        "%pip install feedparser"
      ],
      "metadata": {
        "colab": {
          "base_uri": "https://localhost:8080/"
        },
        "id": "xpMW6H76TwJd",
        "outputId": "059d70ab-6743-4b95-b475-cd1bd699d304"
      },
      "execution_count": null,
      "outputs": [
        {
          "output_type": "stream",
          "name": "stdout",
          "text": [
            "Collecting feedparser\n",
            "  Downloading feedparser-6.0.11-py3-none-any.whl.metadata (2.4 kB)\n",
            "Collecting sgmllib3k (from feedparser)\n",
            "  Downloading sgmllib3k-1.0.0.tar.gz (5.8 kB)\n",
            "  Preparing metadata (setup.py) ... \u001b[?25l\u001b[?25hdone\n",
            "Downloading feedparser-6.0.11-py3-none-any.whl (81 kB)\n",
            "\u001b[2K   \u001b[90m━━━━━━━━━━━━━━━━━━━━━━━━━━━━━━━━━━━━━━━━\u001b[0m \u001b[32m81.3/81.3 kB\u001b[0m \u001b[31m3.1 MB/s\u001b[0m eta \u001b[36m0:00:00\u001b[0m\n",
            "\u001b[?25hBuilding wheels for collected packages: sgmllib3k\n",
            "  Building wheel for sgmllib3k (setup.py) ... \u001b[?25l\u001b[?25hdone\n",
            "  Created wheel for sgmllib3k: filename=sgmllib3k-1.0.0-py3-none-any.whl size=6047 sha256=4933596e787e9c4886b1cd06cee6411cc8e2bbc14564713f71e037d1f2475c3c\n",
            "  Stored in directory: /root/.cache/pip/wheels/f0/69/93/a47e9d621be168e9e33c7ce60524393c0b92ae83cf6c6e89c5\n",
            "Successfully built sgmllib3k\n",
            "Installing collected packages: sgmllib3k, feedparser\n",
            "Successfully installed feedparser-6.0.11 sgmllib3k-1.0.0\n"
          ]
        }
      ]
    },
    {
      "cell_type": "code",
      "source": [
        "%pip install textstat"
      ],
      "metadata": {
        "colab": {
          "base_uri": "https://localhost:8080/"
        },
        "id": "jAwLalkKWHv5",
        "outputId": "5487a3de-a8eb-46f2-e708-517ddd363e20"
      },
      "execution_count": null,
      "outputs": [
        {
          "output_type": "stream",
          "name": "stdout",
          "text": [
            "Collecting textstat\n",
            "  Downloading textstat-0.7.4-py3-none-any.whl.metadata (14 kB)\n",
            "Collecting pyphen (from textstat)\n",
            "  Downloading pyphen-0.16.0-py3-none-any.whl.metadata (3.2 kB)\n",
            "Requirement already satisfied: setuptools in /usr/local/lib/python3.10/dist-packages (from textstat) (71.0.4)\n",
            "Downloading textstat-0.7.4-py3-none-any.whl (105 kB)\n",
            "\u001b[2K   \u001b[90m━━━━━━━━━━━━━━━━━━━━━━━━━━━━━━━━━━━━━━━━\u001b[0m \u001b[32m105.1/105.1 kB\u001b[0m \u001b[31m4.4 MB/s\u001b[0m eta \u001b[36m0:00:00\u001b[0m\n",
            "\u001b[?25hDownloading pyphen-0.16.0-py3-none-any.whl (2.1 MB)\n",
            "\u001b[2K   \u001b[90m━━━━━━━━━━━━━━━━━━━━━━━━━━━━━━━━━━━━━━━━\u001b[0m \u001b[32m2.1/2.1 MB\u001b[0m \u001b[31m42.2 MB/s\u001b[0m eta \u001b[36m0:00:00\u001b[0m\n",
            "\u001b[?25hInstalling collected packages: pyphen, textstat\n",
            "Successfully installed pyphen-0.16.0 textstat-0.7.4\n"
          ]
        }
      ]
    },
    {
      "cell_type": "code",
      "source": [
        "import requests\n",
        "import feedparser\n",
        "import csv\n",
        "import textstat\n",
        "import time\n",
        "from datetime import datetime\n",
        "import pytz"
      ],
      "metadata": {
        "id": "9uGjpu9RXAdw"
      },
      "execution_count": null,
      "outputs": []
    },
    {
      "cell_type": "code",
      "source": [
        "base_url = 'http://export.arxiv.org/api/query?'"
      ],
      "metadata": {
        "id": "y75yvPLIXIHt"
      },
      "execution_count": null,
      "outputs": []
    },
    {
      "cell_type": "code",
      "source": [
        "def fetch_arxiv_articles(search_query, max_results=1000, results_per_request=1000):\n",
        "    articles = []\n",
        "    for batch_number, start in enumerate(range(0, max_results, results_per_request), 1):\n",
        "        query = f\"search_query={search_query}&start={start}&max_results={results_per_request}\"\n",
        "        response = requests.get(base_url + query)\n",
        "        print(f\"Batch {batch_number}: Status Code {response.status_code}\")  # Print batch number and status code\n",
        "\n",
        "        # Parse the response using feedparser\n",
        "        feed = feedparser.parse(response.text)\n",
        "        articles.extend(feed.entries)\n",
        "\n",
        "        # To avoid hitting the API limit, add a delay between requests\n",
        "        time.sleep(3)\n",
        "\n",
        "    return articles"
      ],
      "metadata": {
        "id": "79z_shlAXJ00"
      },
      "execution_count": null,
      "outputs": []
    },
    {
      "cell_type": "code",
      "source": [
        "search_query = 'cat:cs.AI'  # Category: Computer Science > Artificial Intelligence"
      ],
      "metadata": {
        "id": "HsD5KlcBXLVW"
      },
      "execution_count": null,
      "outputs": []
    },
    {
      "cell_type": "code",
      "source": [
        "articles = fetch_arxiv_articles(search_query, max_results=103671, results_per_request=1000)"
      ],
      "metadata": {
        "id": "IWBwftrWXN4s",
        "colab": {
          "base_uri": "https://localhost:8080/"
        },
        "outputId": "2c98e0a8-2c11-4064-9341-282ff79393ea"
      },
      "execution_count": null,
      "outputs": [
        {
          "output_type": "stream",
          "name": "stdout",
          "text": [
            "Batch 1: Status Code 200\n",
            "Batch 2: Status Code 200\n",
            "Batch 3: Status Code 200\n",
            "Batch 4: Status Code 200\n",
            "Batch 5: Status Code 200\n",
            "Batch 6: Status Code 200\n",
            "Batch 7: Status Code 200\n",
            "Batch 8: Status Code 200\n",
            "Batch 9: Status Code 200\n",
            "Batch 10: Status Code 200\n",
            "Batch 11: Status Code 200\n",
            "Batch 12: Status Code 200\n",
            "Batch 13: Status Code 200\n",
            "Batch 14: Status Code 200\n",
            "Batch 15: Status Code 200\n",
            "Batch 16: Status Code 200\n",
            "Batch 17: Status Code 200\n",
            "Batch 18: Status Code 200\n",
            "Batch 19: Status Code 200\n",
            "Batch 20: Status Code 200\n",
            "Batch 21: Status Code 200\n",
            "Batch 22: Status Code 200\n",
            "Batch 23: Status Code 200\n",
            "Batch 24: Status Code 200\n",
            "Batch 25: Status Code 200\n",
            "Batch 26: Status Code 200\n",
            "Batch 27: Status Code 200\n",
            "Batch 28: Status Code 200\n",
            "Batch 29: Status Code 200\n",
            "Batch 30: Status Code 200\n",
            "Batch 31: Status Code 200\n",
            "Batch 32: Status Code 200\n",
            "Batch 33: Status Code 200\n",
            "Batch 34: Status Code 200\n",
            "Batch 35: Status Code 200\n",
            "Batch 36: Status Code 200\n",
            "Batch 37: Status Code 200\n",
            "Batch 38: Status Code 200\n",
            "Batch 39: Status Code 200\n",
            "Batch 40: Status Code 200\n",
            "Batch 41: Status Code 200\n",
            "Batch 42: Status Code 200\n",
            "Batch 43: Status Code 200\n",
            "Batch 44: Status Code 200\n",
            "Batch 45: Status Code 200\n",
            "Batch 46: Status Code 200\n",
            "Batch 47: Status Code 200\n",
            "Batch 48: Status Code 200\n",
            "Batch 49: Status Code 200\n",
            "Batch 50: Status Code 200\n",
            "Batch 51: Status Code 200\n",
            "Batch 52: Status Code 200\n",
            "Batch 53: Status Code 200\n",
            "Batch 54: Status Code 200\n",
            "Batch 55: Status Code 200\n",
            "Batch 56: Status Code 200\n",
            "Batch 57: Status Code 200\n",
            "Batch 58: Status Code 200\n",
            "Batch 59: Status Code 200\n",
            "Batch 60: Status Code 200\n",
            "Batch 61: Status Code 200\n",
            "Batch 62: Status Code 200\n",
            "Batch 63: Status Code 200\n",
            "Batch 64: Status Code 200\n",
            "Batch 65: Status Code 200\n",
            "Batch 66: Status Code 200\n",
            "Batch 67: Status Code 200\n",
            "Batch 68: Status Code 200\n",
            "Batch 69: Status Code 200\n",
            "Batch 70: Status Code 200\n",
            "Batch 71: Status Code 200\n",
            "Batch 72: Status Code 200\n",
            "Batch 73: Status Code 200\n",
            "Batch 74: Status Code 200\n",
            "Batch 75: Status Code 200\n",
            "Batch 76: Status Code 200\n",
            "Batch 77: Status Code 200\n",
            "Batch 78: Status Code 200\n",
            "Batch 79: Status Code 200\n",
            "Batch 80: Status Code 200\n",
            "Batch 81: Status Code 200\n",
            "Batch 82: Status Code 200\n",
            "Batch 83: Status Code 200\n",
            "Batch 84: Status Code 200\n",
            "Batch 85: Status Code 200\n",
            "Batch 86: Status Code 200\n",
            "Batch 87: Status Code 200\n",
            "Batch 88: Status Code 200\n",
            "Batch 89: Status Code 200\n",
            "Batch 90: Status Code 200\n",
            "Batch 91: Status Code 200\n",
            "Batch 92: Status Code 200\n",
            "Batch 93: Status Code 200\n",
            "Batch 94: Status Code 200\n",
            "Batch 95: Status Code 200\n",
            "Batch 96: Status Code 200\n",
            "Batch 97: Status Code 200\n",
            "Batch 98: Status Code 200\n",
            "Batch 99: Status Code 200\n",
            "Batch 100: Status Code 200\n",
            "Batch 101: Status Code 200\n",
            "Batch 102: Status Code 200\n",
            "Batch 103: Status Code 200\n",
            "Batch 104: Status Code 200\n"
          ]
        }
      ]
    },
    {
      "cell_type": "code",
      "source": [
        "len(articles)"
      ],
      "metadata": {
        "colab": {
          "base_uri": "https://localhost:8080/"
        },
        "id": "pbpF8E6i27X5",
        "outputId": "e9a42fcc-35c6-4046-c299-65c5d06109a0"
      },
      "execution_count": null,
      "outputs": [
        {
          "output_type": "execute_result",
          "data": {
            "text/plain": [
              "38456"
            ]
          },
          "metadata": {},
          "execution_count": 107
        }
      ]
    },
    {
      "cell_type": "code",
      "source": [
        "def prepare_multiline_value(value):\n",
        "  return value.replace('\\n', ' ')"
      ],
      "metadata": {
        "id": "Hw0UoCsVYAm4"
      },
      "execution_count": null,
      "outputs": []
    },
    {
      "cell_type": "code",
      "source": [
        "start_date = datetime(2000, 1, 1, tzinfo=pytz.utc)  # January 1, 2000, UTC timezone\n",
        "end_date = datetime(2024, 12, 31, tzinfo=pytz.utc)  # December 31, 2024, UTC timezone"
      ],
      "metadata": {
        "id": "be1YhiBZvoJl"
      },
      "execution_count": null,
      "outputs": []
    },
    {
      "cell_type": "code",
      "source": [
        "def write_to_csv(articles, filename='arxiv.csv', delimiter=';'):\n",
        "  with open(filename, 'w', newline='') as csvfile:\n",
        "    writer = csv.writer(csvfile, delimiter=delimiter)\n",
        "\n",
        "    header = ['ID', 'Title', 'Summary', 'Published', 'PDF Link', 'Flesch reading ease', 'Number of words']\n",
        "    writer.writerow(header)\n",
        "\n",
        "    for article in articles:\n",
        "      row = []\n",
        "      id = article.id\n",
        "      title = prepare_multiline_value(article.title)\n",
        "      summary = prepare_multiline_value(article.summary)\n",
        "      published = article.published\n",
        "      published_as_date = datetime.fromisoformat(published.replace('Z', '+00:00'))\n",
        "      row = [id, title, summary, published]\n",
        "      flesch_reading_ease = textstat.flesch_reading_ease(summary)\n",
        "      number_of_words = textstat.lexicon_count(summary, removepunct=True)\n",
        "      if (number_of_words < 100 or not(start_date <= published_as_date <= end_date)):\n",
        "        continue\n",
        "      for link in article.links:\n",
        "        if hasattr(link, 'title') and link.title == 'pdf':\n",
        "            row.append(link.href)\n",
        "      row.append(flesch_reading_ease)\n",
        "      row.append(number_of_words)\n",
        "      writer.writerow(row)"
      ],
      "metadata": {
        "id": "UdpuOogMXrWi"
      },
      "execution_count": null,
      "outputs": []
    },
    {
      "cell_type": "code",
      "source": [
        "write_to_csv(articles)"
      ],
      "metadata": {
        "id": "GkhfGfkLYmCw"
      },
      "execution_count": null,
      "outputs": []
    },
    {
      "cell_type": "markdown",
      "source": [
        "## Articles per year"
      ],
      "metadata": {
        "id": "ZVYhk5aW4R-i"
      }
    },
    {
      "cell_type": "code",
      "source": [
        "# count number of articles per each year and plot bar\n",
        "\n",
        "import pandas as pd\n",
        "import matplotlib.pyplot as plt\n",
        "\n",
        "year_to_count = {}\n",
        "\n",
        "for article in articles:\n",
        "  published = article.published\n",
        "  published_as_date = datetime.fromisoformat(published.replace('Z', '+00:00'))\n",
        "  year = published_as_date.year\n",
        "  if year < 2000:\n",
        "    continue\n",
        "  if year in year_to_count:\n",
        "    year_to_count[year] += 1\n",
        "  else:\n",
        "    year_to_count[year] = 1"
      ],
      "metadata": {
        "id": "DXmUfJi7YtDz"
      },
      "execution_count": null,
      "outputs": []
    },
    {
      "cell_type": "code",
      "source": [
        "# plot year_to_count\n",
        "plt.bar(year_to_count.keys(), year_to_count.values())"
      ],
      "metadata": {
        "colab": {
          "base_uri": "https://localhost:8080/",
          "height": 447
        },
        "id": "KPOVhO7e4xki",
        "outputId": "f8ae5f6e-3f48-4658-c46a-f67c15652b78"
      },
      "execution_count": null,
      "outputs": [
        {
          "output_type": "execute_result",
          "data": {
            "text/plain": [
              "<BarContainer object of 25 artists>"
            ]
          },
          "metadata": {},
          "execution_count": 120
        },
        {
          "output_type": "display_data",
          "data": {
            "text/plain": [
              "<Figure size 640x480 with 1 Axes>"
            ],
            "image/png": "[encoded data removed]"
          },
          "metadata": {}
        }
      ]
    },
    {
      "cell_type": "code",
      "source": [],
      "metadata": {
        "id": "Mj0oo0SA4-tc"
      },
      "execution_count": null,
      "outputs": []
    }
  ]
}