{
 "cells": [
  {
   "cell_type": "code",
   "id": "initial_id",
   "metadata": {
    "collapsed": true,
    "ExecuteTime": {
     "end_time": "2024-12-03T20:50:48.921487Z",
     "start_time": "2024-12-03T20:50:48.466523Z"
    }
   },
   "source": [
    "import pandas as pd\n",
    "import ast"
   ],
   "outputs": [],
   "execution_count": 2
  },
  {
   "metadata": {
    "ExecuteTime": {
     "end_time": "2024-12-03T20:50:48.937329Z",
     "start_time": "2024-12-03T20:50:48.923485Z"
    }
   },
   "cell_type": "code",
   "source": [
    "def parse_list_column(column):\n",
    "    return ast.literal_eval(column)\n",
    "\n",
    "def get_processed_data(csv_file=\"../../data/arxiv_processed.csv\"):\n",
    "    df = pd.read_csv(csv_file, sep=\";\", converters={'Processed Summary': parse_list_column})\n",
    "    df['Processed Summary'] = df['Processed Summary'].apply(lambda x: \" \".join(x))\n",
    "    return df"
   ],
   "id": "b8ae57a9bf85cf9d",
   "outputs": [],
   "execution_count": 3
  },
  {
   "metadata": {
    "ExecuteTime": {
     "end_time": "2024-12-03T20:50:48.953329Z",
     "start_time": "2024-12-03T20:50:48.939332Z"
    }
   },
   "cell_type": "code",
   "source": [
    "def remove_scientific_words(text):\n",
    "    words = text.split()\n",
    "    return \" \".join([word for word in words if word not in scientific_words])"
   ],
   "id": "6c6e2c350d057a0a",
   "outputs": [],
   "execution_count": 4
  },
  {
   "metadata": {
    "ExecuteTime": {
     "end_time": "2024-12-03T20:50:49.062343Z",
     "start_time": "2024-12-03T20:50:49.057344Z"
    }
   },
   "cell_type": "code",
   "source": [
    "with open(\"../../data/scientific_words.txt\", \"r\") as f:\n",
    "    scientific_words = f.read().splitlines()\n",
    "scientific_words = list(set(scientific_words))"
   ],
   "id": "cb6681c2961dcb07",
   "outputs": [],
   "execution_count": 5
  },
  {
   "metadata": {
    "ExecuteTime": {
     "end_time": "2024-12-03T20:50:55.389954Z",
     "start_time": "2024-12-03T20:50:49.233908Z"
    }
   },
   "cell_type": "code",
   "source": "df = get_processed_data()",
   "id": "7a86a4d316dc6f5c",
   "outputs": [],
   "execution_count": 6
  },
  {
   "metadata": {
    "ExecuteTime": {
     "end_time": "2024-12-03T20:50:57.661994Z",
     "start_time": "2024-12-03T20:50:55.392938Z"
    }
   },
   "cell_type": "code",
   "source": "df['Processed Summary'] = df['Processed Summary'].apply(remove_scientific_words)",
   "id": "e72a852c2510a658",
   "outputs": [],
   "execution_count": 7
  },
  {
   "metadata": {
    "ExecuteTime": {
     "end_time": "2024-12-03T20:50:58.009750Z",
     "start_time": "2024-12-03T20:50:57.664Z"
    }
   },
   "cell_type": "code",
   "source": "df['Processed Summary'] = df['Processed Summary'].apply(lambda x: [word for word in x.split() if word != \"\"])",
   "id": "fc53015015760a30",
   "outputs": [],
   "execution_count": 8
  },
  {
   "metadata": {
    "ExecuteTime": {
     "end_time": "2024-12-03T20:50:59.653615Z",
     "start_time": "2024-12-03T20:50:58.011719Z"
    }
   },
   "cell_type": "code",
   "source": "df.to_csv(\"../../data/arxiv_processed_no_scientific.csv\", sep=\";\", index=False)",
   "id": "bbe40f8b582ca87e",
   "outputs": [],
   "execution_count": 9
  },
  {
   "metadata": {},
   "cell_type": "code",
   "outputs": [],
   "execution_count": null,
   "source": "",
   "id": "f9e3b1e18788b6e7"
  }
 ],
 "metadata": {
  "kernelspec": {
   "display_name": "Python 3",
   "language": "python",
   "name": "python3"
  },
  "language_info": {
   "codemirror_mode": {
    "name": "ipython",
    "version": 2
   },
   "file_extension": ".py",
   "mimetype": "text/x-python",
   "name": "python",
   "nbconvert_exporter": "python",
   "pygments_lexer": "ipython2",
   "version": "2.7.6"
  }
 },
 "nbformat": 4,
 "nbformat_minor": 5
}
