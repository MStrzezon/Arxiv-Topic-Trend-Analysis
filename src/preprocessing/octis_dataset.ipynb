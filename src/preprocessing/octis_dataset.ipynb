{
 "cells": [
  {
   "metadata": {
    "ExecuteTime": {
     "end_time": "2024-12-03T20:45:41.552675Z",
     "start_time": "2024-12-03T20:45:39.922894Z"
    }
   },
   "cell_type": "code",
   "source": [
    "import pandas as pd\n",
    "import os\n",
    "import ast"
   ],
   "id": "c5bcd41c217f47e0",
   "outputs": [],
   "execution_count": 1
  },
  {
   "metadata": {
    "ExecuteTime": {
     "end_time": "2024-12-03T20:50:02.619586Z",
     "start_time": "2024-12-03T20:49:57.642675Z"
    }
   },
   "cell_type": "code",
   "source": [
    "def parse_list_column(column):\n",
    "    return ast.literal_eval(column)\n",
    "\n",
    "csv_file = \"../../data/arxiv_processed_no_scientific.csv\"\n",
    "df = pd.read_csv(csv_file, sep=\";\", converters={'Processed Summary': parse_list_column})\n",
    "df['Processed Summary'] = df['Processed Summary'].apply(lambda x: \" \".join(x))"
   ],
   "id": "61adf4b1618990e5",
   "outputs": [],
   "execution_count": 3
  },
  {
   "metadata": {
    "ExecuteTime": {
     "end_time": "2024-12-03T20:50:08.186847Z",
     "start_time": "2024-12-03T20:50:07.799860Z"
    }
   },
   "cell_type": "code",
   "source": [
    "vocabulary = set()\n",
    "for summary in df['Processed Summary']:\n",
    "    vocabulary.update(summary.split())\n",
    "print(f\"Vocabulary size: {len(vocabulary)}\")"
   ],
   "id": "71c0e62a4318c8b7",
   "outputs": [
    {
     "name": "stdout",
     "output_type": "stream",
     "text": [
      "Vocabulary size: 53191\n"
     ]
    }
   ],
   "execution_count": 4
  },
  {
   "metadata": {
    "ExecuteTime": {
     "end_time": "2024-12-03T20:50:22.629666Z",
     "start_time": "2024-12-03T20:50:22.604144Z"
    }
   },
   "cell_type": "code",
   "source": [
    "octis_dataset_path = \"../../data/octis_no_scientific/\"\n",
    "os.makedirs(octis_dataset_path, exist_ok=True)\n",
    "\n",
    "with open(os.path.join(octis_dataset_path, \"vocabulary.txt\"), \"w\") as f:\n",
    "    f.write(\"\\n\".join(vocabulary))"
   ],
   "id": "d204b98cc01af7d0",
   "outputs": [],
   "execution_count": 5
  },
  {
   "metadata": {
    "ExecuteTime": {
     "end_time": "2024-12-03T20:50:26.015078Z",
     "start_time": "2024-12-03T20:50:25.995093Z"
    }
   },
   "cell_type": "code",
   "source": [
    "# add a partition column\n",
    "df_summary = df['Processed Summary']\n",
    "df_summary = df_summary.reset_index()\n",
    "df_summary['partition'] = 'train'\n",
    "df_summary = df_summary[['Processed Summary', 'partition']]"
   ],
   "id": "6022bebbba80f1c7",
   "outputs": [],
   "execution_count": 6
  },
  {
   "metadata": {
    "ExecuteTime": {
     "end_time": "2024-12-03T20:50:27.542778Z",
     "start_time": "2024-12-03T20:50:26.986728Z"
    }
   },
   "cell_type": "code",
   "source": "df_summary.to_csv(os.path.join(octis_dataset_path, \"corpus.tsv\"), index=False, sep=\"\\t\", header=False)",
   "id": "c7d374590a12650b",
   "outputs": [],
   "execution_count": 7
  },
  {
   "metadata": {
    "ExecuteTime": {
     "end_time": "2024-12-03T20:50:28.102659Z",
     "start_time": "2024-12-03T20:50:28.082592Z"
    }
   },
   "cell_type": "code",
   "source": "df_summary.head()",
   "id": "91abe7814471a0d",
   "outputs": [
    {
     "data": {
      "text/plain": [
       "                                   Processed Summary partition\n",
       "0  revisit issue connection two leading formalism...     train\n",
       "1  randomized deciding satisfiability shown effec...     train\n",
       "2  two type agency discussed based dynamically co...     train\n",
       "3  computing revision normal logic program added ...     train\n",
       "4  diagnostic reasoning characterized logically r...     train"
      ],
      "text/html": [
       "<div>\n",
       "<style scoped>\n",
       "    .dataframe tbody tr th:only-of-type {\n",
       "        vertical-align: middle;\n",
       "    }\n",
       "\n",
       "    .dataframe tbody tr th {\n",
       "        vertical-align: top;\n",
       "    }\n",
       "\n",
       "    .dataframe thead th {\n",
       "        text-align: right;\n",
       "    }\n",
       "</style>\n",
       "<table border=\"1\" class=\"dataframe\">\n",
       "  <thead>\n",
       "    <tr style=\"text-align: right;\">\n",
       "      <th></th>\n",
       "      <th>Processed Summary</th>\n",
       "      <th>partition</th>\n",
       "    </tr>\n",
       "  </thead>\n",
       "  <tbody>\n",
       "    <tr>\n",
       "      <th>0</th>\n",
       "      <td>revisit issue connection two leading formalism...</td>\n",
       "      <td>train</td>\n",
       "    </tr>\n",
       "    <tr>\n",
       "      <th>1</th>\n",
       "      <td>randomized deciding satisfiability shown effec...</td>\n",
       "      <td>train</td>\n",
       "    </tr>\n",
       "    <tr>\n",
       "      <th>2</th>\n",
       "      <td>two type agency discussed based dynamically co...</td>\n",
       "      <td>train</td>\n",
       "    </tr>\n",
       "    <tr>\n",
       "      <th>3</th>\n",
       "      <td>computing revision normal logic program added ...</td>\n",
       "      <td>train</td>\n",
       "    </tr>\n",
       "    <tr>\n",
       "      <th>4</th>\n",
       "      <td>diagnostic reasoning characterized logically r...</td>\n",
       "      <td>train</td>\n",
       "    </tr>\n",
       "  </tbody>\n",
       "</table>\n",
       "</div>"
      ]
     },
     "execution_count": 8,
     "metadata": {},
     "output_type": "execute_result"
    }
   ],
   "execution_count": 8
  },
  {
   "metadata": {},
   "cell_type": "code",
   "outputs": [],
   "execution_count": null,
   "source": "",
   "id": "f78154d7a2fe41d7"
  }
 ],
 "metadata": {
  "kernelspec": {
   "display_name": "Python 3",
   "language": "python",
   "name": "python3"
  },
  "language_info": {
   "codemirror_mode": {
    "name": "ipython",
    "version": 2
   },
   "file_extension": ".py",
   "mimetype": "text/x-python",
   "name": "python",
   "nbconvert_exporter": "python",
   "pygments_lexer": "ipython2",
   "version": "2.7.6"
  }
 },
 "nbformat": 4,
 "nbformat_minor": 5
}
