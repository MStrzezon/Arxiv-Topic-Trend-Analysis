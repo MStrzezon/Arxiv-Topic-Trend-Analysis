{
 "cells": [
  {
   "cell_type": "code",
   "metadata": {},
   "source": [
    "from Scheduler import Scheduler\n",
    "from ranking.ModelRanker import ModelRanker\n",
    "from octis.dataset.dataset import Dataset"
   ],
   "outputs": [],
   "execution_count": null
  },
  {
   "cell_type": "code",
   "metadata": {},
   "source": [
    "dataset = Dataset()\n",
    "dataset.load_custom_dataset_from_folder(\"../../data/octis\")"
   ],
   "outputs": [],
   "execution_count": null
  },
  {
   "cell_type": "code",
   "metadata": {},
   "source": [
    "scheduler = Scheduler()\n",
    "metrics = scheduler.train_all_models_with_metrics_calculation(dataset)\n",
    "model_ranker = ModelRanker()\n",
    "ranking = model_ranker.rank_models(metrics)\n",
    "ranking"
   ],
   "outputs": [],
   "execution_count": null
  },
  {
   "metadata": {},
   "cell_type": "code",
   "source": "",
   "outputs": [],
   "execution_count": null
  }
 ],
 "metadata": {
  "kernelspec": {
   "display_name": "project-embedded",
   "language": "python",
   "name": "python3"
  },
  "language_info": {
   "codemirror_mode": {
    "name": "ipython",
    "version": 3
   },
   "file_extension": ".py",
   "mimetype": "text/x-python",
   "name": "python",
   "nbconvert_exporter": "python",
   "pygments_lexer": "ipython3",
   "version": "3.10.13"
  }
 },
 "nbformat": 4,
 "nbformat_minor": 2
}
