{
 "cells": [
  {
   "metadata": {},
   "cell_type": "markdown",
   "source": [
    "# Top2Vec model\n",
    "## Reading data from CSV"
   ],
   "id": "b572554f643c8372"
  },
  {
   "metadata": {
    "ExecuteTime": {
     "end_time": "2024-12-01T15:46:35.438725Z",
     "start_time": "2024-12-01T15:46:25.232335Z"
    }
   },
   "cell_type": "code",
   "source": [
    "import pandas as pd\n",
    "import matplotlib.pyplot as plt\n",
    "from gensim.models import phrases\n",
    "from top2vec import Top2Vec\n",
    "from sentence_transformers import SentenceTransformer\n",
    "\n",
    "from octis.dataset.dataset import Dataset\n",
    "\n",
    "from src.commons.parse_utils import parse_list_column\n",
    "from src.top2vec.utils import get_topvec_model_output, calculate_metrics"
   ],
   "id": "b37153dec704c1d5",
   "outputs": [
    {
     "name": "stderr",
     "output_type": "stream",
     "text": [
      "/home/mstrzezon/miniconda3/envs/adm/lib/python3.9/site-packages/tqdm/auto.py:21: TqdmWarning: IProgress not found. Please update jupyter and ipywidgets. See https://ipywidgets.readthedocs.io/en/stable/user_install.html\n",
      "  from .autonotebook import tqdm as notebook_tqdm\n",
      "Exception ignored in: <bound method IPythonKernel._clean_thread_parent_frames of <ipykernel.ipkernel.IPythonKernel object at 0x7fb4e4651ca0>>\n",
      "Traceback (most recent call last):\n",
      "  File \"/home/mstrzezon/miniconda3/envs/adm/lib/python3.9/site-packages/ipykernel/ipkernel.py\", line 775, in _clean_thread_parent_frames\n",
      "    def _clean_thread_parent_frames(\n",
      "KeyboardInterrupt: \n"
     ]
    }
   ],
   "execution_count": 1
  },
  {
   "metadata": {
    "ExecuteTime": {
     "end_time": "2024-12-01T15:46:41.642197Z",
     "start_time": "2024-12-01T15:46:35.456996Z"
    }
   },
   "cell_type": "code",
   "source": [
    "csv_file = \"../../data/arxiv_processed.csv\"\n",
    "data = pd.read_csv(csv_file, sep=\";\", converters={'Processed Summary': parse_list_column})"
   ],
   "id": "7becaa97d7763e98",
   "outputs": [],
   "execution_count": 2
  },
  {
   "metadata": {
    "ExecuteTime": {
     "end_time": "2024-12-01T15:46:41.713482Z",
     "start_time": "2024-12-01T15:46:41.700646Z"
    }
   },
   "cell_type": "code",
   "source": "data.head()",
   "id": "d56db1bb5171e8f0",
   "outputs": [
    {
     "data": {
      "text/plain": [
       "                                  ID  \\\n",
       "0  http://arxiv.org/abs/cs/0002002v1   \n",
       "1  http://arxiv.org/abs/cs/0002003v1   \n",
       "2  http://arxiv.org/abs/cs/0002009v1   \n",
       "3  http://arxiv.org/abs/cs/0003008v1   \n",
       "4  http://arxiv.org/abs/cs/0003016v1   \n",
       "\n",
       "                                               Title  \\\n",
       "0  Uniform semantic treatment of default and auto...   \n",
       "1           On the accuracy and running time of GSAT   \n",
       "2  Syntactic Autonomy: Why There is no Autonomy w...   \n",
       "3  Consistency Management of Normal Logic Program...   \n",
       "4  Abductive and Consistency-Based Diagnosis Revi...   \n",
       "\n",
       "                                             Summary             Published  \\\n",
       "0  We revisit the issue of connections between tw...  2000-02-03T21:44:57Z   \n",
       "1  Randomized algorithms for deciding satisfiabil...  2000-02-04T12:53:57Z   \n",
       "2  Two different types of agency are discussed ba...  2000-02-16T18:09:20Z   \n",
       "3  This paper presents a method of computing a re...  2000-03-05T10:29:03Z   \n",
       "4  Diagnostic reasoning has been characterized lo...  2000-03-07T11:39:53Z   \n",
       "\n",
       "                            PDF Link  \\\n",
       "0  http://arxiv.org/pdf/cs/0002002v1   \n",
       "1  http://arxiv.org/pdf/cs/0002003v1   \n",
       "2  http://arxiv.org/pdf/cs/0002009v1   \n",
       "3  http://arxiv.org/pdf/cs/0003008v1   \n",
       "4  http://arxiv.org/pdf/cs/0003016v1   \n",
       "\n",
       "                                   Processed Summary  \n",
       "0  [revisit, issue, connection, two, leading, for...  \n",
       "1  [randomized, algorithm, deciding, satisfiabili...  \n",
       "2  [two, different, type, agency, discussed, base...  \n",
       "3  [paper, present, method, computing, revision, ...  \n",
       "4  [diagnostic, reasoning, characterized, logical...  "
      ],
      "text/html": [
       "<div>\n",
       "<style scoped>\n",
       "    .dataframe tbody tr th:only-of-type {\n",
       "        vertical-align: middle;\n",
       "    }\n",
       "\n",
       "    .dataframe tbody tr th {\n",
       "        vertical-align: top;\n",
       "    }\n",
       "\n",
       "    .dataframe thead th {\n",
       "        text-align: right;\n",
       "    }\n",
       "</style>\n",
       "<table border=\"1\" class=\"dataframe\">\n",
       "  <thead>\n",
       "    <tr style=\"text-align: right;\">\n",
       "      <th></th>\n",
       "      <th>ID</th>\n",
       "      <th>Title</th>\n",
       "      <th>Summary</th>\n",
       "      <th>Published</th>\n",
       "      <th>PDF Link</th>\n",
       "      <th>Processed Summary</th>\n",
       "    </tr>\n",
       "  </thead>\n",
       "  <tbody>\n",
       "    <tr>\n",
       "      <th>0</th>\n",
       "      <td>http://arxiv.org/abs/cs/0002002v1</td>\n",
       "      <td>Uniform semantic treatment of default and auto...</td>\n",
       "      <td>We revisit the issue of connections between tw...</td>\n",
       "      <td>2000-02-03T21:44:57Z</td>\n",
       "      <td>http://arxiv.org/pdf/cs/0002002v1</td>\n",
       "      <td>[revisit, issue, connection, two, leading, for...</td>\n",
       "    </tr>\n",
       "    <tr>\n",
       "      <th>1</th>\n",
       "      <td>http://arxiv.org/abs/cs/0002003v1</td>\n",
       "      <td>On the accuracy and running time of GSAT</td>\n",
       "      <td>Randomized algorithms for deciding satisfiabil...</td>\n",
       "      <td>2000-02-04T12:53:57Z</td>\n",
       "      <td>http://arxiv.org/pdf/cs/0002003v1</td>\n",
       "      <td>[randomized, algorithm, deciding, satisfiabili...</td>\n",
       "    </tr>\n",
       "    <tr>\n",
       "      <th>2</th>\n",
       "      <td>http://arxiv.org/abs/cs/0002009v1</td>\n",
       "      <td>Syntactic Autonomy: Why There is no Autonomy w...</td>\n",
       "      <td>Two different types of agency are discussed ba...</td>\n",
       "      <td>2000-02-16T18:09:20Z</td>\n",
       "      <td>http://arxiv.org/pdf/cs/0002009v1</td>\n",
       "      <td>[two, different, type, agency, discussed, base...</td>\n",
       "    </tr>\n",
       "    <tr>\n",
       "      <th>3</th>\n",
       "      <td>http://arxiv.org/abs/cs/0003008v1</td>\n",
       "      <td>Consistency Management of Normal Logic Program...</td>\n",
       "      <td>This paper presents a method of computing a re...</td>\n",
       "      <td>2000-03-05T10:29:03Z</td>\n",
       "      <td>http://arxiv.org/pdf/cs/0003008v1</td>\n",
       "      <td>[paper, present, method, computing, revision, ...</td>\n",
       "    </tr>\n",
       "    <tr>\n",
       "      <th>4</th>\n",
       "      <td>http://arxiv.org/abs/cs/0003016v1</td>\n",
       "      <td>Abductive and Consistency-Based Diagnosis Revi...</td>\n",
       "      <td>Diagnostic reasoning has been characterized lo...</td>\n",
       "      <td>2000-03-07T11:39:53Z</td>\n",
       "      <td>http://arxiv.org/pdf/cs/0003016v1</td>\n",
       "      <td>[diagnostic, reasoning, characterized, logical...</td>\n",
       "    </tr>\n",
       "  </tbody>\n",
       "</table>\n",
       "</div>"
      ]
     },
     "execution_count": 3,
     "metadata": {},
     "output_type": "execute_result"
    }
   ],
   "execution_count": 3
  },
  {
   "metadata": {
    "ExecuteTime": {
     "end_time": "2024-12-01T15:46:42.887520Z",
     "start_time": "2024-12-01T15:46:42.038186Z"
    }
   },
   "cell_type": "code",
   "source": [
    "dataset = Dataset()\n",
    "dataset.load_custom_dataset_from_folder(\"../../data/octis\")"
   ],
   "id": "f549758c28b55bd5",
   "outputs": [],
   "execution_count": 4
  },
  {
   "metadata": {},
   "cell_type": "markdown",
   "source": "## Top2Vec with Doc2Vec for embeddings",
   "id": "36f45019ce1ea8af"
  },
  {
   "metadata": {
    "ExecuteTime": {
     "end_time": "2024-12-01T15:46:53.916913Z",
     "start_time": "2024-12-01T15:46:42.933471Z"
    }
   },
   "cell_type": "code",
   "source": [
    "summaries = data['Summary'].tolist()\n",
    "model = Top2Vec(summaries, embedding_model='doc2vec')"
   ],
   "id": "dafbc387c1d36e0d",
   "outputs": [
    {
     "name": "stderr",
     "output_type": "stream",
     "text": [
      "2024-12-01 16:46:42,944 - top2vec - INFO - Pre-processing documents for training\n",
      "Exception ignored in: <bound method IPythonKernel._clean_thread_parent_frames of <ipykernel.ipkernel.IPythonKernel object at 0x7fb4e4651ca0>>\n",
      "Traceback (most recent call last):\n",
      "  File \"/home/mstrzezon/miniconda3/envs/adm/lib/python3.9/site-packages/ipykernel/ipkernel.py\", line 775, in _clean_thread_parent_frames\n",
      "    def _clean_thread_parent_frames(\n",
      "KeyboardInterrupt: \n",
      "\n",
      "KeyboardInterrupt\n",
      "\n"
     ]
    }
   ],
   "execution_count": 5
  },
  {
   "metadata": {
    "ExecuteTime": {
     "end_time": "2024-12-01T15:47:30.866364Z",
     "start_time": "2024-12-01T15:47:14.816890Z"
    }
   },
   "cell_type": "code",
   "source": "model = Top2Vec.load('unprocess_doc2vec')",
   "id": "84ab159d624c1532",
   "outputs": [],
   "execution_count": 6
  },
  {
   "metadata": {
    "ExecuteTime": {
     "end_time": "2024-12-01T15:20:53.545281Z",
     "start_time": "2024-12-01T15:20:52.070467Z"
    }
   },
   "cell_type": "code",
   "source": "model.save('unprocess_doc2vec')",
   "id": "c5a137bc20db1850",
   "outputs": [],
   "execution_count": 20
  },
  {
   "metadata": {},
   "cell_type": "markdown",
   "source": [
    "### Results exploration\n",
    "Having data and model trained, we can explore the results. Let's check the number of topics and the number of documents in each topic."
   ],
   "id": "b554f96e601fb88a"
  },
  {
   "metadata": {
    "ExecuteTime": {
     "end_time": "2024-12-01T15:47:30.899355Z",
     "start_time": "2024-12-01T15:47:30.894615Z"
    }
   },
   "cell_type": "code",
   "source": "model.get_num_topics()",
   "id": "df73057493b3e419",
   "outputs": [
    {
     "data": {
      "text/plain": [
       "288"
      ]
     },
     "execution_count": 7,
     "metadata": {},
     "output_type": "execute_result"
    }
   ],
   "execution_count": 7
  },
  {
   "metadata": {
    "ExecuteTime": {
     "end_time": "2024-12-01T15:47:30.948431Z",
     "start_time": "2024-12-01T15:47:30.942650Z"
    }
   },
   "cell_type": "code",
   "source": [
    "topic_sizes, topic_nums = model.get_topic_sizes()\n",
    "topic_sizes"
   ],
   "id": "17b10dcdc4c1c68e",
   "outputs": [
    {
     "data": {
      "text/plain": [
       "array([646, 640, 526, 456, 420, 400, 394, 348, 346, 339, 337, 332, 331,\n",
       "       328, 320, 318, 317, 307, 306, 301, 293, 293, 291, 289, 277, 275,\n",
       "       259, 258, 253, 248, 245, 244, 239, 237, 229, 228, 226, 225, 220,\n",
       "       220, 212, 208, 203, 202, 200, 197, 196, 195, 195, 192, 188, 187,\n",
       "       186, 184, 182, 181, 180, 180, 177, 173, 168, 166, 164, 161, 160,\n",
       "       158, 158, 157, 155, 155, 155, 152, 150, 150, 147, 145, 145, 145,\n",
       "       144, 144, 144, 143, 137, 136, 135, 133, 130, 130, 129, 128, 128,\n",
       "       126, 122, 122, 122, 122, 121, 118, 117, 116, 116, 115, 114, 113,\n",
       "       112, 109, 107, 107, 105, 105, 105, 105, 103, 103, 103, 102, 101,\n",
       "       100,  99,  99,  99,  99,  99,  97,  96,  95,  94,  93,  93,  93,\n",
       "        92,  91,  91,  90,  89,  89,  89,  88,  87,  86,  85,  84,  84,\n",
       "        83,  82,  82,  82,  81,  81,  81,  81,  80,  80,  80,  79,  79,\n",
       "        79,  79,  78,  78,  77,  77,  76,  76,  75,  73,  73,  72,  71,\n",
       "        71,  70,  69,  69,  69,  69,  68,  68,  67,  67,  67,  66,  66,\n",
       "        65,  65,  65,  64,  64,  64,  64,  63,  63,  63,  63,  62,  62,\n",
       "        62,  62,  62,  62,  62,  62,  61,  61,  61,  61,  60,  60,  59,\n",
       "        58,  58,  58,  58,  58,  57,  57,  56,  56,  55,  55,  54,  54,\n",
       "        53,  53,  53,  52,  52,  52,  52,  52,  52,  52,  51,  51,  50,\n",
       "        50,  49,  49,  49,  49,  49,  48,  48,  47,  47,  46,  45,  45,\n",
       "        44,  44,  43,  42,  42,  42,  41,  41,  41,  41,  41,  40,  40,\n",
       "        39,  39,  39,  38,  37,  37,  36,  35,  35,  34,  33,  32,  31,\n",
       "        31,  31,  30,  30,  29,  29,  28,  28,  26,  26,  25,  23,  23,\n",
       "        23,  22])"
      ]
     },
     "execution_count": 8,
     "metadata": {},
     "output_type": "execute_result"
    }
   ],
   "execution_count": 8
  },
  {
   "metadata": {
    "ExecuteTime": {
     "end_time": "2024-12-01T15:47:31.019650Z",
     "start_time": "2024-12-01T15:47:31.011725Z"
    }
   },
   "cell_type": "code",
   "source": [
    "topics_words, _, _ = model.get_topics()\n",
    "topics_words"
   ],
   "id": "ad6c40b5a02019f7",
   "outputs": [
    {
     "data": {
      "text/plain": [
       "array([['consciousness', 'conscious', 'brains', ..., 'psychological',\n",
       "        'biology', 'linguistics'],\n",
       "       ['survey', 'overview', 'review', ..., 'development',\n",
       "        'practitioners', 'systematic'],\n",
       "       ['governance', 'ethical', 'accountability', ..., 'agencies',\n",
       "        'agency', 'political'],\n",
       "       ...,\n",
       "       ['humor', 'headlines', 'edited', ..., 'subtask', 'english',\n",
       "        'collective'],\n",
       "       ['fingerprint', 'fingerprints', 'biometric', ..., 'pa',\n",
       "        'membership', 'leakage'],\n",
       "       ['mtl', 'vsr', 'tsc', ..., 'pressure', 'harmful', 'emotion']],\n",
       "      dtype='<U15')"
      ]
     },
     "execution_count": 9,
     "metadata": {},
     "output_type": "execute_result"
    }
   ],
   "execution_count": 9
  },
  {
   "metadata": {},
   "cell_type": "markdown",
   "source": "## Histogram of clusters size",
   "id": "d69bdf8772ceb950"
  },
  {
   "metadata": {
    "ExecuteTime": {
     "end_time": "2024-12-01T15:47:31.561267Z",
     "start_time": "2024-12-01T15:47:31.073157Z"
    }
   },
   "cell_type": "code",
   "source": "plt.bar(topic_nums, topic_sizes)",
   "id": "f404d62e45a7bf26",
   "outputs": [
    {
     "data": {
      "text/plain": [
       "<BarContainer object of 288 artists>"
      ]
     },
     "execution_count": 10,
     "metadata": {},
     "output_type": "execute_result"
    },
    {
     "data": {
      "text/plain": [
       "<Figure size 640x480 with 1 Axes>"
      ],
      "image/png": "[encoded data removed]"
     },
     "metadata": {},
     "output_type": "display_data"
    }
   ],
   "execution_count": 10
  },
  {
   "metadata": {},
   "cell_type": "markdown",
   "source": "### Metrics",
   "id": "5997ed88c4309846"
  },
  {
   "metadata": {
    "ExecuteTime": {
     "end_time": "2024-12-01T15:47:31.612707Z",
     "start_time": "2024-12-01T15:47:31.606387Z"
    }
   },
   "cell_type": "code",
   "source": [
    "topics = topics_words[:, :30]\n",
    "topics"
   ],
   "id": "de567fe4affc0d4b",
   "outputs": [
    {
     "data": {
      "text/plain": [
       "array([['consciousness', 'conscious', 'brains', ..., 'what', 'argued',\n",
       "        'intelligent'],\n",
       "       ['survey', 'overview', 'review', ..., 'categorizing',\n",
       "        'directions', 'breakthroughs'],\n",
       "       ['governance', 'ethical', 'accountability', ..., 'participatory',\n",
       "        'oversight', 'policymakers'],\n",
       "       ...,\n",
       "       ['humor', 'headlines', 'edited', ..., 'hindi', 'reid', 'artists'],\n",
       "       ['fingerprint', 'fingerprints', 'biometric', ..., 'protection',\n",
       "        'identity', 'localize'],\n",
       "       ['mtl', 'vsr', 'tsc', ..., 'ignores', 'dnnf', 'tokenizer']],\n",
       "      dtype='<U15')"
      ]
     },
     "execution_count": 11,
     "metadata": {},
     "output_type": "execute_result"
    }
   ],
   "execution_count": 11
  },
  {
   "metadata": {
    "ExecuteTime": {
     "end_time": "2024-12-01T15:47:31.656111Z",
     "start_time": "2024-12-01T15:47:31.652024Z"
    }
   },
   "cell_type": "code",
   "source": [
    "topic_vectors = model.topic_vectors\n",
    "document_vectors = model.document_vectors"
   ],
   "id": "cb0175243fc75ccd",
   "outputs": [],
   "execution_count": 12
  },
  {
   "metadata": {
    "ExecuteTime": {
     "end_time": "2024-12-01T15:21:22.247767Z",
     "start_time": "2024-12-01T15:21:14.062655Z"
    }
   },
   "cell_type": "code",
   "source": "model = Top2Vec.load('unprocess_doc2vec')",
   "id": "7f9149441e077c1e",
   "outputs": [],
   "execution_count": 22
  },
  {
   "metadata": {
    "ExecuteTime": {
     "end_time": "2024-12-01T15:47:35.643027Z",
     "start_time": "2024-12-01T15:47:31.802795Z"
    }
   },
   "cell_type": "code",
   "source": "model_output = get_topvec_model_output(data, model.doc_top, topics, topic_vectors, document_vectors)",
   "id": "23524dc5e2499995",
   "outputs": [
    {
     "name": "stdout",
     "output_type": "stream",
     "text": [
      "34427\n",
      "34427\n"
     ]
    }
   ],
   "execution_count": 13
  },
  {
   "metadata": {
    "ExecuteTime": {
     "end_time": "2024-12-01T15:49:42.790014Z",
     "start_time": "2024-12-01T15:48:24.088949Z"
    }
   },
   "cell_type": "code",
   "source": "model_metrics = calculate_metrics(model_output, dataset, verbose=True)",
   "id": "a3027812126867e",
   "outputs": [
    {
     "name": "stdout",
     "output_type": "stream",
     "text": [
      "UMass: -5.736301952669944\n",
      "NPMI: 0.06626595564213907\n",
      "C_V: 0.6158134225247761\n",
      "Topic Diversity: 0.6461805555555555\n",
      "Inverted RBO: 0.9978366523483341\n",
      "Pairwise Jaccard: 0.002146505346814698\n",
      "KL Uniform: 3.314562654172663\n",
      "KL Vacuous: 2.9158594172365375\n",
      "KL Background: 0.018576207296858865\n"
     ]
    }
   ],
   "execution_count": 14
  },
  {
   "metadata": {},
   "cell_type": "markdown",
   "source": "## Top2Vec with Doc2Vec for embeddings [Processed data]",
   "id": "53ef9d1994c188d"
  },
  {
   "metadata": {
    "ExecuteTime": {
     "end_time": "2024-12-01T14:44:00.331225Z",
     "start_time": "2024-12-01T14:44:00.324890Z"
    }
   },
   "cell_type": "code",
   "source": [
    "def custom_tokenizer(text):\n",
    "    return text.split(' ')"
   ],
   "id": "c7675a8ddd2f9332",
   "outputs": [],
   "execution_count": 1
  },
  {
   "metadata": {
    "ExecuteTime": {
     "end_time": "2024-11-20T20:37:08.998392Z",
     "start_time": "2024-11-20T20:31:36.619814Z"
    }
   },
   "cell_type": "code",
   "source": [
    "summaries = data['Processed Summary'].apply(lambda x: ' '.join(x)).tolist()\n",
    "model = Top2Vec(summaries, tokenizer=custom_tokenizer, embedding_model='doc2vec')"
   ],
   "id": "1eafb5a064c37b60",
   "outputs": [
    {
     "name": "stderr",
     "output_type": "stream",
     "text": [
      "2024-11-20 21:31:36,712 - top2vec - INFO - Pre-processing documents for training\n",
      "2024-11-20 21:31:37,363 - top2vec - INFO - Creating joint document/word embedding\n",
      "2024-11-20 21:36:35,968 - top2vec - INFO - Creating lower dimension embedding of documents\n",
      "2024-11-20 21:37:06,341 - top2vec - INFO - Finding dense areas of documents\n",
      "2024-11-20 21:37:08,455 - top2vec - INFO - Finding topics\n"
     ]
    }
   ],
   "execution_count": 6
  },
  {
   "metadata": {
    "ExecuteTime": {
     "end_time": "2024-11-20T20:37:21.959807Z",
     "start_time": "2024-11-20T20:37:21.190459Z"
    }
   },
   "cell_type": "code",
   "source": "model.save('test')",
   "id": "bb446682ee24278",
   "outputs": [],
   "execution_count": 13
  },
  {
   "metadata": {},
   "cell_type": "markdown",
   "source": [
    "### Results exploration\n",
    "Having data and model trained, we can explore the results. Let's check the number of topics and the number of documents in each topic."
   ],
   "id": "bf86c7b6d212d14d"
  },
  {
   "metadata": {
    "ExecuteTime": {
     "end_time": "2024-11-20T20:37:09.012629Z",
     "start_time": "2024-11-20T20:37:09.008757Z"
    }
   },
   "cell_type": "code",
   "source": "model.get_num_topics()",
   "id": "98871b40bfd97ff1",
   "outputs": [
    {
     "data": {
      "text/plain": [
       "329"
      ]
     },
     "execution_count": 7,
     "metadata": {},
     "output_type": "execute_result"
    }
   ],
   "execution_count": 7
  },
  {
   "metadata": {
    "ExecuteTime": {
     "end_time": "2024-11-20T20:37:09.185292Z",
     "start_time": "2024-11-20T20:37:09.177852Z"
    }
   },
   "cell_type": "code",
   "source": [
    "topic_sizes, topic_nums = model.get_topic_sizes()\n",
    "topic_sizes"
   ],
   "id": "327160cd17d13d82",
   "outputs": [
    {
     "data": {
      "text/plain": [
       "array([592, 587, 526, 449, 413, 404, 385, 369, 361, 361, 361, 352, 343,\n",
       "       341, 341, 322, 308, 307, 304, 301, 294, 289, 277, 275, 264, 264,\n",
       "       260, 259, 248, 247, 242, 229, 226, 221, 220, 217, 217, 210, 210,\n",
       "       210, 209, 205, 205, 201, 195, 190, 188, 188, 177, 174, 164, 164,\n",
       "       163, 160, 159, 158, 157, 154, 153, 152, 152, 151, 151, 148, 148,\n",
       "       145, 141, 139, 138, 137, 135, 134, 134, 132, 131, 130, 128, 126,\n",
       "       126, 125, 124, 123, 122, 122, 121, 121, 121, 119, 119, 117, 115,\n",
       "       113, 110, 110, 110, 110, 109, 109, 109, 108, 108, 106, 106, 105,\n",
       "       104, 104, 104, 103, 103, 102, 101, 100, 100, 100,  99,  99,  99,\n",
       "        99,  99,  98,  97,  97,  96,  95,  95,  92,  90,  90,  90,  89,\n",
       "        89,  88,  88,  87,  86,  86,  86,  85,  84,  84,  84,  83,  83,\n",
       "        83,  82,  81,  80,  80,  79,  77,  77,  77,  76,  76,  75,  75,\n",
       "        74,  74,  74,  73,  73,  72,  71,  70,  70,  70,  70,  70,  69,\n",
       "        68,  68,  68,  67,  67,  67,  67,  67,  67,  66,  65,  65,  65,\n",
       "        65,  65,  65,  63,  63,  63,  62,  62,  62,  62,  60,  60,  60,\n",
       "        59,  59,  59,  59,  58,  58,  58,  58,  57,  57,  57,  56,  55,\n",
       "        55,  55,  55,  55,  55,  55,  55,  54,  54,  54,  54,  54,  53,\n",
       "        52,  52,  51,  51,  51,  51,  51,  50,  49,  49,  49,  49,  49,\n",
       "        48,  48,  48,  48,  47,  47,  47,  46,  46,  46,  45,  45,  45,\n",
       "        45,  44,  44,  44,  44,  44,  43,  43,  43,  43,  42,  42,  41,\n",
       "        41,  41,  41,  41,  41,  41,  40,  40,  40,  40,  40,  39,  39,\n",
       "        39,  39,  39,  38,  37,  37,  37,  37,  37,  37,  37,  37,  36,\n",
       "        36,  36,  35,  35,  35,  35,  34,  34,  34,  34,  33,  33,  33,\n",
       "        31,  31,  31,  31,  31,  31,  30,  30,  29,  28,  27,  27,  27,\n",
       "        27,  27,  26,  26,  26,  26,  25,  25,  25,  25,  24,  23,  22,\n",
       "        22,  21,  21,  19])"
      ]
     },
     "execution_count": 8,
     "metadata": {},
     "output_type": "execute_result"
    }
   ],
   "execution_count": 8
  },
  {
   "metadata": {
    "ExecuteTime": {
     "end_time": "2024-11-20T20:37:09.287487Z",
     "start_time": "2024-11-20T20:37:09.282636Z"
    }
   },
   "cell_type": "code",
   "source": [
    "topics_words, _, _ = model.get_topics()\n",
    "topics_words"
   ],
   "id": "38e9031e12b1594a",
   "outputs": [
    {
     "data": {
      "text/plain": [
       "array([['survey', 'overview', 'review', ..., 'discipline', 'trend',\n",
       "        'technical'],\n",
       "       ['consciousness', 'conscious', 'turing', ..., 'universe',\n",
       "        'creativity', 'briefly'],\n",
       "       ['pruning', 'accelerator', 'quantization', ..., 'dnns',\n",
       "        'imagenet', 'snn'],\n",
       "       ...,\n",
       "       ['fm', 'federated', 'gai', ..., 'sector', 'alphago', 'slms'],\n",
       "       ['lvlms', 'hallucination', 'factuality', ..., 'mrc', 'fluent',\n",
       "        'proficiency'],\n",
       "       ['tm', 'clause', 'automaton', ..., 'viability', 'interpreting',\n",
       "        'philosophical']], dtype='<U17')"
      ]
     },
     "execution_count": 9,
     "metadata": {},
     "output_type": "execute_result"
    }
   ],
   "execution_count": 9
  },
  {
   "metadata": {
    "ExecuteTime": {
     "end_time": "2024-11-20T20:37:09.946088Z",
     "start_time": "2024-11-20T20:37:09.428123Z"
    }
   },
   "cell_type": "code",
   "source": "plt.bar(topic_nums, topic_sizes)",
   "id": "5c1524fc8662508f",
   "outputs": [
    {
     "data": {
      "text/plain": [
       "<BarContainer object of 329 artists>"
      ]
     },
     "execution_count": 10,
     "metadata": {},
     "output_type": "execute_result"
    },
    {
     "data": {
      "text/plain": [
       "<Figure size 640x480 with 1 Axes>"
      ],
      "image/png": "[encoded data removed]"
     },
     "metadata": {},
     "output_type": "display_data"
    }
   ],
   "execution_count": 10
  },
  {
   "metadata": {},
   "cell_type": "markdown",
   "source": "### Metrics",
   "id": "f919d101cf65bb63"
  },
  {
   "metadata": {
    "ExecuteTime": {
     "end_time": "2024-11-20T20:37:10.000623Z",
     "start_time": "2024-11-20T20:37:09.995971Z"
    }
   },
   "cell_type": "code",
   "source": [
    "topics = topics_words[:, :30]\n",
    "topics"
   ],
   "id": "cd90ea0ff4f9f006",
   "outputs": [
    {
     "data": {
      "text/plain": [
       "array([['survey', 'overview', 'review', ..., 'ai', 'foundational',\n",
       "        'reviewed'],\n",
       "       ['consciousness', 'conscious', 'turing', ..., 'biological',\n",
       "        'biology', 'thinking'],\n",
       "       ['pruning', 'accelerator', 'quantization', ..., 'prune',\n",
       "        'throughput', 'overhead'],\n",
       "       ...,\n",
       "       ['fm', 'federated', 'gai', ..., 'surge', 'revolutionized',\n",
       "        'tremendous'],\n",
       "       ['lvlms', 'hallucination', 'factuality', ..., 'premise',\n",
       "        'responding', 'argumentative'],\n",
       "       ['tm', 'clause', 'automaton', ..., 'accomplish', 'vote',\n",
       "        'interpreter']], dtype='<U17')"
      ]
     },
     "execution_count": 11,
     "metadata": {},
     "output_type": "execute_result"
    }
   ],
   "execution_count": 11
  },
  {
   "metadata": {
    "ExecuteTime": {
     "end_time": "2024-11-20T20:37:10.075903Z",
     "start_time": "2024-11-20T20:37:10.073057Z"
    }
   },
   "cell_type": "code",
   "source": [
    "topic_vectors = model.topic_vectors\n",
    "document_vectors = model.document_vectors"
   ],
   "id": "32b9d70a102b438",
   "outputs": [],
   "execution_count": 12
  },
  {
   "metadata": {
    "ExecuteTime": {
     "end_time": "2024-11-20T20:37:55.296360Z",
     "start_time": "2024-11-20T20:37:50.003987Z"
    }
   },
   "cell_type": "code",
   "source": "model_output = get_topvec_model_output(data, model.doc_top, topics, topic_vectors, document_vectors)",
   "id": "58825e4ba7bd004f",
   "outputs": [],
   "execution_count": 14
  },
  {
   "metadata": {
    "ExecuteTime": {
     "end_time": "2024-11-20T20:40:34.794411Z",
     "start_time": "2024-11-20T20:38:48.516238Z"
    }
   },
   "cell_type": "code",
   "source": "model_metrics = calculate_metrics(model_output, dataset, verbose=True)",
   "id": "847f11f75f89eec0",
   "outputs": [
    {
     "name": "stdout",
     "output_type": "stream",
     "text": [
      "UMass: -5.044961188534626\n",
      "NPMI: 0.08995061046612617\n",
      "C_V: 0.6484357584491365\n",
      "Topic Diversity: 0.5635258358662614\n",
      "Inverted RBO: 0.9970947648661063\n",
      "Pairwise Jaccard: 0.0028133797389110027\n",
      "KL Uniform: 3.406733303614284\n",
      "KL Vacuous: 2.9195032574794832\n",
      "KL Background: 0.01786382096668742\n"
     ]
    }
   ],
   "execution_count": 19
  },
  {
   "metadata": {},
   "cell_type": "markdown",
   "source": "### Including n-grams in vocabulary",
   "id": "b5259d296a221f78"
  },
  {
   "metadata": {
    "ExecuteTime": {
     "end_time": "2024-11-20T20:59:12.079017Z",
     "start_time": "2024-11-20T20:53:20.795123Z"
    }
   },
   "cell_type": "code",
   "source": [
    "summaries = data['Processed Summary'].apply(lambda x: ' '.join(x)).tolist()\n",
    "model = Top2Vec(summaries, embedding_model='doc2vec', ngram_vocab=True, ngram_vocab_args={'connector_words': phrases.ENGLISH_CONNECTOR_WORDS})"
   ],
   "id": "8a7ed6bb3dec3271",
   "outputs": [
    {
     "name": "stderr",
     "output_type": "stream",
     "text": [
      "2024-11-20 21:53:20,901 - top2vec - INFO - Pre-processing documents for training\n",
      "2024-11-20 21:53:28,566 - top2vec - INFO - Creating joint document/word embedding\n",
      "2024-11-20 21:58:59,948 - top2vec - INFO - Creating lower dimension embedding of documents\n",
      "2024-11-20 21:59:08,970 - top2vec - INFO - Finding dense areas of documents\n",
      "2024-11-20 21:59:10,904 - top2vec - INFO - Finding topics\n"
     ]
    }
   ],
   "execution_count": 15
  },
  {
   "metadata": {
    "ExecuteTime": {
     "end_time": "2024-11-20T20:59:36.839097Z",
     "start_time": "2024-11-20T20:59:35.950672Z"
    }
   },
   "cell_type": "code",
   "source": "model.save('processed_doc2vec_ngram_vocab')",
   "id": "f5044aecd4430d89",
   "outputs": [],
   "execution_count": 23
  },
  {
   "metadata": {},
   "cell_type": "markdown",
   "source": "### Results exploration",
   "id": "b82dc36096912758"
  },
  {
   "metadata": {
    "ExecuteTime": {
     "end_time": "2024-11-20T20:59:12.090995Z",
     "start_time": "2024-11-20T20:59:12.086627Z"
    }
   },
   "cell_type": "code",
   "source": "model.get_num_topics()",
   "id": "88a170bd2610e4a7",
   "outputs": [
    {
     "data": {
      "text/plain": [
       "326"
      ]
     },
     "execution_count": 16,
     "metadata": {},
     "output_type": "execute_result"
    }
   ],
   "execution_count": 16
  },
  {
   "metadata": {},
   "cell_type": "markdown",
   "source": "Number of topics is similar",
   "id": "bc0e97c06b2487ac"
  },
  {
   "metadata": {
    "ExecuteTime": {
     "end_time": "2024-11-20T20:59:12.209444Z",
     "start_time": "2024-11-20T20:59:12.204784Z"
    }
   },
   "cell_type": "code",
   "source": [
    "topic_sizes, topic_nums = model.get_topic_sizes()\n",
    "topic_sizes"
   ],
   "id": "a2e6a4a4f0802307",
   "outputs": [
    {
     "data": {
      "text/plain": [
       "array([613, 504, 484, 461, 449, 441, 406, 367, 364, 352, 348, 346, 337,\n",
       "       303, 297, 288, 286, 283, 282, 279, 278, 278, 266, 262, 256, 254,\n",
       "       253, 245, 244, 243, 230, 228, 227, 214, 214, 211, 211, 210, 207,\n",
       "       203, 202, 191, 186, 185, 184, 181, 177, 169, 169, 169, 165, 164,\n",
       "       164, 163, 161, 161, 160, 158, 157, 157, 156, 154, 153, 153, 153,\n",
       "       152, 152, 152, 149, 148, 147, 145, 142, 142, 141, 141, 140, 140,\n",
       "       139, 138, 137, 135, 135, 134, 133, 132, 132, 131, 128, 128, 126,\n",
       "       126, 125, 124, 123, 122, 121, 120, 118, 118, 117, 114, 113, 110,\n",
       "       110, 109, 109, 109, 109, 109, 108, 105, 103, 102, 102, 101, 101,\n",
       "       101,  99,  99,  99,  99,  98,  97,  97,  96,  95,  94,  93,  92,\n",
       "        92,  91,  89,  89,  88,  87,  87,  86,  86,  85,  85,  83,  83,\n",
       "        82,  82,  81,  81,  81,  81,  79,  79,  78,  78,  77,  77,  76,\n",
       "        76,  76,  76,  75,  75,  74,  74,  74,  74,  73,  73,  72,  72,\n",
       "        72,  72,  71,  71,  71,  70,  69,  69,  68,  68,  68,  67,  67,\n",
       "        66,  66,  65,  65,  65,  65,  64,  64,  62,  62,  61,  61,  61,\n",
       "        60,  59,  59,  59,  58,  58,  58,  57,  57,  57,  56,  56,  56,\n",
       "        55,  55,  55,  54,  54,  54,  53,  53,  53,  53,  53,  52,  52,\n",
       "        52,  52,  52,  52,  52,  51,  51,  51,  50,  50,  50,  50,  50,\n",
       "        50,  49,  48,  48,  47,  47,  47,  46,  46,  46,  46,  45,  45,\n",
       "        45,  44,  44,  43,  42,  42,  42,  42,  41,  41,  41,  40,  39,\n",
       "        39,  39,  39,  39,  39,  38,  38,  38,  38,  38,  38,  37,  37,\n",
       "        37,  37,  37,  37,  36,  36,  36,  36,  36,  35,  35,  35,  35,\n",
       "        34,  34,  34,  33,  32,  32,  32,  32,  31,  31,  31,  31,  30,\n",
       "        30,  30,  29,  29,  29,  28,  28,  28,  28,  27,  27,  27,  27,\n",
       "        26,  26,  26,  25,  25,  25,  25,  24,  23,  23,  22,  22,  22,\n",
       "        20])"
      ]
     },
     "execution_count": 17,
     "metadata": {},
     "output_type": "execute_result"
    }
   ],
   "execution_count": 17
  },
  {
   "metadata": {
    "ExecuteTime": {
     "end_time": "2024-11-20T20:59:12.371983Z",
     "start_time": "2024-11-20T20:59:12.364664Z"
    }
   },
   "cell_type": "code",
   "source": [
    "topics_words, _, _ = model.get_topics()\n",
    "topics_words"
   ],
   "id": "c07de2b9daf980ee",
   "outputs": [
    {
     "data": {
      "text/plain": [
       "array([['comprehensive survey', 'survey', 'survey review', ...,\n",
       "        'offer insight', 'present comprehensive', 'survey delf'],\n",
       "       ['quantization', 'pruning', 'accelerator', ...,\n",
       "        'substantial reduction', 'negligible overhead',\n",
       "        'structured pruning'],\n",
       "       ['gnns', 'graph', 'node', ..., 'spectral', 'subgraph pattern',\n",
       "        'node attribute'],\n",
       "       ...,\n",
       "       ['cr', 'mechanical turk', 'increasing prevalence', ...,\n",
       "        'expectation maximization', 'auc maximization',\n",
       "        'recommendation system'],\n",
       "       ['lvlms', 'one simplest', 'even simplest', ..., 'creative arc',\n",
       "        'critically assess', 'logically consistent'],\n",
       "       ['aigc', 'content aigc', 'aigc detector', ..., 'chatgpt',\n",
       "        'understudied area', 'survey aim']], dtype='<U29')"
      ]
     },
     "execution_count": 18,
     "metadata": {},
     "output_type": "execute_result"
    }
   ],
   "execution_count": 18
  },
  {
   "metadata": {},
   "cell_type": "markdown",
   "source": "But now we see that some of topics words are digrams e.g. \"health care\"",
   "id": "a8d37baa06a1971a"
  },
  {
   "metadata": {
    "ExecuteTime": {
     "end_time": "2024-11-20T20:59:13.081123Z",
     "start_time": "2024-11-20T20:59:12.518317Z"
    }
   },
   "cell_type": "code",
   "source": "plt.bar(topic_nums, topic_sizes)",
   "id": "a2543d39220978bf",
   "outputs": [
    {
     "data": {
      "text/plain": [
       "<BarContainer object of 326 artists>"
      ]
     },
     "execution_count": 19,
     "metadata": {},
     "output_type": "execute_result"
    },
    {
     "data": {
      "text/plain": [
       "<Figure size 640x480 with 1 Axes>"
      ],
      "image/png": "[encoded data removed]"
     },
     "metadata": {},
     "output_type": "display_data"
    }
   ],
   "execution_count": 19
  },
  {
   "metadata": {},
   "cell_type": "markdown",
   "source": "### Load model",
   "id": "34dd279569818ca8"
  },
  {
   "metadata": {
    "ExecuteTime": {
     "end_time": "2024-11-20T21:23:09.141592Z",
     "start_time": "2024-11-20T21:23:08.722335Z"
    }
   },
   "cell_type": "code",
   "source": "model = Top2Vec.load('processed_doc2vec_ngram_vocab')",
   "id": "316293ec22ea757f",
   "outputs": [],
   "execution_count": 45
  },
  {
   "metadata": {},
   "cell_type": "markdown",
   "source": "### Metrics",
   "id": "1e89b381318f972e"
  },
  {
   "metadata": {
    "ExecuteTime": {
     "end_time": "2024-11-20T21:23:33.022717Z",
     "start_time": "2024-11-20T21:23:09.898775Z"
    }
   },
   "cell_type": "code",
   "source": [
    "topics_words, _, _ = model.get_topics()\n",
    "topics = topics_words[:, :30]\n",
    "topic_vectors = model.topic_vectors\n",
    "document_vectors = model.document_vectors\n",
    "\n",
    "model_output = get_topvec_model_output(data, model.doc_top, topics, topic_vectors, document_vectors)\n",
    "\n",
    "model_metrics = calculate_metrics(model_output, dataset, verbose=True)"
   ],
   "id": "a2c66427842d9423",
   "outputs": [
    {
     "name": "stdout",
     "output_type": "stream",
     "text": [
      "UMass: None\n",
      "NPMI: None\n",
      "C_V: None\n",
      "Topic Diversity: 0.9030674846625767\n",
      "Inverted RBO: 0.9995963395798348\n",
      "Pairwise Jaccard: 0.0003946365350702053\n",
      "KL Uniform: 3.40184697494933\n",
      "KL Vacuous: 2.920121909240558\n",
      "KL Background: 0.013488917807712759\n"
     ]
    }
   ],
   "execution_count": 46
  },
  {
   "metadata": {},
   "cell_type": "markdown",
   "source": "## Top2Vec with Doc2Vec for embeddings [Unprocessed data]",
   "id": "a3d6bf6b26929da2"
  },
  {
   "metadata": {
    "ExecuteTime": {
     "end_time": "2024-11-20T21:11:50.537277Z",
     "start_time": "2024-11-20T21:01:37.781527Z"
    }
   },
   "cell_type": "code",
   "source": [
    "summaries = data['Summary'].tolist()\n",
    "model = Top2Vec(summaries, embedding_model='doc2vec', ngram_vocab=True, ngram_vocab_args={'connector_words': phrases.ENGLISH_CONNECTOR_WORDS})"
   ],
   "id": "24af9b7020bbde8e",
   "outputs": [
    {
     "name": "stderr",
     "output_type": "stream",
     "text": [
      "2024-11-20 22:01:37,799 - top2vec - INFO - Pre-processing documents for training\n",
      "2024-11-20 22:01:48,877 - top2vec - INFO - Creating joint document/word embedding\n",
      "2024-11-20 22:11:39,208 - top2vec - INFO - Creating lower dimension embedding of documents\n",
      "2024-11-20 22:11:47,284 - top2vec - INFO - Finding dense areas of documents\n",
      "2024-11-20 22:11:49,151 - top2vec - INFO - Finding topics\n"
     ]
    }
   ],
   "execution_count": 24
  },
  {
   "metadata": {
    "ExecuteTime": {
     "end_time": "2024-11-20T21:11:51.466755Z",
     "start_time": "2024-11-20T21:11:50.543557Z"
    }
   },
   "cell_type": "code",
   "source": "model.save('unprocessed_doc2vec_ngram_vocab')",
   "id": "778da80c761b5a2b",
   "outputs": [],
   "execution_count": 25
  },
  {
   "metadata": {},
   "cell_type": "markdown",
   "source": "### Results exploration",
   "id": "419ed182a217735"
  },
  {
   "metadata": {
    "ExecuteTime": {
     "end_time": "2024-11-20T21:11:51.489300Z",
     "start_time": "2024-11-20T21:11:51.484850Z"
    }
   },
   "cell_type": "code",
   "source": "model.get_num_topics()",
   "id": "ad12bc1ad2530afa",
   "outputs": [
    {
     "data": {
      "text/plain": [
       "271"
      ]
     },
     "execution_count": 26,
     "metadata": {},
     "output_type": "execute_result"
    }
   ],
   "execution_count": 26
  },
  {
   "metadata": {
    "ExecuteTime": {
     "end_time": "2024-11-20T21:11:51.603632Z",
     "start_time": "2024-11-20T21:11:51.599363Z"
    }
   },
   "cell_type": "code",
   "source": [
    "topic_sizes, topic_nums = model.get_topic_sizes()\n",
    "topic_sizes"
   ],
   "id": "bb051803b0d36642",
   "outputs": [
    {
     "data": {
      "text/plain": [
       "array([684, 652, 633, 536, 454, 444, 411, 393, 375, 370, 359, 354, 348,\n",
       "       346, 343, 340, 330, 327, 317, 316, 311, 288, 287, 285, 285, 277,\n",
       "       276, 271, 268, 267, 266, 256, 249, 245, 242, 242, 239, 239, 232,\n",
       "       227, 224, 223, 223, 221, 220, 219, 215, 208, 207, 207, 202, 201,\n",
       "       195, 187, 184, 184, 183, 178, 178, 176, 176, 172, 172, 172, 164,\n",
       "       162, 161, 161, 161, 160, 158, 154, 154, 152, 147, 145, 142, 142,\n",
       "       140, 138, 138, 137, 136, 136, 135, 133, 132, 131, 130, 130, 128,\n",
       "       127, 125, 124, 123, 122, 122, 120, 118, 115, 115, 114, 114, 111,\n",
       "       109, 109, 108, 108, 107, 106, 106, 105, 105, 103, 103, 102, 101,\n",
       "        99,  99,  98,  97,  96,  96,  96,  95,  95,  95,  92,  92,  92,\n",
       "        90,  90,  89,  88,  88,  88,  86,  86,  86,  86,  86,  84,  84,\n",
       "        83,  82,  81,  80,  80,  80,  79,  78,  78,  77,  76,  76,  75,\n",
       "        74,  74,  74,  73,  73,  72,  72,  71,  70,  70,  69,  69,  69,\n",
       "        69,  69,  68,  68,  68,  67,  67,  67,  67,  66,  66,  65,  64,\n",
       "        64,  63,  63,  63,  63,  63,  62,  62,  61,  60,  60,  60,  59,\n",
       "        59,  59,  59,  59,  58,  58,  57,  56,  56,  55,  55,  55,  55,\n",
       "        55,  54,  54,  54,  53,  53,  52,  52,  52,  52,  51,  51,  51,\n",
       "        50,  50,  50,  50,  49,  48,  47,  46,  46,  45,  45,  45,  45,\n",
       "        45,  44,  44,  44,  44,  43,  40,  38,  38,  37,  36,  36,  35,\n",
       "        35,  35,  35,  34,  33,  33,  33,  32,  32,  32,  32,  32,  31,\n",
       "        31,  31,  29,  26,  26,  25,  25,  25,  25,  25,  23])"
      ]
     },
     "execution_count": 27,
     "metadata": {},
     "output_type": "execute_result"
    }
   ],
   "execution_count": 27
  },
  {
   "metadata": {
    "ExecuteTime": {
     "end_time": "2024-11-20T21:11:51.721206Z",
     "start_time": "2024-11-20T21:11:51.717476Z"
    }
   },
   "cell_type": "code",
   "source": [
    "topics_words, _, _ = model.get_topics()\n",
    "topics_words"
   ],
   "id": "998057ed69a517ae",
   "outputs": [
    {
     "data": {
      "text/plain": [
       "array([['artificial general', 'consciousness', 'general intelligence',\n",
       "        ..., 'what they', 'cognitive neuroscience', 'cognition'],\n",
       "       ['ethics', 'ethical', 'ethical principles', ..., 'about what',\n",
       "        'regulatory compliance', 'justice'],\n",
       "       ['comprehensive overview', 'comprehensive survey',\n",
       "        'detailed overview', ..., 'advances in the field',\n",
       "        'future developments', 'opportunities and challenges'],\n",
       "       ...,\n",
       "       ['fire', 'fire detection', 'fire lif', ..., 'allow us',\n",
       "        'web crawled', 'web browsing'],\n",
       "       ['cbr', 'reasoning cbr', 'indivisible goods', ...,\n",
       "        'make decisions', 'twin', 'effectively leverage'],\n",
       "       ['mtl', 'learning mtl', 'gating mechanism', ...,\n",
       "        'spurious correlation', 'greatly improved', 'leading cause']],\n",
       "      dtype='<U33')"
      ]
     },
     "execution_count": 28,
     "metadata": {},
     "output_type": "execute_result"
    }
   ],
   "execution_count": 28
  },
  {
   "metadata": {
    "ExecuteTime": {
     "end_time": "2024-11-20T21:11:52.348928Z",
     "start_time": "2024-11-20T21:11:51.887968Z"
    }
   },
   "cell_type": "code",
   "source": "plt.bar(topic_nums, topic_sizes)",
   "id": "e0cb5125753dc678",
   "outputs": [
    {
     "data": {
      "text/plain": [
       "<BarContainer object of 271 artists>"
      ]
     },
     "execution_count": 29,
     "metadata": {},
     "output_type": "execute_result"
    },
    {
     "data": {
      "text/plain": [
       "<Figure size 640x480 with 1 Axes>"
      ],
      "image/png": "[encoded data removed]"
     },
     "metadata": {},
     "output_type": "display_data"
    }
   ],
   "execution_count": 29
  },
  {
   "metadata": {},
   "cell_type": "markdown",
   "source": "In my opinion the topics top words are much more understandable when using unprocessed data with Doc2Vec and n-grams in vocabulary.",
   "id": "8980d30c4342a0be"
  },
  {
   "metadata": {},
   "cell_type": "markdown",
   "source": "### Load model",
   "id": "6929454bae6d9b2"
  },
  {
   "metadata": {
    "ExecuteTime": {
     "end_time": "2024-11-20T21:20:50.041643Z",
     "start_time": "2024-11-20T21:20:49.530654Z"
    }
   },
   "cell_type": "code",
   "source": "model = Top2Vec.load('unprocessed_doc2vec_ngram_vocab')",
   "id": "34d75efb71918952",
   "outputs": [],
   "execution_count": 43
  },
  {
   "metadata": {},
   "cell_type": "markdown",
   "source": "### Metrics",
   "id": "e976b887b15dcae3"
  },
  {
   "metadata": {
    "ExecuteTime": {
     "end_time": "2024-11-20T21:21:23.429470Z",
     "start_time": "2024-11-20T21:21:02.935699Z"
    }
   },
   "cell_type": "code",
   "source": [
    "topics_words, _, _ = model.get_topics()\n",
    "topics = topics_words[:, :30]\n",
    "topic_vectors = model.topic_vectors\n",
    "document_vectors = model.document_vectors\n",
    "\n",
    "model_output = get_topvec_model_output(data, model.doc_top, topics, topic_vectors, document_vectors)\n",
    "\n",
    "model_metrics = calculate_metrics(model_output, dataset, verbose=True)"
   ],
   "id": "157b5f3aca23de9e",
   "outputs": [
    {
     "name": "stdout",
     "output_type": "stream",
     "text": [
      "UMass: None\n",
      "NPMI: None\n",
      "C_V: None\n",
      "Topic Diversity: 0.9431734317343173\n",
      "Inverted RBO: 0.9997421875216578\n",
      "Pairwise Jaccard: 0.0002561330528433726\n",
      "KL Uniform: 3.3018714834090885\n",
      "KL Vacuous: 2.9212672892298506\n",
      "KL Background: 0.017906298924703152\n"
     ]
    }
   ],
   "execution_count": 44
  },
  {
   "metadata": {},
   "cell_type": "markdown",
   "source": "# Top2Vec with allenai-specter for embeddings",
   "id": "9d0d24303a6f0117"
  },
  {
   "metadata": {
    "ExecuteTime": {
     "end_time": "2024-11-19T20:20:24.926243Z",
     "start_time": "2024-11-19T20:20:23.294251Z"
    }
   },
   "cell_type": "code",
   "source": [
    "allenai_specter = SentenceTransformer('sentence-transformers/allenai-specter')\n",
    "embedding_model = allenai_specter.encode"
   ],
   "id": "9dace4ee1388b6e",
   "outputs": [],
   "execution_count": 50
  },
  {
   "metadata": {
    "ExecuteTime": {
     "end_time": "2024-11-19T20:48:36.748130Z",
     "start_time": "2024-11-19T20:20:26.592167Z"
    }
   },
   "cell_type": "code",
   "source": [
    "summaries = data['Summary'].tolist()\n",
    "model = Top2Vec(summaries, embedding_model=embedding_model, ngram_vocab=True, ngram_vocab_args={'connector_words': phrases.ENGLISH_CONNECTOR_WORDS})"
   ],
   "id": "65dcf298afdd0aa6",
   "outputs": [
    {
     "name": "stderr",
     "output_type": "stream",
     "text": [
      "2024-11-19 21:20:26,618 - top2vec - INFO - Pre-processing documents for training\n",
      "/home/mstrzezon/tools/miniconda3/envs/adm/lib/python3.11/site-packages/sklearn/feature_extraction/text.py:521: UserWarning: The parameter 'token_pattern' will not be used since 'tokenizer' is not None'\n",
      "  warnings.warn(\n",
      "2024-11-19 21:20:47,820 - top2vec - INFO - Creating joint document/word embedding\n",
      "2024-11-19 21:48:23,670 - top2vec - INFO - Creating lower dimension embedding of documents\n",
      "2024-11-19 21:48:33,963 - top2vec - INFO - Finding dense areas of documents\n",
      "huggingface/tokenizers: The current process just got forked, after parallelism has already been used. Disabling parallelism to avoid deadlocks...\n",
      "To disable this warning, you can either:\n",
      "\t- Avoid using `tokenizers` before the fork if possible\n",
      "\t- Explicitly set the environment variable TOKENIZERS_PARALLELISM=(true | false)\n",
      "huggingface/tokenizers: The current process just got forked, after parallelism has already been used. Disabling parallelism to avoid deadlocks...\n",
      "To disable this warning, you can either:\n",
      "\t- Avoid using `tokenizers` before the fork if possible\n",
      "\t- Explicitly set the environment variable TOKENIZERS_PARALLELISM=(true | false)\n",
      "huggingface/tokenizers: The current process just got forked, after parallelism has already been used. Disabling parallelism to avoid deadlocks...\n",
      "To disable this warning, you can either:\n",
      "\t- Avoid using `tokenizers` before the fork if possible\n",
      "\t- Explicitly set the environment variable TOKENIZERS_PARALLELISM=(true | false)\n",
      "huggingface/tokenizers: The current process just got forked, after parallelism has already been used. Disabling parallelism to avoid deadlocks...\n",
      "To disable this warning, you can either:\n",
      "\t- Avoid using `tokenizers` before the fork if possible\n",
      "\t- Explicitly set the environment variable TOKENIZERS_PARALLELISM=(true | false)\n",
      "2024-11-19 21:48:36,086 - top2vec - INFO - Finding topics\n"
     ]
    }
   ],
   "execution_count": 51
  },
  {
   "metadata": {},
   "cell_type": "markdown",
   "source": "### Results exploration",
   "id": "4910a3bd1f4ab2d7"
  },
  {
   "metadata": {
    "ExecuteTime": {
     "end_time": "2024-11-19T20:49:24.613892Z",
     "start_time": "2024-11-19T20:49:24.609857Z"
    }
   },
   "cell_type": "code",
   "source": "model.get_num_topics()",
   "id": "6d4d040890f61099",
   "outputs": [
    {
     "data": {
      "text/plain": [
       "50"
      ]
     },
     "execution_count": 52,
     "metadata": {},
     "output_type": "execute_result"
    }
   ],
   "execution_count": 52
  },
  {
   "metadata": {
    "ExecuteTime": {
     "end_time": "2024-11-19T20:49:38.846120Z",
     "start_time": "2024-11-19T20:49:38.841249Z"
    }
   },
   "cell_type": "code",
   "source": [
    "topic_sizes, topic_nums = model.get_topic_sizes()\n",
    "topic_sizes"
   ],
   "id": "ebcaef912d5cbc59",
   "outputs": [
    {
     "data": {
      "text/plain": [
       "array([12425,  1459,  1264,  1077,  1039,  1030,   990,   925,   902,\n",
       "         823,   721,   712,   695,   610,   581,   511,   501,   495,\n",
       "         470,   409,   398,   396,   394,   382,   375,   371,   353,\n",
       "         342,   312,   284,   283,   264,   233,   232,   209,   203,\n",
       "         185,   165,   164,   138,   135,   132,   128,   122,   121,\n",
       "         120,    98,    87,    87,    75])"
      ]
     },
     "execution_count": 53,
     "metadata": {},
     "output_type": "execute_result"
    }
   ],
   "execution_count": 53
  },
  {
   "metadata": {
    "ExecuteTime": {
     "end_time": "2024-11-19T20:49:52.643475Z",
     "start_time": "2024-11-19T20:49:52.639801Z"
    }
   },
   "cell_type": "code",
   "source": [
    "topics_words, _, _ = model.get_topics()\n",
    "topics_words"
   ],
   "id": "2ef6fa540dc237c3",
   "outputs": [
    {
     "data": {
      "text/plain": [
       "array([['prune the search', 'amount of annotated',\n",
       "        'validates the effectiveness', ...,\n",
       "        'motivated by the observation', 'finding the best',\n",
       "        'due to the scarcity'],\n",
       "       ['stackelberg game', 'player zero', 'game tree', ...,\n",
       "        'two player', 'game', 'playing agents'],\n",
       "       ['urban flow', 'urban road', 'urban mobility', ..., 'road',\n",
       "        'explore the feasibility', 'timeline based'],\n",
       "       ...,\n",
       "       ['skin cancer', 'skin lesion', 'skin lesions', ...,\n",
       "        'state of the art', 'image super', 'cifar and imagenet'],\n",
       "       ['homomorphic encryption', 'encrypted traffic', 'secret dnn', ...,\n",
       "        'computational overhead', 'adversarial attack',\n",
       "        'reverse engineering'],\n",
       "       ['materials science', 'material science', 'material properties',\n",
       "        ..., 'inspired by the success', 'none of the existing',\n",
       "        'select the appropriate']], dtype='<U31')"
      ]
     },
     "execution_count": 54,
     "metadata": {},
     "output_type": "execute_result"
    }
   ],
   "execution_count": 54
  },
  {
   "metadata": {
    "ExecuteTime": {
     "end_time": "2024-11-19T20:50:19.389161Z",
     "start_time": "2024-11-19T20:50:19.133244Z"
    }
   },
   "cell_type": "code",
   "source": "plt.bar(topic_nums, topic_sizes)",
   "id": "2ee9eef9b6d64883",
   "outputs": [
    {
     "data": {
      "text/plain": [
       "<BarContainer object of 50 artists>"
      ]
     },
     "execution_count": 55,
     "metadata": {},
     "output_type": "execute_result"
    },
    {
     "data": {
      "text/plain": [
       "<Figure size 640x480 with 1 Axes>"
      ],
      "image/png": "[encoded data removed]"
     },
     "metadata": {},
     "output_type": "display_data"
    }
   ],
   "execution_count": 55
  },
  {
   "metadata": {},
   "cell_type": "markdown",
   "source": "#### Save the model",
   "id": "6c3f921bdb53c537"
  },
  {
   "metadata": {
    "ExecuteTime": {
     "end_time": "2024-11-19T21:12:32.089343Z",
     "start_time": "2024-11-19T21:12:31.383354Z"
    }
   },
   "cell_type": "code",
   "source": "allenai_specter.save(\"/home/mstrzezon/university/AdvancedDataMining/Arxiv-Topic-Trend-Analysis/src/top2vec/allenai_specter\")",
   "id": "d5db522ab290010c",
   "outputs": [],
   "execution_count": 62
  },
  {
   "metadata": {
    "ExecuteTime": {
     "end_time": "2024-11-19T21:07:20.995380Z",
     "start_time": "2024-11-19T21:07:19.678563Z"
    }
   },
   "cell_type": "code",
   "source": "model.save(\"/home/mstrzezon/university/AdvancedDataMining/Arxiv-Topic-Trend-Analysis/src/top2vec/top2vec_allenai_specter_unprocessed\")",
   "id": "99fdaa4c88824a9b",
   "outputs": [],
   "execution_count": 57
  },
  {
   "metadata": {},
   "cell_type": "markdown",
   "source": "### Load data",
   "id": "efdb15deba2f43d1"
  },
  {
   "metadata": {
    "ExecuteTime": {
     "end_time": "2024-11-20T21:19:18.732450Z",
     "start_time": "2024-11-20T21:19:18.330561Z"
    }
   },
   "cell_type": "code",
   "source": "model = Top2Vec.load(\"/home/mstrzezon/university/AdvancedDataMining/Arxiv-Topic-Trend-Analysis/src/top2vec/top2vec_allenai_specter_unprocessed\")",
   "id": "f33f25b5e9c16a2f",
   "outputs": [],
   "execution_count": 41
  },
  {
   "metadata": {},
   "cell_type": "markdown",
   "source": "### Metrics",
   "id": "69e516bda3ebcc05"
  },
  {
   "metadata": {
    "ExecuteTime": {
     "end_time": "2024-11-20T21:19:33.703217Z",
     "start_time": "2024-11-20T21:19:19.350430Z"
    }
   },
   "cell_type": "code",
   "source": [
    "topics_words, _, _ = model.get_topics()\n",
    "topics = topics_words[:, :30]\n",
    "topic_vectors = model.topic_vectors\n",
    "document_vectors = model.document_vectors\n",
    "\n",
    "model_output = get_topvec_model_output(data, model.doc_top, topics, topic_vectors, document_vectors)\n",
    "\n",
    "model_metrics = calculate_metrics(model_output, dataset, verbose=True)"
   ],
   "id": "e7022aad83ac3a79",
   "outputs": [
    {
     "name": "stdout",
     "output_type": "stream",
     "text": [
      "UMass: None\n",
      "NPMI: None\n",
      "C_V: None\n",
      "Topic Diversity: 0.916\n",
      "Inverted RBO: 0.9972305456451195\n",
      "Pairwise Jaccard: 0.0023452889927900993\n",
      "KL Uniform: 2.4942272109904517\n",
      "KL Vacuous: 2.775041251919152\n",
      "KL Background: 0.011003335794500007\n"
     ]
    }
   ],
   "execution_count": 42
  },
  {
   "metadata": {},
   "cell_type": "markdown",
   "source": "### Processed data",
   "id": "87eb9b3757cf2837"
  },
  {
   "metadata": {
    "ExecuteTime": {
     "end_time": "2024-11-19T21:12:56.245525Z",
     "start_time": "2024-11-19T21:12:53.654313Z"
    }
   },
   "cell_type": "code",
   "source": [
    "allenai_specter = SentenceTransformer('sentence-transformers/allenai-specter')\n",
    "embedding_model = allenai_specter.encode"
   ],
   "id": "f2138eaf6db8306b",
   "outputs": [],
   "execution_count": 63
  },
  {
   "metadata": {
    "ExecuteTime": {
     "end_time": "2024-11-19T21:27:28.374190Z",
     "start_time": "2024-11-19T21:13:02.811594Z"
    }
   },
   "cell_type": "code",
   "source": [
    "summaries = data['Processed Summary'].apply(lambda x: ' '.join(x)).tolist()\n",
    "model = Top2Vec(summaries, embedding_model=embedding_model, ngram_vocab=True, ngram_vocab_args={'connector_words': phrases.ENGLISH_CONNECTOR_WORDS})"
   ],
   "id": "71e9f57bed46e05",
   "outputs": [
    {
     "name": "stderr",
     "output_type": "stream",
     "text": [
      "2024-11-19 22:13:02,956 - top2vec - INFO - Pre-processing documents for training\n",
      "/home/mstrzezon/tools/miniconda3/envs/adm/lib/python3.11/site-packages/sklearn/feature_extraction/text.py:521: UserWarning: The parameter 'token_pattern' will not be used since 'tokenizer' is not None'\n",
      "  warnings.warn(\n",
      "2024-11-19 22:13:18,895 - top2vec - INFO - Creating joint document/word embedding\n",
      "2024-11-19 22:27:15,661 - top2vec - INFO - Creating lower dimension embedding of documents\n",
      "2024-11-19 22:27:26,190 - top2vec - INFO - Finding dense areas of documents\n",
      "huggingface/tokenizers: The current process just got forked, after parallelism has already been used. Disabling parallelism to avoid deadlocks...\n",
      "To disable this warning, you can either:\n",
      "\t- Avoid using `tokenizers` before the fork if possible\n",
      "\t- Explicitly set the environment variable TOKENIZERS_PARALLELISM=(true | false)\n",
      "huggingface/tokenizers: The current process just got forked, after parallelism has already been used. Disabling parallelism to avoid deadlocks...\n",
      "To disable this warning, you can either:\n",
      "\t- Avoid using `tokenizers` before the fork if possible\n",
      "\t- Explicitly set the environment variable TOKENIZERS_PARALLELISM=(true | false)\n",
      "huggingface/tokenizers: The current process just got forked, after parallelism has already been used. Disabling parallelism to avoid deadlocks...\n",
      "To disable this warning, you can either:\n",
      "\t- Avoid using `tokenizers` before the fork if possible\n",
      "\t- Explicitly set the environment variable TOKENIZERS_PARALLELISM=(true | false)\n",
      "huggingface/tokenizers: The current process just got forked, after parallelism has already been used. Disabling parallelism to avoid deadlocks...\n",
      "To disable this warning, you can either:\n",
      "\t- Avoid using `tokenizers` before the fork if possible\n",
      "\t- Explicitly set the environment variable TOKENIZERS_PARALLELISM=(true | false)\n",
      "2024-11-19 22:27:27,977 - top2vec - INFO - Finding topics\n"
     ]
    }
   ],
   "execution_count": 64
  },
  {
   "metadata": {
    "ExecuteTime": {
     "end_time": "2024-11-19T21:27:28.432207Z",
     "start_time": "2024-11-19T21:27:28.428986Z"
    }
   },
   "cell_type": "code",
   "source": "model.get_num_topics()",
   "id": "7491753797353796",
   "outputs": [
    {
     "data": {
      "text/plain": [
       "20"
      ]
     },
     "execution_count": 65,
     "metadata": {},
     "output_type": "execute_result"
    }
   ],
   "execution_count": 65
  },
  {
   "metadata": {
    "ExecuteTime": {
     "end_time": "2024-11-19T21:27:28.514748Z",
     "start_time": "2024-11-19T21:27:28.512049Z"
    }
   },
   "cell_type": "code",
   "source": "topic_sizes, topic_nums = model.get_topic_sizes()",
   "id": "d23fb31e7ea4179f",
   "outputs": [],
   "execution_count": 66
  },
  {
   "metadata": {
    "ExecuteTime": {
     "end_time": "2024-11-19T21:28:34.634608Z",
     "start_time": "2024-11-19T21:28:34.628557Z"
    }
   },
   "cell_type": "code",
   "source": [
    "topics_words, _, _ = model.get_topics()\n",
    "topics_words"
   ],
   "id": "84974f726efa609f",
   "outputs": [
    {
     "data": {
      "text/plain": [
       "array([['overcoming challenge', 'framework named', 'framework called',\n",
       "        'prune search', 'non deterministic', 'understanding nlu',\n",
       "        'address shortcoming', 'existing', 'rich semantic',\n",
       "        'comprehensive experiment', 'guide future', 'experiment show',\n",
       "        'enrich', 'tree ast', 'architecture search', 'many discipline',\n",
       "        'experiment validate', 'amr parsing', 'partially overlapping',\n",
       "        'parse', 'deploy', 'headline generation', 'lack comprehensive',\n",
       "        'result show', 'steiner tree', 'inspired recent',\n",
       "        'demonstrates effectiveness', 'research contributes',\n",
       "        'work pave', 'paper investigate', 'conclude survey', 'proposed',\n",
       "        'proposing', 'overcome shortcoming', 'extensive experiment',\n",
       "        'addressing challenge', 'provide comprehensive',\n",
       "        'outperform existing', 'thoroughly investigate', 'professional',\n",
       "        'capturing complex', 'mining', 'modify', 'winograd schema',\n",
       "        'paper propose', 'analysis sna', 'make full',\n",
       "        'provides comprehensive', 'provide overview', 'nested ner'],\n",
       "       ['remote sensing', 'remotely sensed', 'random forest',\n",
       "        'satellite imagery', 'smart agriculture',\n",
       "        'precision agriculture', 'hyperspectral image', 'edge cloud',\n",
       "        'hyperspectral', 'forest', 'accuracy imagenet',\n",
       "        'data assimilation', 'understudied area', 'shallow layer',\n",
       "        'steiner tree', 'data preparation', 'satellite image',\n",
       "        'accuracy gsm', 'result show', 'aerial imagery',\n",
       "        'machine learning', 'google earth', 'multi layer', 'fine tuned',\n",
       "        'big data', 'experiment show', 'datasets demonstrate',\n",
       "        'imagenet dataset', 'weather forecasting', 'high accuracy',\n",
       "        'data mining', 'overcoming challenge', 'deepmind',\n",
       "        'extreme weather', 'dataset contains', 'multiscale',\n",
       "        'rapidly changing', 'grid cell', 'fine tuning',\n",
       "        'precipitation nowcasting', 'matsci ml', 'graph pooling',\n",
       "        'dense prediction', 'deepmind lab', 'large scale',\n",
       "        'low resolution', 'overcome shortcoming', 'improves accuracy',\n",
       "        'land cover', 'imagenet cifar'],\n",
       "       ['histology image', 'medical imaging', 'medical image',\n",
       "        'lesion segmentation', 'tumor segmentation',\n",
       "        'computational pathology', 'imaging mri', 'single modality',\n",
       "        'imaging', 'mri scan', 'biomedical imaging', 'lesion detection',\n",
       "        'precision medicine', 'imaging modality', 'clinical diagnostic',\n",
       "        'capsule endoscopy', 'softmax loss', 'dense retrieval',\n",
       "        'prune search', 'clinical diagnosis', 'bev segmentation',\n",
       "        'instance segmentation', 'high accuracy', 'accurate diagnosis',\n",
       "        'cancer diagnosis', 'prior art', 'softmax', 'viterbi algorithm',\n",
       "        'accurately identify', 'steiner tree', 'histopathology image',\n",
       "        'parse', 'perform par', 'accuracy imagenet', 'fully automated',\n",
       "        'prune', 'lung nodule', 'ad diagnosis', 'minimally invasive',\n",
       "        'pseudo label', 'diagnostic accuracy', 'iterative deepening',\n",
       "        'exact match', 'mri image', 'soft label', 'clinically relevant',\n",
       "        'loss function', 'challenging due', 'adam optimizer',\n",
       "        'dense prediction'],\n",
       "       ['sequential recommender', 'recommender', 'recommender system',\n",
       "        'personalized recommendation', 'recommendation system',\n",
       "        'industrial recommender', 'recommend item', 'recommending item',\n",
       "        'recommendation sr', 'recommending',\n",
       "        'conversational recommender', 'api recommendation',\n",
       "        'providing personalized', 'news recommender',\n",
       "        'sequential recommendation', 'recommendation',\n",
       "        'recommend future', 'recommend', 'user item', 'recommend next',\n",
       "        'personalized', 'personalized pagerank',\n",
       "        'personalized federated', 'conversational recommendation',\n",
       "        'personalized ranking', 'user interest', 'news recommendation',\n",
       "        'personalized feedback', 'delivering personalized',\n",
       "        'music recommendation', 'movie recommendation', 'richer',\n",
       "        'user preference', 'enriching', 'link prediction',\n",
       "        'motivate future', 'dense reward', 'elo rating', 'user profile',\n",
       "        'bundle recommendation', 'contain rich',\n",
       "        'collaborative filtering', 'rich semantic', 'poi recommendation',\n",
       "        'sparse reward', 'semantically rich', 'offline rl', 'enrich',\n",
       "        'user churn', 'explainable recommendation'],\n",
       "       ['speech translation', 'automatic speech', 'speech',\n",
       "        'speech synthesis', 'acoustic', 'speech recognition',\n",
       "        'speech detection', 'english speaker', 'machine translation',\n",
       "        'deep deterministic', 'speaker', 'spoken', 'translating natural',\n",
       "        'experiment synthetic', 'voice', 'amr parser', 'voc',\n",
       "        'autoencoder mae', 'bidirectional lstm', 'lstm bidirectional',\n",
       "        'spoken language', 'subword segmentation', 'fluent informative',\n",
       "        'amr parsing', 'dnns trained', 'jointly train', 'audio',\n",
       "        'cnn lstm', 'text audio', 'adam optimizer', 'experiment show',\n",
       "        'preliminary experiment', 'domain adaptation', 'audio text',\n",
       "        'unimodal', 'speaker verification', 'bilingual dictionary',\n",
       "        'native speaker', 'autoencoders', 'english sentence',\n",
       "        'chinese english', 'speech act', 'generative discriminative',\n",
       "        'word phrase', 'speaker listener', 'pretrained language',\n",
       "        'clean noisy', 'phrase', 'fluent response', 'non deterministic'],\n",
       "       ['deploying', 'networking sdn', 'network gan', 'network gcns',\n",
       "        'service composition', 'deployed edge', 'resource provisioning',\n",
       "        'deployment', 'easily deployed', 'network gcn', 'service qos',\n",
       "        'multiple hop', 'fog computing', 'deployed real',\n",
       "        'increasingly deployed', 'dynamically adapts',\n",
       "        'practical deployment', 'network pinns', 'network anns',\n",
       "        'deploy', 'deployed', 'network snns', 'resnet',\n",
       "        'cellular network', 'network topology', 'resource consumption',\n",
       "        'lightweight adapter', 'smart city', 'network slicing',\n",
       "        'currently deployed', 'framework called', 'denial service',\n",
       "        'resource usage', 'resource allocation', 'lora adapter',\n",
       "        'dynamically adapt', 'instantiate framework', 'framework named',\n",
       "        'skip connection', 'network tcn', 'architecture search',\n",
       "        'network gnns', 'cloud service', 'vgg resnet',\n",
       "        'successfully deployed', 'network ann', 'iot device',\n",
       "        'tower hanoi', 'industrial deployment', 'widely deployed'],\n",
       "       ['fake news', 'fake review', 'fake', 'rumor detection',\n",
       "        'spread fake', 'adversarial defense', 'deception detection',\n",
       "        'adversarial captchas', 'detect fake', 'argument mining',\n",
       "        'offensive language', 'detecting fake', 'news',\n",
       "        'craft adversarial', 'adversarial patch', 'adversarial',\n",
       "        'sarcasm detection', 'offensive content', 'genai tool',\n",
       "        'real fake', 'adversarial example', 'news headline',\n",
       "        'analysis sna', 'strong negation', 'adversarial attack',\n",
       "        'offensive', 'attack malicious', 'rumor',\n",
       "        'generative adversarial', 'monolingual', 'attack defense',\n",
       "        'news summary', 'adversarial net', 'evasion attack',\n",
       "        'movielens dataset', 'misinformation detection', 'extractive qa',\n",
       "        'adversarial robustness', 'news article',\n",
       "        'adversarial imitation', 'understanding nlu', 'rul prediction',\n",
       "        'spam email', 'susceptible adversarial', 'genre', 'attack',\n",
       "        'many scholar', 'multilingual nmt', 'extractive question',\n",
       "        'malicious attack'],\n",
       "       ['academic research', 'hot research', 'research hotspot',\n",
       "        'academic literature', 'research community', 'research',\n",
       "        'academic community', 'research football',\n",
       "        'scientific publication', 'research contributes',\n",
       "        'inspire research', 'research topic', 'foster research',\n",
       "        'scientific literature', 'research effort', 'academic industry',\n",
       "        'research area', 'facilitate research', 'academia',\n",
       "        'bibliometric analysis', 'line research', 'google scholar',\n",
       "        'encourage research', 'study assesses', 'research agenda',\n",
       "        'research endeavor', 'reviewer', 'api recommendation',\n",
       "        'reproducible research', 'source inspiration', 'many scholar',\n",
       "        'scholarly publication', 'research focused', 'review literature',\n",
       "        'research direction', 'stimulate research', 'genai tool',\n",
       "        'many discipline', 'consideration publication', 'literature',\n",
       "        'ongoing research', 'widely researched', 'outperform existing',\n",
       "        'literature review', 'investigate impact', 'dirichlet process',\n",
       "        'authoring tool', 'extensively researched',\n",
       "        'investigates impact', 'academic'],\n",
       "       ['deepfake technology', 'architecture search', 'optimization pso',\n",
       "        'optimizes', 'circuit routing', 'optimizer', 'optimization aco',\n",
       "        'deep deterministic', 'cnf encoding', 'highly optimized',\n",
       "        'high cost', 'optimizer state', 'achieve high',\n",
       "        'optimization dpo', 'cnn architecture', 'optimization co',\n",
       "        'industry academia', 'design', 'determine optimal',\n",
       "        'achieving high', 'optimize', 'optimized', 'mapf solver',\n",
       "        'optimizers', 'optimization ppo', 'designing', 'finding optimal',\n",
       "        'directly optimizing', 'find optimal', 'directly optimize',\n",
       "        'rnn architecture', 'optimizing', 'select optimal',\n",
       "        'gate assignment', 'placement', 'designed', 'careful design',\n",
       "        'learned optimizers', 'optimization', 'thoroughly evaluate',\n",
       "        'guide future', 'encode', 'optimization bo',\n",
       "        'thoroughly analyze', 'optimization dro', 'fully exploiting',\n",
       "        'complete coverage', 'near optimal', 'optimization moo',\n",
       "        'manufacturing'],\n",
       "       ['portfolio optimization', 'trading', 'trading strategy',\n",
       "        'financial trading', 'financial market', 'deep hedging',\n",
       "        'portfolio', 'stock market', 'leverage rich',\n",
       "        'portfolio management', 'underlying asset', 'market',\n",
       "        'financial asset', 'finance', 'solver portfolio', 'asset',\n",
       "        'stock', 'fully leverage', 'market price', 'financial',\n",
       "        'dynamic pricing', 'credit risk', 'return investment',\n",
       "        'financial institution', 'receding horizon', 'financial report',\n",
       "        'leveraged', 'reservoir computing', 'sale forecasting',\n",
       "        'temporal credit', 'leverage', 'credit rating', 'market maker',\n",
       "        'stock price', 'rolling horizon', 'financial transaction',\n",
       "        'trade', 'asset management', 'financial news', 'finite horizon',\n",
       "        'predictive business', 'strategy rts', 'infinite horizon',\n",
       "        'investment', 'quantitative investment', 'long horizon',\n",
       "        'long run', 'pricing policy', 'deepening search',\n",
       "        'fully exploit'],\n",
       "       ['financial fraud', 'credit card', 'fraud detection',\n",
       "        'card fraud', 'credit rating', 'financial asset', 'credit risk',\n",
       "        'fraud', 'fraudulent transaction', 'financial transaction',\n",
       "        'credit', 'risk management', 'mining technique', 'data mining',\n",
       "        'financial', 'financial market', 'rule mining', 'mining',\n",
       "        'fraudulent activity', 'predictive business', 'asset management',\n",
       "        'financial institution', 'insurance claim', 'loan',\n",
       "        'predictive analytics', 'financial report', 'paper investigate',\n",
       "        'financial misinformation', 'bank', 'credit assignment',\n",
       "        'portfolio', 'paper develops', 'assign credit', 'claim made',\n",
       "        'proven successful', 'predictive accuracy', 'leveraged',\n",
       "        'conduct thorough', 'imbalance issue', 'study reveals',\n",
       "        'predictive performance', 'able identify', 'fact checking',\n",
       "        'taking account', 'financial service', 'pattern mining',\n",
       "        'paper argue', 'business', 'take account', 'imbalanced'],\n",
       "       ['deep deterministic', 'channel estimation', 'multi layer',\n",
       "        'fully exploiting', 'deep', 'deepfake', 'layer normalization',\n",
       "        'deep learning', 'deepfakes', 'jointly optimized',\n",
       "        'normalization layer', 'linear layer', 'channel dimension',\n",
       "        'channel', 'deepfake technology', 'double deep',\n",
       "        'communication channel', 'gnn layer', 'stacked autoencoders',\n",
       "        'wireless networking', 'deep convolutional', 'networking',\n",
       "        'dnns trained', 'channel pruning', 'effectively utilize',\n",
       "        'deep neural', 'convolutional network', 'convolutional layer',\n",
       "        'connected layer', 'masked autoencoders', 'fully utilize',\n",
       "        'autoencoder mae', 'network gan', 'jointly learn',\n",
       "        'massive mimo', 'autoencoders', 'softmax layer',\n",
       "        'jointly trained', 'network snns', 'deepfake video',\n",
       "        'cnn architecture', 'degrade performance', 'noise added',\n",
       "        'last layer', 'jointly learns', 'encoders decoder',\n",
       "        'greedy decoding', 'encoder decoder', 'denoising step',\n",
       "        'convolutional block'],\n",
       "       ['formal verification', 'sound complete',\n",
       "        'functional correctness', 'formally prove', 'formal guarantee',\n",
       "        'deep deterministic', 'rigorous testing', 'non deterministic',\n",
       "        'satisfiability checking', 'partially specified',\n",
       "        'provide formal', 'correctness guarantee', 'safety verification',\n",
       "        'correctness proof', 'network snns', 'nested ner',\n",
       "        'factual correctness', 'formal proof', 'satisfiability solver',\n",
       "        'deterministic finite', 'runtime verification', 'network snn',\n",
       "        'soundness completeness', 'refinement module',\n",
       "        'satisfiability modulo', 'prove soundness',\n",
       "        'experiment validate', 'verify correctness',\n",
       "        'thorough evaluation', 'safety guarantee',\n",
       "        'abstraction refinement', 'thoroughly evaluate',\n",
       "        'theorem proving', 'provable robustness', 'proven difficult',\n",
       "        'architecture search', 'automated theorem', 'mapf solver',\n",
       "        'logic formula', 'logic finite', 'normal logic',\n",
       "        'dnn verification', 'adversarial net',\n",
       "        'correctness completeness', 'network nns', 'logic alc',\n",
       "        'proving effectiveness', 'intractable general',\n",
       "        'fail generalize', 'rigorous experimentation'],\n",
       "       ['artificial immune', 'immune system', 'multi agent', 'immune',\n",
       "        'ant system', 'fitness function', 'evolutionary algorithm',\n",
       "        'artificial bee', 'inspired biological', 'multiagent system',\n",
       "        'evolutionary computation', 'artificial ant',\n",
       "        'multiobjective evolutionary', 'inspired recent',\n",
       "        'framework called', 'cellular automaton', 'dynamically evolving',\n",
       "        'ant colony', 'fitness value', 'multiagent',\n",
       "        'biologically inspired', 'defense mechanism',\n",
       "        'evolution strategy', 'framework named', 'intelligent agent',\n",
       "        'swarm optimization', 'composed two', 'dynamically selects',\n",
       "        'developed', 'generate', 'defense strategy', 'composed multiple',\n",
       "        'existing', 'swarm intelligence', 'proposing', 'composed three',\n",
       "        'prevalent', 'generating', 'english spanish', 'evolved',\n",
       "        'consisting three', 'living organism', 'rapidly evolving',\n",
       "        'dynamically choose', 'inspired', 'deploy', 'numerous',\n",
       "        'selection strategy', 'fitness', 'genetic programming'],\n",
       "       ['covid pandemic', 'infectious disease', 'infection risk',\n",
       "        'pandemic', 'disease outbreak', 'global pandemic',\n",
       "        'epidemic forecasting', 'infection', 'thompson sampling',\n",
       "        'address shortcoming', 'disease spread', 'deploy',\n",
       "        'remedy propose', 'disease', 'bdi agent', 'healthcare',\n",
       "        'clinical camel', 'cohort', 'nash equilibrium', 'surveillance',\n",
       "        'remedy issue', 'spread disease', 'survey delf',\n",
       "        'thorough analysis', 'vaccine', 'epidemic control',\n",
       "        'prioritized default', 'serf', 'address limitation',\n",
       "        'disease diagnosis', 'hinder deployment',\n",
       "        'comprehensive analysis', 'framework unifies', 'disease name',\n",
       "        'epidemic', 'public health', 'conduct detailed',\n",
       "        'national center', 'initiate study', 'update', 'health crisis',\n",
       "        'reformulate', 'framework', 'tackling complex',\n",
       "        'conducting comprehensive', 'thorough investigation',\n",
       "        'implementing', 'efficacy proposed', 'prevalent',\n",
       "        'paper revisit'],\n",
       "       ['drug discovery', 'protein backbone', 'drug design',\n",
       "        'architecture search', 'molecule generation', 'potent tool',\n",
       "        'closely mimic', 'optimization pso', 'synthetically',\n",
       "        'network rnn', 'cnn backbone', 'generate synthetic',\n",
       "        'emerged potent', 'guide future', 'cnf encoding',\n",
       "        'emerged promising', 'hit', 'drug', 'chemistry biology',\n",
       "        'many discipline', 'search mcts', 'network rnns',\n",
       "        'inspired recent', 'emerges promising', 'next generation',\n",
       "        'search cbs', 'closely match', 'encode', 'lead improved',\n",
       "        'gnn backbone', 'enriched', 'highlight potential',\n",
       "        'headline generation', 'led impressive', 'review slr',\n",
       "        'small molecule', 'great potential', 'network cnns',\n",
       "        'generating synthetic', 'molecular structure', 'newly generated',\n",
       "        'devise novel', 'generating', 'search dart', 'enrich',\n",
       "        'guide search', 'de novo', 'network cnn', 'synthetic',\n",
       "        'present novel'],\n",
       "       ['blockchain', 'blockchain technology', 'ethereum blockchain',\n",
       "        'proven successful', 'instantiate framework',\n",
       "        'distributed ledger', 'successful deployment', 'smart contract',\n",
       "        'industrial deployment', 'era big', 'key enabler',\n",
       "        'unlock potential', 'framework afs', 'still exists',\n",
       "        'plugged existing', 'execution business', 'security',\n",
       "        'backdoor defense', 'chaining', 'reverse engineering',\n",
       "        'architecture search', 'overcome weakness', 'hinder deployment',\n",
       "        'research contributes', 'study reveals', 'proven effective',\n",
       "        'advanced analytics', 'framework unifies', 'identifies key',\n",
       "        'full potential', 'security threat', 'security risk',\n",
       "        'security concern', 'lead substantial', 'restless bandit',\n",
       "        'framework named', 'claim made', 'proof concept',\n",
       "        'capturing intricate', 'big five', 'test case',\n",
       "        'successful application', 'challenge facing', 'result reveal',\n",
       "        'framework called', 'adversarial defense', 'leveraged',\n",
       "        'since launch', 'showcase potential', 'still exist'],\n",
       "       ['skin cancer', 'skin lesion', 'skin disease', 'histology image',\n",
       "        'skin', 'medical image', 'accuracy imagenet', 'skin color',\n",
       "        'cifar imagenet', 'adversarial patch', 'considered black',\n",
       "        'edge cloud', 'lesion detection', 'imagenet cifar',\n",
       "        'softmax loss', 'high accuracy', 'coarse fine', 'diagnosis cad',\n",
       "        'accurate diagnosis', 'lesion segmentation', 'imagenet dataset',\n",
       "        'hsi lidar', 'challenging due', 'clinical diagnosis',\n",
       "        'tiny imagenet', 'imaging', 'ad diagnosis',\n",
       "        'pretrained imagenet', 'improves accuracy', 'adam optimizer',\n",
       "        'cancer diagnosis', 'patient diagnosed', 'image patch',\n",
       "        'stego dnn', 'single modality', 'dense retrieval',\n",
       "        'clinical diagnostic', 'computational pathology', 'dense depth',\n",
       "        'precision medicine', 'clinician', 'imagenet',\n",
       "        'provide comprehensive', 'face blurring', 'tumor segmentation',\n",
       "        'dense prediction', 'histopathology image', 'steiner tree',\n",
       "        'providing comprehensive', 'self supervised'],\n",
       "       ['diabetic retinopathy', 'fundus image', 'retinopathy dr',\n",
       "        'histology image', 'capsule endoscopy', 'ophthalmic image',\n",
       "        'clinical diagnosis', 'accurate diagnosis',\n",
       "        'convolutional network', 'retinal image', 'disease diagnosis',\n",
       "        'double deep', 'fully convolutional', 'medical image',\n",
       "        'clinical diagnostic', 'patient diagnosed', 'eye disease',\n",
       "        'deep convolutional', 'diagnosis cad', 'accuracy imagenet',\n",
       "        'computational pathology', 'rare disease', 'ad diagnosis',\n",
       "        'conjunctive normal', 'deep', 'early diagnosis', 'blood vessel',\n",
       "        'graph convolutional', 'iterative deepening', 'bleu rouge',\n",
       "        'human eye', 'disease', 'loss function', 'tiny imagenet',\n",
       "        'dilated convolution', 'deep learning', 'high accuracy', 'parse',\n",
       "        'digital pathology', 'softmax loss', 'adversarial patch',\n",
       "        'imaging', 'imaging mri', 'correctly identify', 'myopic',\n",
       "        'accurately identifying', 'accurately identify', 'network gat',\n",
       "        'provide comprehensive', 'deepening search'],\n",
       "       ['food', 'diet coke', 'food delivery', 'mealy machine',\n",
       "        'composition', 'api recommendation', 'recommendation system',\n",
       "        'recipe', 'ingredient', 'industrial recommender', 'guide future',\n",
       "        'important ingredient', 'recommendation sr', 'fed',\n",
       "        'steiner tree', 'feature fed', 'recommended item',\n",
       "        'item recommended', 'recommender', 'poi recommendation',\n",
       "        'restaurant', 'recommendation', 'recommend future',\n",
       "        'meal delivery', 'guide search', 'completion kgc', 'richer',\n",
       "        'recommender system', 'supplement', 'personalized federated',\n",
       "        'make sure', 'underline importance',\n",
       "        'personalized recommendation', 'enriching', 'guide',\n",
       "        'training recipe', 'consuming', 'providing personalized',\n",
       "        'curse', 'consumer', 'pick best', 'semantically rich', 'rich',\n",
       "        'key ingredient', 'sequential recommender', 'aim retrieve',\n",
       "        'ibm watson', 'begin providing', 'abundant unlabeled',\n",
       "        'making suitable']], dtype='<U29')"
      ]
     },
     "execution_count": 72,
     "metadata": {},
     "output_type": "execute_result"
    }
   ],
   "execution_count": 72
  },
  {
   "metadata": {
    "ExecuteTime": {
     "end_time": "2024-11-19T21:27:28.748025Z",
     "start_time": "2024-11-19T21:27:28.627439Z"
    }
   },
   "cell_type": "code",
   "source": "plt.bar(topic_nums, topic_sizes)",
   "id": "7c7c8c0b38c4ea35",
   "outputs": [
    {
     "data": {
      "text/plain": [
       "<BarContainer object of 20 artists>"
      ]
     },
     "execution_count": 68,
     "metadata": {},
     "output_type": "execute_result"
    },
    {
     "data": {
      "text/plain": [
       "<Figure size 640x480 with 1 Axes>"
      ],
      "image/png": "[encoded data removed]"
     },
     "metadata": {},
     "output_type": "display_data"
    }
   ],
   "execution_count": 68
  },
  {
   "metadata": {
    "ExecuteTime": {
     "end_time": "2024-11-19T21:27:29.411189Z",
     "start_time": "2024-11-19T21:27:28.815647Z"
    }
   },
   "cell_type": "code",
   "source": "allenai_specter.save(\"/home/mstrzezon/university/AdvancedDataMining/Arxiv-Topic-Trend-Analysis/src/top2vec/allenai_specter_processed\")",
   "id": "69e5272d99b18be1",
   "outputs": [],
   "execution_count": 69
  },
  {
   "metadata": {
    "ExecuteTime": {
     "end_time": "2024-11-19T21:27:29.989836Z",
     "start_time": "2024-11-19T21:27:29.425080Z"
    }
   },
   "cell_type": "code",
   "source": "model.save(\"/home/mstrzezon/university/AdvancedDataMining/Arxiv-Topic-Trend-Analysis/src/top2vec/top2vec_allenai_specter_processed\")",
   "id": "cc613ecec0f1013a",
   "outputs": [],
   "execution_count": 70
  },
  {
   "metadata": {
    "ExecuteTime": {
     "end_time": "2024-11-19T21:28:11.718550Z",
     "start_time": "2024-11-19T21:28:11.601814Z"
    }
   },
   "cell_type": "code",
   "source": [
    "# save vectors as pkl\n",
    "document_embeddings = model.document_vectors\n",
    "import pickle\n",
    "with open(\"/home/mstrzezon/university/AdvancedDataMining/Arxiv-Topic-Trend-Analysis/src/top2vec/allenai_specter_processed_vectors.pkl\", \"wb\") as f:\n",
    "    pickle.dump(document_embeddings, f)"
   ],
   "id": "4e5bfa8cee4acbd1",
   "outputs": [],
   "execution_count": 71
  },
  {
   "metadata": {},
   "cell_type": "markdown",
   "source": "### Load data   ",
   "id": "5c62640f9226ea89"
  },
  {
   "metadata": {
    "ExecuteTime": {
     "end_time": "2024-11-20T21:18:10.550250Z",
     "start_time": "2024-11-20T21:18:10.197184Z"
    }
   },
   "cell_type": "code",
   "source": "model = Top2Vec.load(\"/home/mstrzezon/university/AdvancedDataMining/Arxiv-Topic-Trend-Analysis/src/top2vec/top2vec_allenai_specter_processed\")",
   "id": "9038722bf46ee85e",
   "outputs": [],
   "execution_count": 39
  },
  {
   "metadata": {},
   "cell_type": "markdown",
   "source": "### Metrics",
   "id": "1fc29775a229551"
  },
  {
   "metadata": {
    "ExecuteTime": {
     "end_time": "2024-11-20T21:18:40.793694Z",
     "start_time": "2024-11-20T21:18:24.700747Z"
    }
   },
   "cell_type": "code",
   "source": [
    "topics_words, _, _ = model.get_topics()\n",
    "topics = topics_words[:, :30]\n",
    "topic_vectors = model.topic_vectors\n",
    "document_vectors = model.document_vectors\n",
    "\n",
    "model_output = get_topvec_model_output(data, model.doc_top, topics, topic_vectors, document_vectors)\n",
    "\n",
    "model_metrics = calculate_metrics(model_output, dataset, verbose=True)"
   ],
   "id": "8fae564f387fe24b",
   "outputs": [
    {
     "name": "stdout",
     "output_type": "stream",
     "text": [
      "UMass: None\n",
      "NPMI: None\n",
      "C_V: None\n",
      "Topic Diversity: 0.94\n",
      "Inverted RBO: 0.994864040183421\n",
      "Pairwise Jaccard: 0.0045244690674053544\n",
      "KL Uniform: 2.3362589337089084\n",
      "KL Vacuous: 2.6849870463734202\n",
      "KL Background: 0.006518839495958927\n"
     ]
    }
   ],
   "execution_count": 40
  },
  {
   "metadata": {},
   "cell_type": "code",
   "outputs": [],
   "execution_count": null,
   "source": "",
   "id": "5b04e3c9241dc890"
  },
  {
   "metadata": {},
   "cell_type": "markdown",
   "source": "## Model without n-grams + processed",
   "id": "3bc92360024ea950"
  },
  {
   "metadata": {
    "ExecuteTime": {
     "end_time": "2024-11-19T21:32:01.927833Z",
     "start_time": "2024-11-19T21:32:00.232150Z"
    }
   },
   "cell_type": "code",
   "source": [
    "allenai_specter = SentenceTransformer('sentence-transformers/allenai-specter')\n",
    "embedding_model = allenai_specter.encode"
   ],
   "id": "868d228b8180809d",
   "outputs": [],
   "execution_count": 73
  },
  {
   "metadata": {
    "ExecuteTime": {
     "end_time": "2024-11-19T21:46:12.049522Z",
     "start_time": "2024-11-19T21:32:14.309889Z"
    }
   },
   "cell_type": "code",
   "source": [
    "summaries = data['Processed Summary'].apply(lambda x: ' '.join(x)).tolist()\n",
    "model = Top2Vec(summaries, embedding_model=embedding_model)"
   ],
   "id": "5dd6b412ebd37784",
   "outputs": [
    {
     "name": "stderr",
     "output_type": "stream",
     "text": [
      "2024-11-19 22:32:14,446 - top2vec - INFO - Pre-processing documents for training\n",
      "/home/mstrzezon/tools/miniconda3/envs/adm/lib/python3.11/site-packages/sklearn/feature_extraction/text.py:521: UserWarning: The parameter 'token_pattern' will not be used since 'tokenizer' is not None'\n",
      "  warnings.warn(\n",
      "2024-11-19 22:32:21,329 - top2vec - INFO - Creating joint document/word embedding\n",
      "2024-11-19 22:46:01,276 - top2vec - INFO - Creating lower dimension embedding of documents\n",
      "2024-11-19 22:46:10,095 - top2vec - INFO - Finding dense areas of documents\n",
      "huggingface/tokenizers: The current process just got forked, after parallelism has already been used. Disabling parallelism to avoid deadlocks...\n",
      "To disable this warning, you can either:\n",
      "\t- Avoid using `tokenizers` before the fork if possible\n",
      "\t- Explicitly set the environment variable TOKENIZERS_PARALLELISM=(true | false)\n",
      "huggingface/tokenizers: The current process just got forked, after parallelism has already been used. Disabling parallelism to avoid deadlocks...\n",
      "To disable this warning, you can either:\n",
      "\t- Avoid using `tokenizers` before the fork if possible\n",
      "\t- Explicitly set the environment variable TOKENIZERS_PARALLELISM=(true | false)\n",
      "huggingface/tokenizers: The current process just got forked, after parallelism has already been used. Disabling parallelism to avoid deadlocks...\n",
      "To disable this warning, you can either:\n",
      "\t- Avoid using `tokenizers` before the fork if possible\n",
      "\t- Explicitly set the environment variable TOKENIZERS_PARALLELISM=(true | false)\n",
      "huggingface/tokenizers: The current process just got forked, after parallelism has already been used. Disabling parallelism to avoid deadlocks...\n",
      "To disable this warning, you can either:\n",
      "\t- Avoid using `tokenizers` before the fork if possible\n",
      "\t- Explicitly set the environment variable TOKENIZERS_PARALLELISM=(true | false)\n",
      "2024-11-19 22:46:11,749 - top2vec - INFO - Finding topics\n"
     ]
    }
   ],
   "execution_count": 74
  },
  {
   "metadata": {
    "ExecuteTime": {
     "end_time": "2024-11-19T21:49:27.841724Z",
     "start_time": "2024-11-19T21:49:27.828335Z"
    }
   },
   "cell_type": "code",
   "source": "model.get_num_topics()",
   "id": "a646244ca8dfc73b",
   "outputs": [
    {
     "data": {
      "text/plain": [
       "22"
      ]
     },
     "execution_count": 75,
     "metadata": {},
     "output_type": "execute_result"
    }
   ],
   "execution_count": 75
  },
  {
   "metadata": {
    "ExecuteTime": {
     "end_time": "2024-11-19T21:49:49.282337Z",
     "start_time": "2024-11-19T21:49:49.276833Z"
    }
   },
   "cell_type": "code",
   "source": [
    "topic_sizes, topic_nums = model.get_topic_sizes()\n",
    "topic_sizes"
   ],
   "id": "5c98de967730b538",
   "outputs": [
    {
     "data": {
      "text/plain": [
       "array([24074,  1086,   983,   959,   953,   940,   848,   710,   383,\n",
       "         377,   326,   319,   300,   296,   292,   286,   285,   283,\n",
       "         259,   185,   179,   104])"
      ]
     },
     "execution_count": 79,
     "metadata": {},
     "output_type": "execute_result"
    }
   ],
   "execution_count": 79
  },
  {
   "metadata": {
    "ExecuteTime": {
     "end_time": "2024-11-19T21:49:37.813319Z",
     "start_time": "2024-11-19T21:49:37.808872Z"
    }
   },
   "cell_type": "code",
   "source": [
    "topics_words, _, _ = model.get_topics()\n",
    "topics_words"
   ],
   "id": "2e2ec3107f6968ed",
   "outputs": [
    {
     "data": {
      "text/plain": [
       "array([['existing', 'enrich', 'parse', ..., 'encode', 'curse',\n",
       "        'completed'],\n",
       "       ['forest', 'agriculture', 'agricultural', ..., 'proposed',\n",
       "        'overfit', 'deep'],\n",
       "       ['deploying', 'deployment', 'deploy', ..., 'dedicated',\n",
       "        'traversal', 'devise'],\n",
       "       ...,\n",
       "       ['blockchain', 'chaining', 'security', ..., 'demonstrating',\n",
       "        'identified', 'big'],\n",
       "       ['quantum', 'encode', 'encoding', ..., 'par', 'tried',\n",
       "        'synthesize'],\n",
       "       ['food', 'composition', 'recipe', ..., 'whole', 'notoriously',\n",
       "        'big']], dtype='<U15')"
      ]
     },
     "execution_count": 78,
     "metadata": {},
     "output_type": "execute_result"
    }
   ],
   "execution_count": 78
  },
  {
   "metadata": {
    "ExecuteTime": {
     "end_time": "2024-11-19T21:50:05.895306Z",
     "start_time": "2024-11-19T21:50:05.769789Z"
    }
   },
   "cell_type": "code",
   "source": "plt.bar(topic_nums, topic_sizes)",
   "id": "cae1cd9fcd55d2f",
   "outputs": [
    {
     "data": {
      "text/plain": [
       "<BarContainer object of 22 artists>"
      ]
     },
     "execution_count": 80,
     "metadata": {},
     "output_type": "execute_result"
    },
    {
     "data": {
      "text/plain": [
       "<Figure size 640x480 with 1 Axes>"
      ],
      "image/png": "[encoded data removed]"
     },
     "metadata": {},
     "output_type": "display_data"
    }
   ],
   "execution_count": 80
  },
  {
   "metadata": {
    "ExecuteTime": {
     "end_time": "2024-11-19T21:50:15.178007Z",
     "start_time": "2024-11-19T21:50:14.442665Z"
    }
   },
   "cell_type": "code",
   "source": "allenai_specter.save(\"/home/mstrzezon/university/AdvancedDataMining/Arxiv-Topic-Trend-Analysis/src/top2vec/allenai_specter_processed_without_ngrams\")",
   "id": "ff89124974bc4e33",
   "outputs": [],
   "execution_count": 81
  },
  {
   "metadata": {
    "ExecuteTime": {
     "end_time": "2024-11-19T21:50:18.387290Z",
     "start_time": "2024-11-19T21:50:17.709732Z"
    }
   },
   "cell_type": "code",
   "source": "model.save(\"/home/mstrzezon/university/AdvancedDataMining/Arxiv-Topic-Trend-Analysis/src/top2vec/top2vec_allenai_specter_processed_without_ngrams\")",
   "id": "57506aa09160a27b",
   "outputs": [],
   "execution_count": 82
  },
  {
   "metadata": {
    "ExecuteTime": {
     "end_time": "2024-11-19T21:50:26.962836Z",
     "start_time": "2024-11-19T21:50:26.850682Z"
    }
   },
   "cell_type": "code",
   "source": [
    "# save vectors as pkl\n",
    "document_embeddings = model.document_vectors\n",
    "import pickle\n",
    "with open(\"/home/mstrzezon/university/AdvancedDataMining/Arxiv-Topic-Trend-Analysis/src/top2vec/allenai_specter_processed_without_ngrams_vectors.pkl\", \"wb\") as f:\n",
    "    pickle.dump(document_embeddings, f)"
   ],
   "id": "dd5dfe2939ab62af",
   "outputs": [],
   "execution_count": 83
  },
  {
   "metadata": {},
   "cell_type": "markdown",
   "source": "### Load data",
   "id": "7b9313fdcb4dc7c3"
  },
  {
   "metadata": {
    "ExecuteTime": {
     "end_time": "2024-11-20T21:15:14.242610Z",
     "start_time": "2024-11-20T21:15:13.578595Z"
    }
   },
   "cell_type": "code",
   "source": "model = Top2Vec.load(\"/home/mstrzezon/university/AdvancedDataMining/Arxiv-Topic-Trend-Analysis/src/top2vec/top2vec_allenai_specter_processed_without_ngrams\")",
   "id": "ba85a504de8911ee",
   "outputs": [],
   "execution_count": 36
  },
  {
   "metadata": {},
   "cell_type": "markdown",
   "source": "### Metrics",
   "id": "f5e146e8cb39297a"
  },
  {
   "metadata": {
    "ExecuteTime": {
     "end_time": "2024-11-20T21:17:14.074668Z",
     "start_time": "2024-11-20T21:16:31.116735Z"
    }
   },
   "cell_type": "code",
   "source": [
    "topics_words, _, _ = model.get_topics()\n",
    "topics = topics_words[:, :30]\n",
    "topic_vectors = model.topic_vectors\n",
    "document_vectors = model.document_vectors\n",
    "\n",
    "model_output = get_topvec_model_output(data, model.doc_top, topics, topic_vectors, document_vectors)\n",
    "\n",
    "model_metrics = calculate_metrics(model_output, dataset, verbose=True)"
   ],
   "id": "cbd274bc1268e84c",
   "outputs": [
    {
     "name": "stdout",
     "output_type": "stream",
     "text": [
      "UMass: -9.084943766438005\n",
      "NPMI: -0.15882488859264465\n",
      "C_V: 0.3559652591268936\n",
      "Topic Diversity: 0.8454545454545455\n",
      "Inverted RBO: 0.9876422566343538\n",
      "Pairwise Jaccard: 0.010514998131097204\n",
      "KL Uniform: 2.332462646724588\n",
      "KL Vacuous: 2.7057906196873898\n",
      "KL Background: 0.006178578873867322\n"
     ]
    }
   ],
   "execution_count": 38
  },
  {
   "metadata": {},
   "cell_type": "code",
   "outputs": [],
   "execution_count": null,
   "source": "",
   "id": "c73bd8db96671a53"
  },
  {
   "metadata": {},
   "cell_type": "markdown",
   "source": "### Model without n-grams + unprocessed",
   "id": "40406aa859a26c1"
  },
  {
   "metadata": {
    "ExecuteTime": {
     "end_time": "2024-11-20T21:28:28.654616Z",
     "start_time": "2024-11-20T21:28:24.602819Z"
    }
   },
   "cell_type": "code",
   "source": [
    "allenai_specter = SentenceTransformer('sentence-transformers/allenai-specter')\n",
    "embedding_model = allenai_specter.encode"
   ],
   "id": "532092fba70057db",
   "outputs": [],
   "execution_count": 47
  },
  {
   "metadata": {
    "ExecuteTime": {
     "end_time": "2024-11-20T21:56:38.428419Z",
     "start_time": "2024-11-20T21:28:28.659432Z"
    }
   },
   "cell_type": "code",
   "source": [
    "summaries = data['Summary'].tolist()\n",
    "model = Top2Vec(summaries, embedding_model=embedding_model)"
   ],
   "id": "3b08cbdac5b06a97",
   "outputs": [
    {
     "name": "stderr",
     "output_type": "stream",
     "text": [
      "2024-11-20 22:28:28,675 - top2vec - INFO - Pre-processing documents for training\n",
      "/home/mstrzezon/tools/miniconda3/envs/octis/lib/python3.9/site-packages/sklearn/feature_extraction/text.py:521: UserWarning: The parameter 'token_pattern' will not be used since 'tokenizer' is not None'\n",
      "  warnings.warn(\n",
      "2024-11-20 22:28:42,897 - top2vec - INFO - Creating joint document/word embedding\n",
      "2024-11-20 22:56:27,642 - top2vec - INFO - Creating lower dimension embedding of documents\n",
      "2024-11-20 22:56:36,031 - top2vec - INFO - Finding dense areas of documents\n",
      "huggingface/tokenizers: The current process just got forked, after parallelism has already been used. Disabling parallelism to avoid deadlocks...\n",
      "To disable this warning, you can either:\n",
      "\t- Avoid using `tokenizers` before the fork if possible\n",
      "\t- Explicitly set the environment variable TOKENIZERS_PARALLELISM=(true | false)\n",
      "huggingface/tokenizers: The current process just got forked, after parallelism has already been used. Disabling parallelism to avoid deadlocks...\n",
      "To disable this warning, you can either:\n",
      "\t- Avoid using `tokenizers` before the fork if possible\n",
      "\t- Explicitly set the environment variable TOKENIZERS_PARALLELISM=(true | false)\n",
      "huggingface/tokenizers: The current process just got forked, after parallelism has already been used. Disabling parallelism to avoid deadlocks...\n",
      "To disable this warning, you can either:\n",
      "\t- Avoid using `tokenizers` before the fork if possible\n",
      "\t- Explicitly set the environment variable TOKENIZERS_PARALLELISM=(true | false)\n",
      "huggingface/tokenizers: The current process just got forked, after parallelism has already been used. Disabling parallelism to avoid deadlocks...\n",
      "To disable this warning, you can either:\n",
      "\t- Avoid using `tokenizers` before the fork if possible\n",
      "\t- Explicitly set the environment variable TOKENIZERS_PARALLELISM=(true | false)\n",
      "2024-11-20 22:56:37,944 - top2vec - INFO - Finding topics\n"
     ]
    }
   ],
   "execution_count": 48
  },
  {
   "metadata": {
    "ExecuteTime": {
     "end_time": "2024-11-20T21:56:39.125935Z",
     "start_time": "2024-11-20T21:56:38.448023Z"
    }
   },
   "cell_type": "code",
   "source": "model.save('allenai_specter_unprocessed_without_ngrams')",
   "id": "c98d8de184531676",
   "outputs": [],
   "execution_count": 49
  },
  {
   "metadata": {
    "ExecuteTime": {
     "end_time": "2024-11-20T21:57:28.074812Z",
     "start_time": "2024-11-20T21:56:39.139355Z"
    }
   },
   "cell_type": "code",
   "source": [
    "topics_words, _, _ = model.get_topics()\n",
    "topics = topics_words[:, :30]\n",
    "topic_vectors = model.topic_vectors\n",
    "document_vectors = model.document_vectors\n",
    "\n",
    "model_output = get_topvec_model_output(data, model.doc_top, topics, topic_vectors, document_vectors)\n",
    "\n",
    "model_metrics = calculate_metrics(model_output, dataset, verbose=True)"
   ],
   "id": "b0311251dadfee70",
   "outputs": [
    {
     "name": "stdout",
     "output_type": "stream",
     "text": [
      "UMass: -8.343837184120618\n",
      "NPMI: -0.12545965495273148\n",
      "C_V: 0.38107238501244106\n",
      "Topic Diversity: 0.7196078431372549\n",
      "Inverted RBO: 0.9874426418783081\n",
      "Pairwise Jaccard: 0.010183210962668237\n",
      "KL Uniform: 2.5063591461453325\n",
      "KL Vacuous: 2.800274499735012\n",
      "KL Background: 0.010968417443755044\n"
     ]
    }
   ],
   "execution_count": 50
  },
  {
   "metadata": {},
   "cell_type": "code",
   "outputs": [],
   "execution_count": null,
   "source": "",
   "id": "739d8e06f4cba510"
  }
 ],
 "metadata": {
  "kernelspec": {
   "display_name": "Python 3",
   "language": "python",
   "name": "python3"
  },
  "language_info": {
   "codemirror_mode": {
    "name": "ipython",
    "version": 2
   },
   "file_extension": ".py",
   "mimetype": "text/x-python",
   "name": "python",
   "nbconvert_exporter": "python",
   "pygments_lexer": "ipython2",
   "version": "2.7.6"
  }
 },
 "nbformat": 4,
 "nbformat_minor": 5
}
