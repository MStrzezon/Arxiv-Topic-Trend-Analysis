{
 "cells": [
  {
   "metadata": {
    "ExecuteTime": {
     "end_time": "2024-12-01T17:45:13.199449Z",
     "start_time": "2024-12-01T17:45:06.439487Z"
    }
   },
   "cell_type": "code",
   "source": [
    "from src.commons.parse_utils import parse_list_column\n",
    "import pandas as pd\n",
    "from octis.dataset.dataset import Dataset\n",
    "from top2vec import Top2Vec\n",
    "\n",
    "from src.top2vec.evaluator import Top2VecEvaluator"
   ],
   "id": "1da51b390513f7e5",
   "outputs": [
    {
     "name": "stderr",
     "output_type": "stream",
     "text": [
      "/home/mstrzezon/miniconda3/envs/adm/lib/python3.9/site-packages/tqdm/auto.py:21: TqdmWarning: IProgress not found. Please update jupyter and ipywidgets. See https://ipywidgets.readthedocs.io/en/stable/user_install.html\n",
      "  from .autonotebook import tqdm as notebook_tqdm\n"
     ]
    }
   ],
   "execution_count": 1
  },
  {
   "metadata": {
    "collapsed": true,
    "ExecuteTime": {
     "end_time": "2024-12-01T17:45:18.730386Z",
     "start_time": "2024-12-01T17:45:13.204575Z"
    }
   },
   "cell_type": "code",
   "source": [
    "csv_file = \"../../data/arxiv_processed.csv\"\n",
    "data = pd.read_csv(csv_file, sep=\";\", converters={'Processed Summary': parse_list_column})\n",
    "documents = data['Summary'].tolist()"
   ],
   "id": "initial_id",
   "outputs": [],
   "execution_count": 2
  },
  {
   "metadata": {
    "ExecuteTime": {
     "end_time": "2024-12-01T17:45:19.378578Z",
     "start_time": "2024-12-01T17:45:18.783053Z"
    }
   },
   "cell_type": "code",
   "source": [
    "dataset = Dataset()\n",
    "dataset.load_custom_dataset_from_folder(\"../../data/octis\")"
   ],
   "id": "ea6cb2000a168356",
   "outputs": [],
   "execution_count": 3
  },
  {
   "metadata": {
    "ExecuteTime": {
     "end_time": "2024-12-01T17:45:27.352092Z",
     "start_time": "2024-12-01T17:45:19.389893Z"
    }
   },
   "cell_type": "code",
   "source": "model = Top2Vec.load('models/doc2vec_processed')",
   "id": "2ca8caa340a757f",
   "outputs": [],
   "execution_count": 4
  },
  {
   "metadata": {
    "ExecuteTime": {
     "end_time": "2024-12-01T17:45:27.370074Z",
     "start_time": "2024-12-01T17:45:27.366793Z"
    }
   },
   "cell_type": "code",
   "source": "top2vec_evaluator = Top2VecEvaluator(model=model, documents=documents, embedding_model='doc2vec', octis_dataset=dataset)",
   "id": "a134b0d3403fbc9e",
   "outputs": [],
   "execution_count": 5
  },
  {
   "metadata": {
    "ExecuteTime": {
     "end_time": "2024-12-01T17:46:50.034505Z",
     "start_time": "2024-12-01T17:45:27.413349Z"
    }
   },
   "cell_type": "code",
   "source": "top2vec_evaluator.evaluate()",
   "id": "c69564c402459f25",
   "outputs": [
    {
     "name": "stdout",
     "output_type": "stream",
     "text": [
      "UMass: -5.826029296837407\n",
      "NPMI: 0.06268612858575638\n",
      "C_V: 0.607373097829217\n",
      "Topic Diversity: 0.6795539033457249\n",
      "Inverted RBO: 0.9980389221668525\n",
      "Pairwise Jaccard: 0.0019361521567638207\n",
      "KL Uniform: 3.182074211850736\n",
      "KL Vacuous: 2.770204279981974\n",
      "KL Background: 0.01631295127558765\n"
     ]
    },
    {
     "data": {
      "text/plain": [
       "      UMass      NPMI       C_V  Topic Diversity  Inverted RBO  \\\n",
       "0 -5.826029  0.062686  0.607373         0.679554      0.998039   \n",
       "\n",
       "   Pairwise Jaccard  KL Uniform  KL Vacuous  KL Background  \n",
       "0          0.001936    3.182074    2.770204       0.016313  "
      ],
      "text/html": [
       "<div>\n",
       "<style scoped>\n",
       "    .dataframe tbody tr th:only-of-type {\n",
       "        vertical-align: middle;\n",
       "    }\n",
       "\n",
       "    .dataframe tbody tr th {\n",
       "        vertical-align: top;\n",
       "    }\n",
       "\n",
       "    .dataframe thead th {\n",
       "        text-align: right;\n",
       "    }\n",
       "</style>\n",
       "<table border=\"1\" class=\"dataframe\">\n",
       "  <thead>\n",
       "    <tr style=\"text-align: right;\">\n",
       "      <th></th>\n",
       "      <th>UMass</th>\n",
       "      <th>NPMI</th>\n",
       "      <th>C_V</th>\n",
       "      <th>Topic Diversity</th>\n",
       "      <th>Inverted RBO</th>\n",
       "      <th>Pairwise Jaccard</th>\n",
       "      <th>KL Uniform</th>\n",
       "      <th>KL Vacuous</th>\n",
       "      <th>KL Background</th>\n",
       "    </tr>\n",
       "  </thead>\n",
       "  <tbody>\n",
       "    <tr>\n",
       "      <th>0</th>\n",
       "      <td>-5.826029</td>\n",
       "      <td>0.062686</td>\n",
       "      <td>0.607373</td>\n",
       "      <td>0.679554</td>\n",
       "      <td>0.998039</td>\n",
       "      <td>0.001936</td>\n",
       "      <td>3.182074</td>\n",
       "      <td>2.770204</td>\n",
       "      <td>0.016313</td>\n",
       "    </tr>\n",
       "  </tbody>\n",
       "</table>\n",
       "</div>"
      ]
     },
     "execution_count": 6,
     "metadata": {},
     "output_type": "execute_result"
    }
   ],
   "execution_count": 6
  },
  {
   "metadata": {},
   "cell_type": "code",
   "outputs": [],
   "execution_count": null,
   "source": "",
   "id": "3b2d5a3aead4e3cd"
  }
 ],
 "metadata": {
  "kernelspec": {
   "display_name": "Python 3",
   "language": "python",
   "name": "python3"
  },
  "language_info": {
   "codemirror_mode": {
    "name": "ipython",
    "version": 2
   },
   "file_extension": ".py",
   "mimetype": "text/x-python",
   "name": "python",
   "nbconvert_exporter": "python",
   "pygments_lexer": "ipython2",
   "version": "2.7.6"
  }
 },
 "nbformat": 4,
 "nbformat_minor": 5
}
