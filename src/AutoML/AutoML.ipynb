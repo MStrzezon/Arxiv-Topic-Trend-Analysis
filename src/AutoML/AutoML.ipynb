{
 "cells": [
  {
   "cell_type": "code",
   "execution_count": null,
   "metadata": {},
   "outputs": [],
   "source": [
    "from Scheduler import Scheduler\n",
    "from ranking.ModelRanker import ModelRanker\n",
    "from octis.dataset.dataset import Dataset"
   ]
  },
  {
   "cell_type": "code",
   "execution_count": null,
   "metadata": {},
   "outputs": [],
   "source": [
    "dataset = Dataset()\n",
    "dataset.load_custom_dataset_from_folder(\"../../data/octis\")"
   ]
  },
  {
   "cell_type": "code",
   "execution_count": null,
   "metadata": {},
   "outputs": [
    {
     "name": "stdout",
     "output_type": "stream",
     "text": [
      "Training model LDA - 25\n",
      "Training took 44.36041522026062 seconds\n",
      "------------------------\n",
      "\n",
      "Training model LDA - 50\n",
      "Training took 51.65376877784729 seconds\n",
      "------------------------\n",
      "\n"
     ]
    },
    {
     "data": {
      "text/html": [
       "<div>\n",
       "<style scoped>\n",
       "    .dataframe tbody tr th:only-of-type {\n",
       "        vertical-align: middle;\n",
       "    }\n",
       "\n",
       "    .dataframe tbody tr th {\n",
       "        vertical-align: top;\n",
       "    }\n",
       "\n",
       "    .dataframe thead th {\n",
       "        text-align: right;\n",
       "    }\n",
       "</style>\n",
       "<table border=\"1\" class=\"dataframe\">\n",
       "  <thead>\n",
       "    <tr style=\"text-align: right;\">\n",
       "      <th></th>\n",
       "      <th>model name</th>\n",
       "      <th>UMass</th>\n",
       "      <th>NPMI</th>\n",
       "      <th>C_V</th>\n",
       "      <th>Topic Diversity</th>\n",
       "      <th>Inverted RBO</th>\n",
       "      <th>Pairwise Jaccard</th>\n",
       "      <th>KL Uniform</th>\n",
       "      <th>KL Vacuous</th>\n",
       "      <th>KL Background</th>\n",
       "      <th>score</th>\n",
       "    </tr>\n",
       "  </thead>\n",
       "  <tbody>\n",
       "    <tr>\n",
       "      <th>0</th>\n",
       "      <td>LDA - 50</td>\n",
       "      <td>2</td>\n",
       "      <td>2</td>\n",
       "      <td>2</td>\n",
       "      <td>1</td>\n",
       "      <td>1</td>\n",
       "      <td>2</td>\n",
       "      <td>1</td>\n",
       "      <td>1</td>\n",
       "      <td>1</td>\n",
       "      <td>13</td>\n",
       "    </tr>\n",
       "    <tr>\n",
       "      <th>1</th>\n",
       "      <td>LDA - 25</td>\n",
       "      <td>1</td>\n",
       "      <td>1</td>\n",
       "      <td>1</td>\n",
       "      <td>2</td>\n",
       "      <td>2</td>\n",
       "      <td>1</td>\n",
       "      <td>2</td>\n",
       "      <td>2</td>\n",
       "      <td>2</td>\n",
       "      <td>14</td>\n",
       "    </tr>\n",
       "  </tbody>\n",
       "</table>\n",
       "</div>"
      ],
      "text/plain": [
       "  model name  UMass  NPMI  C_V  Topic Diversity  Inverted RBO  \\\n",
       "0   LDA - 50      2     2    2                1             1   \n",
       "1   LDA - 25      1     1    1                2             2   \n",
       "\n",
       "   Pairwise Jaccard  KL Uniform  KL Vacuous  KL Background  score  \n",
       "0                 2           1           1              1     13  \n",
       "1                 1           2           2              2     14  "
      ]
     },
     "execution_count": 3,
     "metadata": {},
     "output_type": "execute_result"
    }
   ],
   "source": [
    "scheduler = Scheduler()\n",
    "metrics = scheduler.train_all_models_with_metrics_calculation(dataset)\n",
    "model_ranker = ModelRanker()\n",
    "ranking = model_ranker.rank_models(metrics)\n",
    "ranking"
   ]
  }
 ],
 "metadata": {
  "kernelspec": {
   "display_name": "project-embedded",
   "language": "python",
   "name": "python3"
  },
  "language_info": {
   "codemirror_mode": {
    "name": "ipython",
    "version": 3
   },
   "file_extension": ".py",
   "mimetype": "text/x-python",
   "name": "python",
   "nbconvert_exporter": "python",
   "pygments_lexer": "ipython3",
   "version": "3.10.13"
  }
 },
 "nbformat": 4,
 "nbformat_minor": 2
}
