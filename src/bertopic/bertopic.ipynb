{
 "cells": [
  {
   "metadata": {
    "ExecuteTime": {
     "end_time": "2024-11-04T09:41:52.894394Z",
     "start_time": "2024-11-04T09:41:38.986463Z"
    }
   },
   "cell_type": "code",
   "source": [
    "from bertopic import BERTopic\n",
    "import pandas as pd\n",
    "import os\n",
    "\n",
    "# set env var\n",
    "os.environ[\"TOKENIZERS_PARALLELISM\"] = 'true'\n",
    "\n",
    "df = pd.read_csv('../../data/arxiv.csv', sep=';')\n",
    "data = df['Summary'].tolist()"
   ],
   "id": "9403eb955dff9fe5",
   "outputs": [],
   "execution_count": 1
  },
  {
   "metadata": {},
   "cell_type": "markdown",
   "source": "### Default representation",
   "id": "28a02cf0fa5c03e8"
  },
  {
   "metadata": {
    "ExecuteTime": {
     "end_time": "2024-11-04T09:43:57.624525Z",
     "start_time": "2024-11-04T09:42:05.862331Z"
    }
   },
   "cell_type": "code",
   "source": [
    "topic_model = BERTopic()\n",
    "topics, probs = topic_model.fit_transform(data)"
   ],
   "id": "3e901029f0366491",
   "outputs": [
    {
     "data": {
      "text/plain": [
       "modules.json:   0%|          | 0.00/349 [00:00<?, ?B/s]"
      ],
      "application/vnd.jupyter.widget-view+json": {
       "version_major": 2,
       "version_minor": 0,
       "model_id": "c58f438498f2440e9e037ffbccfdf1d2"
      }
     },
     "metadata": {},
     "output_type": "display_data"
    },
    {
     "data": {
      "text/plain": [
       "config_sentence_transformers.json:   0%|          | 0.00/116 [00:00<?, ?B/s]"
      ],
      "application/vnd.jupyter.widget-view+json": {
       "version_major": 2,
       "version_minor": 0,
       "model_id": "e0ef5c3613634b838608d0939c87a8af"
      }
     },
     "metadata": {},
     "output_type": "display_data"
    },
    {
     "data": {
      "text/plain": [
       "README.md:   0%|          | 0.00/10.7k [00:00<?, ?B/s]"
      ],
      "application/vnd.jupyter.widget-view+json": {
       "version_major": 2,
       "version_minor": 0,
       "model_id": "0619e1a549aa413caf4e758f75a0af32"
      }
     },
     "metadata": {},
     "output_type": "display_data"
    },
    {
     "data": {
      "text/plain": [
       "sentence_bert_config.json:   0%|          | 0.00/53.0 [00:00<?, ?B/s]"
      ],
      "application/vnd.jupyter.widget-view+json": {
       "version_major": 2,
       "version_minor": 0,
       "model_id": "6cde23bddd544454b238f0a9760a86e9"
      }
     },
     "metadata": {},
     "output_type": "display_data"
    },
    {
     "data": {
      "text/plain": [
       "config.json:   0%|          | 0.00/612 [00:00<?, ?B/s]"
      ],
      "application/vnd.jupyter.widget-view+json": {
       "version_major": 2,
       "version_minor": 0,
       "model_id": "cf55f20d800e4c90a01820f51b1b7ed0"
      }
     },
     "metadata": {},
     "output_type": "display_data"
    },
    {
     "data": {
      "text/plain": [
       "model.safetensors:   0%|          | 0.00/90.9M [00:00<?, ?B/s]"
      ],
      "application/vnd.jupyter.widget-view+json": {
       "version_major": 2,
       "version_minor": 0,
       "model_id": "c5c5ce4968a2447da75146a3358184a7"
      }
     },
     "metadata": {},
     "output_type": "display_data"
    },
    {
     "data": {
      "text/plain": [
       "tokenizer_config.json:   0%|          | 0.00/350 [00:00<?, ?B/s]"
      ],
      "application/vnd.jupyter.widget-view+json": {
       "version_major": 2,
       "version_minor": 0,
       "model_id": "47de6b28c80c46c4b50c0c51c01e0606"
      }
     },
     "metadata": {},
     "output_type": "display_data"
    },
    {
     "data": {
      "text/plain": [
       "vocab.txt:   0%|          | 0.00/232k [00:00<?, ?B/s]"
      ],
      "application/vnd.jupyter.widget-view+json": {
       "version_major": 2,
       "version_minor": 0,
       "model_id": "69b400e97ada49a9b52ab0696fb2c574"
      }
     },
     "metadata": {},
     "output_type": "display_data"
    },
    {
     "data": {
      "text/plain": [
       "tokenizer.json:   0%|          | 0.00/466k [00:00<?, ?B/s]"
      ],
      "application/vnd.jupyter.widget-view+json": {
       "version_major": 2,
       "version_minor": 0,
       "model_id": "c19469568d7e4fe4a67717a7e190c5ea"
      }
     },
     "metadata": {},
     "output_type": "display_data"
    },
    {
     "data": {
      "text/plain": [
       "special_tokens_map.json:   0%|          | 0.00/112 [00:00<?, ?B/s]"
      ],
      "application/vnd.jupyter.widget-view+json": {
       "version_major": 2,
       "version_minor": 0,
       "model_id": "75ced4a6f93743cf918ac516d47e002c"
      }
     },
     "metadata": {},
     "output_type": "display_data"
    },
    {
     "data": {
      "text/plain": [
       "1_Pooling/config.json:   0%|          | 0.00/190 [00:00<?, ?B/s]"
      ],
      "application/vnd.jupyter.widget-view+json": {
       "version_major": 2,
       "version_minor": 0,
       "model_id": "b64fc818ffc74a4683ca1634aac2379b"
      }
     },
     "metadata": {},
     "output_type": "display_data"
    }
   ],
   "execution_count": 2
  },
  {
   "metadata": {
    "ExecuteTime": {
     "end_time": "2024-11-04T09:50:06.994648Z",
     "start_time": "2024-11-04T09:50:06.975235Z"
    }
   },
   "cell_type": "code",
   "source": "topic_model.get_topic_info()",
   "id": "3b04b626778fc599",
   "outputs": [
    {
     "data": {
      "text/plain": [
       "     Topic  Count                                           Name  \\\n",
       "0       -1  13391                               -1_and_of_to_the   \n",
       "1        0    941                       0_graph_gnns_node_graphs   \n",
       "2        1    528         1_recommendation_recommender_user_item   \n",
       "3        2    378  2_dialogue_dialog_taskoriented_conversational   \n",
       "4        3    351           3_segmentation_medical_images_cancer   \n",
       "..     ...    ...                                            ...   \n",
       "393    392     10           392_multilabel_labels_taxonomy_label   \n",
       "394    393     10         393_biomedical_linking_entity_entities   \n",
       "395    394     10              394_face_swapping_identity_facial   \n",
       "396    395     10     395_simplification_readability_sentence_ts   \n",
       "397    396     10               396_trees_rashomon_tree_decision   \n",
       "\n",
       "                                        Representation  \\\n",
       "0      [and, of, to, the, in, that, we, for, is, this]   \n",
       "1    [graph, gnns, node, graphs, nodes, gnn, networ...   \n",
       "2    [recommendation, recommender, user, item, item...   \n",
       "3    [dialogue, dialog, taskoriented, conversationa...   \n",
       "4    [segmentation, medical, images, cancer, image,...   \n",
       "..                                                 ...   \n",
       "393  [multilabel, labels, taxonomy, label, ensemble...   \n",
       "394  [biomedical, linking, entity, entities, medica...   \n",
       "395  [face, swapping, identity, facial, attribute, ...   \n",
       "396  [simplification, readability, sentence, ts, te...   \n",
       "397  [trees, rashomon, tree, decision, pruning, pos...   \n",
       "\n",
       "                                   Representative_Docs  \n",
       "0    [When faced with learning challenging new task...  \n",
       "1    [Graph neural networks (GNNs) have become comp...  \n",
       "2    [Recently, interactive recommendation systems ...  \n",
       "3    [Unsupervised dialogue structure learning is a...  \n",
       "4    [Purpose: Lesion segmentation in medical imagi...  \n",
       "..                                                 ...  \n",
       "393  [Multilabel learning tackles the problem of as...  \n",
       "394  [Aligning terminological resources, including ...  \n",
       "395  [We propose a novel high-fidelity face swappin...  \n",
       "396  [Sentence simplification, which rewrites a sen...  \n",
       "397  [Sparse decision tree optimization has been on...  \n",
       "\n",
       "[398 rows x 5 columns]"
      ],
      "text/html": [
       "<div>\n",
       "<style scoped>\n",
       "    .dataframe tbody tr th:only-of-type {\n",
       "        vertical-align: middle;\n",
       "    }\n",
       "\n",
       "    .dataframe tbody tr th {\n",
       "        vertical-align: top;\n",
       "    }\n",
       "\n",
       "    .dataframe thead th {\n",
       "        text-align: right;\n",
       "    }\n",
       "</style>\n",
       "<table border=\"1\" class=\"dataframe\">\n",
       "  <thead>\n",
       "    <tr style=\"text-align: right;\">\n",
       "      <th></th>\n",
       "      <th>Topic</th>\n",
       "      <th>Count</th>\n",
       "      <th>Name</th>\n",
       "      <th>Representation</th>\n",
       "      <th>Representative_Docs</th>\n",
       "    </tr>\n",
       "  </thead>\n",
       "  <tbody>\n",
       "    <tr>\n",
       "      <th>0</th>\n",
       "      <td>-1</td>\n",
       "      <td>13391</td>\n",
       "      <td>-1_and_of_to_the</td>\n",
       "      <td>[and, of, to, the, in, that, we, for, is, this]</td>\n",
       "      <td>[When faced with learning challenging new task...</td>\n",
       "    </tr>\n",
       "    <tr>\n",
       "      <th>1</th>\n",
       "      <td>0</td>\n",
       "      <td>941</td>\n",
       "      <td>0_graph_gnns_node_graphs</td>\n",
       "      <td>[graph, gnns, node, graphs, nodes, gnn, networ...</td>\n",
       "      <td>[Graph neural networks (GNNs) have become comp...</td>\n",
       "    </tr>\n",
       "    <tr>\n",
       "      <th>2</th>\n",
       "      <td>1</td>\n",
       "      <td>528</td>\n",
       "      <td>1_recommendation_recommender_user_item</td>\n",
       "      <td>[recommendation, recommender, user, item, item...</td>\n",
       "      <td>[Recently, interactive recommendation systems ...</td>\n",
       "    </tr>\n",
       "    <tr>\n",
       "      <th>3</th>\n",
       "      <td>2</td>\n",
       "      <td>378</td>\n",
       "      <td>2_dialogue_dialog_taskoriented_conversational</td>\n",
       "      <td>[dialogue, dialog, taskoriented, conversationa...</td>\n",
       "      <td>[Unsupervised dialogue structure learning is a...</td>\n",
       "    </tr>\n",
       "    <tr>\n",
       "      <th>4</th>\n",
       "      <td>3</td>\n",
       "      <td>351</td>\n",
       "      <td>3_segmentation_medical_images_cancer</td>\n",
       "      <td>[segmentation, medical, images, cancer, image,...</td>\n",
       "      <td>[Purpose: Lesion segmentation in medical imagi...</td>\n",
       "    </tr>\n",
       "    <tr>\n",
       "      <th>...</th>\n",
       "      <td>...</td>\n",
       "      <td>...</td>\n",
       "      <td>...</td>\n",
       "      <td>...</td>\n",
       "      <td>...</td>\n",
       "    </tr>\n",
       "    <tr>\n",
       "      <th>393</th>\n",
       "      <td>392</td>\n",
       "      <td>10</td>\n",
       "      <td>392_multilabel_labels_taxonomy_label</td>\n",
       "      <td>[multilabel, labels, taxonomy, label, ensemble...</td>\n",
       "      <td>[Multilabel learning tackles the problem of as...</td>\n",
       "    </tr>\n",
       "    <tr>\n",
       "      <th>394</th>\n",
       "      <td>393</td>\n",
       "      <td>10</td>\n",
       "      <td>393_biomedical_linking_entity_entities</td>\n",
       "      <td>[biomedical, linking, entity, entities, medica...</td>\n",
       "      <td>[Aligning terminological resources, including ...</td>\n",
       "    </tr>\n",
       "    <tr>\n",
       "      <th>395</th>\n",
       "      <td>394</td>\n",
       "      <td>10</td>\n",
       "      <td>394_face_swapping_identity_facial</td>\n",
       "      <td>[face, swapping, identity, facial, attribute, ...</td>\n",
       "      <td>[We propose a novel high-fidelity face swappin...</td>\n",
       "    </tr>\n",
       "    <tr>\n",
       "      <th>396</th>\n",
       "      <td>395</td>\n",
       "      <td>10</td>\n",
       "      <td>395_simplification_readability_sentence_ts</td>\n",
       "      <td>[simplification, readability, sentence, ts, te...</td>\n",
       "      <td>[Sentence simplification, which rewrites a sen...</td>\n",
       "    </tr>\n",
       "    <tr>\n",
       "      <th>397</th>\n",
       "      <td>396</td>\n",
       "      <td>10</td>\n",
       "      <td>396_trees_rashomon_tree_decision</td>\n",
       "      <td>[trees, rashomon, tree, decision, pruning, pos...</td>\n",
       "      <td>[Sparse decision tree optimization has been on...</td>\n",
       "    </tr>\n",
       "  </tbody>\n",
       "</table>\n",
       "<p>398 rows × 5 columns</p>\n",
       "</div>"
      ]
     },
     "execution_count": 3,
     "metadata": {},
     "output_type": "execute_result"
    }
   ],
   "execution_count": 3
  },
  {
   "metadata": {},
   "cell_type": "markdown",
   "source": "398 topics, ~13400 outliers",
   "id": "be7de34e8695e630"
  },
  {
   "metadata": {},
   "cell_type": "markdown",
   "source": "### KeyBERTInspired representation",
   "id": "cb77b72b349bd7a8"
  },
  {
   "metadata": {
    "ExecuteTime": {
     "end_time": "2024-11-04T09:50:35.054454Z",
     "start_time": "2024-11-04T09:50:35.036631Z"
    }
   },
   "cell_type": "code",
   "source": "from bertopic.representation import KeyBERTInspired",
   "id": "af61bc0a231e11b7",
   "outputs": [],
   "execution_count": 6
  },
  {
   "metadata": {
    "ExecuteTime": {
     "end_time": "2024-11-04T09:54:39.244079Z",
     "start_time": "2024-11-04T09:52:49.829573Z"
    }
   },
   "cell_type": "code",
   "source": [
    "topic_model_2 = BERTopic(representation_model=KeyBERTInspired())\n",
    "topics, probs = topic_model_2.fit_transform(data)"
   ],
   "id": "6d5101d025c1189a",
   "outputs": [],
   "execution_count": 10
  },
  {
   "metadata": {
    "ExecuteTime": {
     "end_time": "2024-11-04T09:54:39.275362Z",
     "start_time": "2024-11-04T09:54:39.246145Z"
    }
   },
   "cell_type": "code",
   "source": "topic_model_2.get_topic_info()",
   "id": "65bf9b4f592eebe7",
   "outputs": [
    {
     "data": {
      "text/plain": [
       "     Topic  Count                                               Name  \\\n",
       "0       -1  12421                -1_ai_learning_reinforcement_neural   \n",
       "1        0    952         0_graphs_graphstructured_subgraph_networks   \n",
       "2        1    434  1_recommender_recommenders_recommendation_reco...   \n",
       "3        2    405              2_driving_vehicles_autonomous_traffic   \n",
       "4        3    364                          3_ethical_ethics_ai_moral   \n",
       "..     ...    ...                                                ...   \n",
       "370    369     10  369_patienthealthquestionnaires_wearable_smart...   \n",
       "371    370     10  370_planning_reinforcement_learning_symbolicmodel   \n",
       "372    371     10          371_agents_reinforcement_multiagent_agent   \n",
       "373    372     10         372_neural_dynamics_autoencoders_dynamical   \n",
       "374    373     10                    373_planning_planner_plans_plan   \n",
       "\n",
       "                                        Representation  \\\n",
       "0    [ai, learning, reinforcement, neural, deep, ta...   \n",
       "1    [graphs, graphstructured, subgraph, networks, ...   \n",
       "2    [recommender, recommenders, recommendation, re...   \n",
       "3    [driving, vehicles, autonomous, traffic, vehic...   \n",
       "4    [ethical, ethics, ai, moral, intelligence, alg...   \n",
       "..                                                 ...   \n",
       "370  [patienthealthquestionnaires, wearable, smartp...   \n",
       "371  [planning, reinforcement, learning, symbolicmo...   \n",
       "372  [agents, reinforcement, multiagent, agent, beh...   \n",
       "373  [neural, dynamics, autoencoders, dynamical, ne...   \n",
       "374  [planning, planner, plans, plan, inferences, a...   \n",
       "\n",
       "                                   Representative_Docs  \n",
       "0    [Recent machine-learning approaches to determi...  \n",
       "1    [A common issue in Graph Neural Networks (GNNs...  \n",
       "2    [In this paper, we investigate the recommendat...  \n",
       "3    [The end-to-end learning ability of self-drivi...  \n",
       "4    [The 4th Industrial Revolution is the culminat...  \n",
       "..                                                 ...  \n",
       "370  [Previous studies have shown the correlation b...  \n",
       "371  [Despite numerous successes in Deep Reinforcem...  \n",
       "372  [This work considers a novel information desig...  \n",
       "373  [We propose a method for learning dynamical sy...  \n",
       "374  [Typical approaches to plan recognition start ...  \n",
       "\n",
       "[375 rows x 5 columns]"
      ],
      "text/html": [
       "<div>\n",
       "<style scoped>\n",
       "    .dataframe tbody tr th:only-of-type {\n",
       "        vertical-align: middle;\n",
       "    }\n",
       "\n",
       "    .dataframe tbody tr th {\n",
       "        vertical-align: top;\n",
       "    }\n",
       "\n",
       "    .dataframe thead th {\n",
       "        text-align: right;\n",
       "    }\n",
       "</style>\n",
       "<table border=\"1\" class=\"dataframe\">\n",
       "  <thead>\n",
       "    <tr style=\"text-align: right;\">\n",
       "      <th></th>\n",
       "      <th>Topic</th>\n",
       "      <th>Count</th>\n",
       "      <th>Name</th>\n",
       "      <th>Representation</th>\n",
       "      <th>Representative_Docs</th>\n",
       "    </tr>\n",
       "  </thead>\n",
       "  <tbody>\n",
       "    <tr>\n",
       "      <th>0</th>\n",
       "      <td>-1</td>\n",
       "      <td>12421</td>\n",
       "      <td>-1_ai_learning_reinforcement_neural</td>\n",
       "      <td>[ai, learning, reinforcement, neural, deep, ta...</td>\n",
       "      <td>[Recent machine-learning approaches to determi...</td>\n",
       "    </tr>\n",
       "    <tr>\n",
       "      <th>1</th>\n",
       "      <td>0</td>\n",
       "      <td>952</td>\n",
       "      <td>0_graphs_graphstructured_subgraph_networks</td>\n",
       "      <td>[graphs, graphstructured, subgraph, networks, ...</td>\n",
       "      <td>[A common issue in Graph Neural Networks (GNNs...</td>\n",
       "    </tr>\n",
       "    <tr>\n",
       "      <th>2</th>\n",
       "      <td>1</td>\n",
       "      <td>434</td>\n",
       "      <td>1_recommender_recommenders_recommendation_reco...</td>\n",
       "      <td>[recommender, recommenders, recommendation, re...</td>\n",
       "      <td>[In this paper, we investigate the recommendat...</td>\n",
       "    </tr>\n",
       "    <tr>\n",
       "      <th>3</th>\n",
       "      <td>2</td>\n",
       "      <td>405</td>\n",
       "      <td>2_driving_vehicles_autonomous_traffic</td>\n",
       "      <td>[driving, vehicles, autonomous, traffic, vehic...</td>\n",
       "      <td>[The end-to-end learning ability of self-drivi...</td>\n",
       "    </tr>\n",
       "    <tr>\n",
       "      <th>4</th>\n",
       "      <td>3</td>\n",
       "      <td>364</td>\n",
       "      <td>3_ethical_ethics_ai_moral</td>\n",
       "      <td>[ethical, ethics, ai, moral, intelligence, alg...</td>\n",
       "      <td>[The 4th Industrial Revolution is the culminat...</td>\n",
       "    </tr>\n",
       "    <tr>\n",
       "      <th>...</th>\n",
       "      <td>...</td>\n",
       "      <td>...</td>\n",
       "      <td>...</td>\n",
       "      <td>...</td>\n",
       "      <td>...</td>\n",
       "    </tr>\n",
       "    <tr>\n",
       "      <th>370</th>\n",
       "      <td>369</td>\n",
       "      <td>10</td>\n",
       "      <td>369_patienthealthquestionnaires_wearable_smart...</td>\n",
       "      <td>[patienthealthquestionnaires, wearable, smartp...</td>\n",
       "      <td>[Previous studies have shown the correlation b...</td>\n",
       "    </tr>\n",
       "    <tr>\n",
       "      <th>371</th>\n",
       "      <td>370</td>\n",
       "      <td>10</td>\n",
       "      <td>370_planning_reinforcement_learning_symbolicmodel</td>\n",
       "      <td>[planning, reinforcement, learning, symbolicmo...</td>\n",
       "      <td>[Despite numerous successes in Deep Reinforcem...</td>\n",
       "    </tr>\n",
       "    <tr>\n",
       "      <th>372</th>\n",
       "      <td>371</td>\n",
       "      <td>10</td>\n",
       "      <td>371_agents_reinforcement_multiagent_agent</td>\n",
       "      <td>[agents, reinforcement, multiagent, agent, beh...</td>\n",
       "      <td>[This work considers a novel information desig...</td>\n",
       "    </tr>\n",
       "    <tr>\n",
       "      <th>373</th>\n",
       "      <td>372</td>\n",
       "      <td>10</td>\n",
       "      <td>372_neural_dynamics_autoencoders_dynamical</td>\n",
       "      <td>[neural, dynamics, autoencoders, dynamical, ne...</td>\n",
       "      <td>[We propose a method for learning dynamical sy...</td>\n",
       "    </tr>\n",
       "    <tr>\n",
       "      <th>374</th>\n",
       "      <td>373</td>\n",
       "      <td>10</td>\n",
       "      <td>373_planning_planner_plans_plan</td>\n",
       "      <td>[planning, planner, plans, plan, inferences, a...</td>\n",
       "      <td>[Typical approaches to plan recognition start ...</td>\n",
       "    </tr>\n",
       "  </tbody>\n",
       "</table>\n",
       "<p>375 rows × 5 columns</p>\n",
       "</div>"
      ]
     },
     "execution_count": 11,
     "metadata": {},
     "output_type": "execute_result"
    }
   ],
   "execution_count": 11
  },
  {
   "metadata": {
    "ExecuteTime": {
     "end_time": "2024-11-04T09:54:39.354398Z",
     "start_time": "2024-11-04T09:54:39.276393Z"
    }
   },
   "cell_type": "code",
   "source": "topic_model_2.visualize_barchart()",
   "id": "d0701282a07b7358",
   "outputs": [
    {
     "data": {
      "application/vnd.plotly.v1+json": {
       "data": [
        {
         "marker": {
          "color": "#D55E00"
         },
         "orientation": "h",
         "x": [
          0.431387722492218,
          0.45528191328048706,
          0.4557878077030182,
          0.4798520803451538,
          0.4958060383796692
         ],
         "y": [
          "graph  ",
          "networks  ",
          "subgraph  ",
          "graphstructured  ",
          "graphs  "
         ],
         "type": "bar",
         "xaxis": "x",
         "yaxis": "y"
        },
        {
         "marker": {
          "color": "#0072B2"
         },
         "orientation": "h",
         "x": [
          0.3990463614463806,
          0.40405207872390747,
          0.41558295488357544,
          0.527124285697937,
          0.5467709302902222
         ],
         "y": [
          "personalized  ",
          "recommendations  ",
          "recommendation  ",
          "recommenders  ",
          "recommender  "
         ],
         "type": "bar",
         "xaxis": "x2",
         "yaxis": "y2"
        },
        {
         "marker": {
          "color": "#CC79A7"
         },
         "orientation": "h",
         "x": [
          0.4148331582546234,
          0.41894763708114624,
          0.4411280155181885,
          0.4419061243534088,
          0.48593869805336
         ],
         "y": [
          "vehicle  ",
          "traffic  ",
          "autonomous  ",
          "vehicles  ",
          "driving  "
         ],
         "type": "bar",
         "xaxis": "x3",
         "yaxis": "y3"
        },
        {
         "marker": {
          "color": "#E69F00"
         },
         "orientation": "h",
         "x": [
          0.35523325204849243,
          0.37122642993927,
          0.5310268998146057,
          0.5548233389854431,
          0.5736266374588013
         ],
         "y": [
          "intelligence  ",
          "moral  ",
          "ai  ",
          "ethics  ",
          "ethical  "
         ],
         "type": "bar",
         "xaxis": "x4",
         "yaxis": "y4"
        },
        {
         "marker": {
          "color": "#56B4E9"
         },
         "orientation": "h",
         "x": [
          0.4603070616722107,
          0.5481247901916504,
          0.5728540420532227,
          0.5832720994949341,
          0.5836164951324463
         ],
         "y": [
          "conversation  ",
          "dialogues  ",
          "dialog  ",
          "dialogs  ",
          "dialogue  "
         ],
         "type": "bar",
         "xaxis": "x5",
         "yaxis": "y5"
        },
        {
         "marker": {
          "color": "#009E73"
         },
         "orientation": "h",
         "x": [
          0.33938416838645935,
          0.36163783073425293,
          0.36165839433670044,
          0.3636876344680786,
          0.3732423186302185
         ],
         "y": [
          "corpus  ",
          "clinical  ",
          "nlp  ",
          "medicine  ",
          "medical  "
         ],
         "type": "bar",
         "xaxis": "x6",
         "yaxis": "y6"
        },
        {
         "marker": {
          "color": "#F0E442"
         },
         "orientation": "h",
         "x": [
          0.3266949951648712,
          0.34101900458335876,
          0.39148908853530884,
          0.4127214550971985,
          0.4539531469345093
         ],
         "y": [
          "mri  ",
          "imaging  ",
          "supervised  ",
          "cnn  ",
          "segmentation  "
         ],
         "type": "bar",
         "xaxis": "x7",
         "yaxis": "y7"
        },
        {
         "marker": {
          "color": "#D55E00"
         },
         "orientation": "h",
         "x": [
          0.40380463004112244,
          0.4862123131752014,
          0.5219898819923401,
          0.5249478816986084,
          0.5397326946258545
         ],
         "y": [
          "lstm  ",
          "timeseries  ",
          "forecast  ",
          "forecasts  ",
          "forecasting  "
         ],
         "type": "bar",
         "xaxis": "x8",
         "yaxis": "y8"
        }
       ],
       "layout": {
        "template": {
         "data": {
          "barpolar": [
           {
            "marker": {
             "line": {
              "color": "white",
              "width": 0.5
             },
             "pattern": {
              "fillmode": "overlay",
              "size": 10,
              "solidity": 0.2
             }
            },
            "type": "barpolar"
           }
          ],
          "bar": [
           {
            "error_x": {
             "color": "#2a3f5f"
            },
            "error_y": {
             "color": "#2a3f5f"
            },
            "marker": {
             "line": {
              "color": "white",
              "width": 0.5
             },
             "pattern": {
              "fillmode": "overlay",
              "size": 10,
              "solidity": 0.2
             }
            },
            "type": "bar"
           }
          ],
          "carpet": [
           {
            "aaxis": {
             "endlinecolor": "#2a3f5f",
             "gridcolor": "#C8D4E3",
             "linecolor": "#C8D4E3",
             "minorgridcolor": "#C8D4E3",
             "startlinecolor": "#2a3f5f"
            },
            "baxis": {
             "endlinecolor": "#2a3f5f",
             "gridcolor": "#C8D4E3",
             "linecolor": "#C8D4E3",
             "minorgridcolor": "#C8D4E3",
             "startlinecolor": "#2a3f5f"
            },
            "type": "carpet"
           }
          ],
          "choropleth": [
           {
            "colorbar": {
             "outlinewidth": 0,
             "ticks": ""
            },
            "type": "choropleth"
           }
          ],
          "contourcarpet": [
           {
            "colorbar": {
             "outlinewidth": 0,
             "ticks": ""
            },
            "type": "contourcarpet"
           }
          ],
          "contour": [
           {
            "colorbar": {
             "outlinewidth": 0,
             "ticks": ""
            },
            "colorscale": [
             [
              0.0,
              "#0d0887"
             ],
             [
              0.1111111111111111,
              "#46039f"
             ],
             [
              0.2222222222222222,
              "#7201a8"
             ],
             [
              0.3333333333333333,
              "#9c179e"
             ],
             [
              0.4444444444444444,
              "#bd3786"
             ],
             [
              0.5555555555555556,
              "#d8576b"
             ],
             [
              0.6666666666666666,
              "#ed7953"
             ],
             [
              0.7777777777777778,
              "#fb9f3a"
             ],
             [
              0.8888888888888888,
              "#fdca26"
             ],
             [
              1.0,
              "#f0f921"
             ]
            ],
            "type": "contour"
           }
          ],
          "heatmapgl": [
           {
            "colorbar": {
             "outlinewidth": 0,
             "ticks": ""
            },
            "colorscale": [
             [
              0.0,
              "#0d0887"
             ],
             [
              0.1111111111111111,
              "#46039f"
             ],
             [
              0.2222222222222222,
              "#7201a8"
             ],
             [
              0.3333333333333333,
              "#9c179e"
             ],
             [
              0.4444444444444444,
              "#bd3786"
             ],
             [
              0.5555555555555556,
              "#d8576b"
             ],
             [
              0.6666666666666666,
              "#ed7953"
             ],
             [
              0.7777777777777778,
              "#fb9f3a"
             ],
             [
              0.8888888888888888,
              "#fdca26"
             ],
             [
              1.0,
              "#f0f921"
             ]
            ],
            "type": "heatmapgl"
           }
          ],
          "heatmap": [
           {
            "colorbar": {
             "outlinewidth": 0,
             "ticks": ""
            },
            "colorscale": [
             [
              0.0,
              "#0d0887"
             ],
             [
              0.1111111111111111,
              "#46039f"
             ],
             [
              0.2222222222222222,
              "#7201a8"
             ],
             [
              0.3333333333333333,
              "#9c179e"
             ],
             [
              0.4444444444444444,
              "#bd3786"
             ],
             [
              0.5555555555555556,
              "#d8576b"
             ],
             [
              0.6666666666666666,
              "#ed7953"
             ],
             [
              0.7777777777777778,
              "#fb9f3a"
             ],
             [
              0.8888888888888888,
              "#fdca26"
             ],
             [
              1.0,
              "#f0f921"
             ]
            ],
            "type": "heatmap"
           }
          ],
          "histogram2dcontour": [
           {
            "colorbar": {
             "outlinewidth": 0,
             "ticks": ""
            },
            "colorscale": [
             [
              0.0,
              "#0d0887"
             ],
             [
              0.1111111111111111,
              "#46039f"
             ],
             [
              0.2222222222222222,
              "#7201a8"
             ],
             [
              0.3333333333333333,
              "#9c179e"
             ],
             [
              0.4444444444444444,
              "#bd3786"
             ],
             [
              0.5555555555555556,
              "#d8576b"
             ],
             [
              0.6666666666666666,
              "#ed7953"
             ],
             [
              0.7777777777777778,
              "#fb9f3a"
             ],
             [
              0.8888888888888888,
              "#fdca26"
             ],
             [
              1.0,
              "#f0f921"
             ]
            ],
            "type": "histogram2dcontour"
           }
          ],
          "histogram2d": [
           {
            "colorbar": {
             "outlinewidth": 0,
             "ticks": ""
            },
            "colorscale": [
             [
              0.0,
              "#0d0887"
             ],
             [
              0.1111111111111111,
              "#46039f"
             ],
             [
              0.2222222222222222,
              "#7201a8"
             ],
             [
              0.3333333333333333,
              "#9c179e"
             ],
             [
              0.4444444444444444,
              "#bd3786"
             ],
             [
              0.5555555555555556,
              "#d8576b"
             ],
             [
              0.6666666666666666,
              "#ed7953"
             ],
             [
              0.7777777777777778,
              "#fb9f3a"
             ],
             [
              0.8888888888888888,
              "#fdca26"
             ],
             [
              1.0,
              "#f0f921"
             ]
            ],
            "type": "histogram2d"
           }
          ],
          "histogram": [
           {
            "marker": {
             "pattern": {
              "fillmode": "overlay",
              "size": 10,
              "solidity": 0.2
             }
            },
            "type": "histogram"
           }
          ],
          "mesh3d": [
           {
            "colorbar": {
             "outlinewidth": 0,
             "ticks": ""
            },
            "type": "mesh3d"
           }
          ],
          "parcoords": [
           {
            "line": {
             "colorbar": {
              "outlinewidth": 0,
              "ticks": ""
             }
            },
            "type": "parcoords"
           }
          ],
          "pie": [
           {
            "automargin": true,
            "type": "pie"
           }
          ],
          "scatter3d": [
           {
            "line": {
             "colorbar": {
              "outlinewidth": 0,
              "ticks": ""
             }
            },
            "marker": {
             "colorbar": {
              "outlinewidth": 0,
              "ticks": ""
             }
            },
            "type": "scatter3d"
           }
          ],
          "scattercarpet": [
           {
            "marker": {
             "colorbar": {
              "outlinewidth": 0,
              "ticks": ""
             }
            },
            "type": "scattercarpet"
           }
          ],
          "scattergeo": [
           {
            "marker": {
             "colorbar": {
              "outlinewidth": 0,
              "ticks": ""
             }
            },
            "type": "scattergeo"
           }
          ],
          "scattergl": [
           {
            "marker": {
             "colorbar": {
              "outlinewidth": 0,
              "ticks": ""
             }
            },
            "type": "scattergl"
           }
          ],
          "scattermapbox": [
           {
            "marker": {
             "colorbar": {
              "outlinewidth": 0,
              "ticks": ""
             }
            },
            "type": "scattermapbox"
           }
          ],
          "scatterpolargl": [
           {
            "marker": {
             "colorbar": {
              "outlinewidth": 0,
              "ticks": ""
             }
            },
            "type": "scatterpolargl"
           }
          ],
          "scatterpolar": [
           {
            "marker": {
             "colorbar": {
              "outlinewidth": 0,
              "ticks": ""
             }
            },
            "type": "scatterpolar"
           }
          ],
          "scatter": [
           {
            "fillpattern": {
             "fillmode": "overlay",
             "size": 10,
             "solidity": 0.2
            },
            "type": "scatter"
           }
          ],
          "scatterternary": [
           {
            "marker": {
             "colorbar": {
              "outlinewidth": 0,
              "ticks": ""
             }
            },
            "type": "scatterternary"
           }
          ],
          "surface": [
           {
            "colorbar": {
             "outlinewidth": 0,
             "ticks": ""
            },
            "colorscale": [
             [
              0.0,
              "#0d0887"
             ],
             [
              0.1111111111111111,
              "#46039f"
             ],
             [
              0.2222222222222222,
              "#7201a8"
             ],
             [
              0.3333333333333333,
              "#9c179e"
             ],
             [
              0.4444444444444444,
              "#bd3786"
             ],
             [
              0.5555555555555556,
              "#d8576b"
             ],
             [
              0.6666666666666666,
              "#ed7953"
             ],
             [
              0.7777777777777778,
              "#fb9f3a"
             ],
             [
              0.8888888888888888,
              "#fdca26"
             ],
             [
              1.0,
              "#f0f921"
             ]
            ],
            "type": "surface"
           }
          ],
          "table": [
           {
            "cells": {
             "fill": {
              "color": "#EBF0F8"
             },
             "line": {
              "color": "white"
             }
            },
            "header": {
             "fill": {
              "color": "#C8D4E3"
             },
             "line": {
              "color": "white"
             }
            },
            "type": "table"
           }
          ]
         },
         "layout": {
          "annotationdefaults": {
           "arrowcolor": "#2a3f5f",
           "arrowhead": 0,
           "arrowwidth": 1
          },
          "autotypenumbers": "strict",
          "coloraxis": {
           "colorbar": {
            "outlinewidth": 0,
            "ticks": ""
           }
          },
          "colorscale": {
           "diverging": [
            [
             0,
             "#8e0152"
            ],
            [
             0.1,
             "#c51b7d"
            ],
            [
             0.2,
             "#de77ae"
            ],
            [
             0.3,
             "#f1b6da"
            ],
            [
             0.4,
             "#fde0ef"
            ],
            [
             0.5,
             "#f7f7f7"
            ],
            [
             0.6,
             "#e6f5d0"
            ],
            [
             0.7,
             "#b8e186"
            ],
            [
             0.8,
             "#7fbc41"
            ],
            [
             0.9,
             "#4d9221"
            ],
            [
             1,
             "#276419"
            ]
           ],
           "sequential": [
            [
             0.0,
             "#0d0887"
            ],
            [
             0.1111111111111111,
             "#46039f"
            ],
            [
             0.2222222222222222,
             "#7201a8"
            ],
            [
             0.3333333333333333,
             "#9c179e"
            ],
            [
             0.4444444444444444,
             "#bd3786"
            ],
            [
             0.5555555555555556,
             "#d8576b"
            ],
            [
             0.6666666666666666,
             "#ed7953"
            ],
            [
             0.7777777777777778,
             "#fb9f3a"
            ],
            [
             0.8888888888888888,
             "#fdca26"
            ],
            [
             1.0,
             "#f0f921"
            ]
           ],
           "sequentialminus": [
            [
             0.0,
             "#0d0887"
            ],
            [
             0.1111111111111111,
             "#46039f"
            ],
            [
             0.2222222222222222,
             "#7201a8"
            ],
            [
             0.3333333333333333,
             "#9c179e"
            ],
            [
             0.4444444444444444,
             "#bd3786"
            ],
            [
             0.5555555555555556,
             "#d8576b"
            ],
            [
             0.6666666666666666,
             "#ed7953"
            ],
            [
             0.7777777777777778,
             "#fb9f3a"
            ],
            [
             0.8888888888888888,
             "#fdca26"
            ],
            [
             1.0,
             "#f0f921"
            ]
           ]
          },
          "colorway": [
           "#636efa",
           "#EF553B",
           "#00cc96",
           "#ab63fa",
           "#FFA15A",
           "#19d3f3",
           "#FF6692",
           "#B6E880",
           "#FF97FF",
           "#FECB52"
          ],
          "font": {
           "color": "#2a3f5f"
          },
          "geo": {
           "bgcolor": "white",
           "lakecolor": "white",
           "landcolor": "white",
           "showlakes": true,
           "showland": true,
           "subunitcolor": "#C8D4E3"
          },
          "hoverlabel": {
           "align": "left"
          },
          "hovermode": "closest",
          "mapbox": {
           "style": "light"
          },
          "paper_bgcolor": "white",
          "plot_bgcolor": "white",
          "polar": {
           "angularaxis": {
            "gridcolor": "#EBF0F8",
            "linecolor": "#EBF0F8",
            "ticks": ""
           },
           "bgcolor": "white",
           "radialaxis": {
            "gridcolor": "#EBF0F8",
            "linecolor": "#EBF0F8",
            "ticks": ""
           }
          },
          "scene": {
           "xaxis": {
            "backgroundcolor": "white",
            "gridcolor": "#DFE8F3",
            "gridwidth": 2,
            "linecolor": "#EBF0F8",
            "showbackground": true,
            "ticks": "",
            "zerolinecolor": "#EBF0F8"
           },
           "yaxis": {
            "backgroundcolor": "white",
            "gridcolor": "#DFE8F3",
            "gridwidth": 2,
            "linecolor": "#EBF0F8",
            "showbackground": true,
            "ticks": "",
            "zerolinecolor": "#EBF0F8"
           },
           "zaxis": {
            "backgroundcolor": "white",
            "gridcolor": "#DFE8F3",
            "gridwidth": 2,
            "linecolor": "#EBF0F8",
            "showbackground": true,
            "ticks": "",
            "zerolinecolor": "#EBF0F8"
           }
          },
          "shapedefaults": {
           "line": {
            "color": "#2a3f5f"
           }
          },
          "ternary": {
           "aaxis": {
            "gridcolor": "#DFE8F3",
            "linecolor": "#A2B1C6",
            "ticks": ""
           },
           "baxis": {
            "gridcolor": "#DFE8F3",
            "linecolor": "#A2B1C6",
            "ticks": ""
           },
           "bgcolor": "white",
           "caxis": {
            "gridcolor": "#DFE8F3",
            "linecolor": "#A2B1C6",
            "ticks": ""
           }
          },
          "title": {
           "x": 0.05
          },
          "xaxis": {
           "automargin": true,
           "gridcolor": "#EBF0F8",
           "linecolor": "#EBF0F8",
           "ticks": "",
           "title": {
            "standoff": 15
           },
           "zerolinecolor": "#EBF0F8",
           "zerolinewidth": 2
          },
          "yaxis": {
           "automargin": true,
           "gridcolor": "#EBF0F8",
           "linecolor": "#EBF0F8",
           "ticks": "",
           "title": {
            "standoff": 15
           },
           "zerolinecolor": "#EBF0F8",
           "zerolinewidth": 2
          }
         }
        },
        "xaxis": {
         "anchor": "y",
         "domain": [
          0.0,
          0.175
         ],
         "showgrid": true
        },
        "yaxis": {
         "anchor": "x",
         "domain": [
          0.6000000000000001,
          1.0
         ],
         "showgrid": true
        },
        "xaxis2": {
         "anchor": "y2",
         "domain": [
          0.275,
          0.45
         ],
         "showgrid": true
        },
        "yaxis2": {
         "anchor": "x2",
         "domain": [
          0.6000000000000001,
          1.0
         ],
         "showgrid": true
        },
        "xaxis3": {
         "anchor": "y3",
         "domain": [
          0.55,
          0.7250000000000001
         ],
         "showgrid": true
        },
        "yaxis3": {
         "anchor": "x3",
         "domain": [
          0.6000000000000001,
          1.0
         ],
         "showgrid": true
        },
        "xaxis4": {
         "anchor": "y4",
         "domain": [
          0.825,
          1.0
         ],
         "showgrid": true
        },
        "yaxis4": {
         "anchor": "x4",
         "domain": [
          0.6000000000000001,
          1.0
         ],
         "showgrid": true
        },
        "xaxis5": {
         "anchor": "y5",
         "domain": [
          0.0,
          0.175
         ],
         "showgrid": true
        },
        "yaxis5": {
         "anchor": "x5",
         "domain": [
          0.0,
          0.4
         ],
         "showgrid": true
        },
        "xaxis6": {
         "anchor": "y6",
         "domain": [
          0.275,
          0.45
         ],
         "showgrid": true
        },
        "yaxis6": {
         "anchor": "x6",
         "domain": [
          0.0,
          0.4
         ],
         "showgrid": true
        },
        "xaxis7": {
         "anchor": "y7",
         "domain": [
          0.55,
          0.7250000000000001
         ],
         "showgrid": true
        },
        "yaxis7": {
         "anchor": "x7",
         "domain": [
          0.0,
          0.4
         ],
         "showgrid": true
        },
        "xaxis8": {
         "anchor": "y8",
         "domain": [
          0.825,
          1.0
         ],
         "showgrid": true
        },
        "yaxis8": {
         "anchor": "x8",
         "domain": [
          0.0,
          0.4
         ],
         "showgrid": true
        },
        "annotations": [
         {
          "font": {
           "size": 16
          },
          "showarrow": false,
          "text": "Topic 0",
          "x": 0.0875,
          "xanchor": "center",
          "xref": "paper",
          "y": 1.0,
          "yanchor": "bottom",
          "yref": "paper"
         },
         {
          "font": {
           "size": 16
          },
          "showarrow": false,
          "text": "Topic 1",
          "x": 0.36250000000000004,
          "xanchor": "center",
          "xref": "paper",
          "y": 1.0,
          "yanchor": "bottom",
          "yref": "paper"
         },
         {
          "font": {
           "size": 16
          },
          "showarrow": false,
          "text": "Topic 2",
          "x": 0.6375000000000001,
          "xanchor": "center",
          "xref": "paper",
          "y": 1.0,
          "yanchor": "bottom",
          "yref": "paper"
         },
         {
          "font": {
           "size": 16
          },
          "showarrow": false,
          "text": "Topic 3",
          "x": 0.9125,
          "xanchor": "center",
          "xref": "paper",
          "y": 1.0,
          "yanchor": "bottom",
          "yref": "paper"
         },
         {
          "font": {
           "size": 16
          },
          "showarrow": false,
          "text": "Topic 4",
          "x": 0.0875,
          "xanchor": "center",
          "xref": "paper",
          "y": 0.4,
          "yanchor": "bottom",
          "yref": "paper"
         },
         {
          "font": {
           "size": 16
          },
          "showarrow": false,
          "text": "Topic 5",
          "x": 0.36250000000000004,
          "xanchor": "center",
          "xref": "paper",
          "y": 0.4,
          "yanchor": "bottom",
          "yref": "paper"
         },
         {
          "font": {
           "size": 16
          },
          "showarrow": false,
          "text": "Topic 6",
          "x": 0.6375000000000001,
          "xanchor": "center",
          "xref": "paper",
          "y": 0.4,
          "yanchor": "bottom",
          "yref": "paper"
         },
         {
          "font": {
           "size": 16
          },
          "showarrow": false,
          "text": "Topic 7",
          "x": 0.9125,
          "xanchor": "center",
          "xref": "paper",
          "y": 0.4,
          "yanchor": "bottom",
          "yref": "paper"
         }
        ],
        "title": {
         "font": {
          "size": 22,
          "color": "Black"
         },
         "text": "Topic Word Scores",
         "x": 0.5,
         "xanchor": "center",
         "yanchor": "top"
        },
        "hoverlabel": {
         "font": {
          "size": 16,
          "family": "Rockwell"
         },
         "bgcolor": "white"
        },
        "showlegend": false,
        "width": 1000,
        "height": 500
       },
       "config": {
        "plotlyServerURL": "https://plot.ly"
       }
      },
      "text/html": [
       "<div>                            <div id=\"fbd886f3-4f75-4199-8fb2-750bca1cff26\" class=\"plotly-graph-div\" style=\"height:500px; width:1000px;\"></div>            <script type=\"text/javascript\">                require([\"plotly\"], function(Plotly) {                    window.PLOTLYENV=window.PLOTLYENV || {};                                    if (document.getElementById(\"fbd886f3-4f75-4199-8fb2-750bca1cff26\")) {                    Plotly.newPlot(                        \"fbd886f3-4f75-4199-8fb2-750bca1cff26\",                        [{\"marker\":{\"color\":\"#D55E00\"},\"orientation\":\"h\",\"x\":[0.431387722492218,0.45528191328048706,0.4557878077030182,0.4798520803451538,0.4958060383796692],\"y\":[\"graph  \",\"networks  \",\"subgraph  \",\"graphstructured  \",\"graphs  \"],\"type\":\"bar\",\"xaxis\":\"x\",\"yaxis\":\"y\"},{\"marker\":{\"color\":\"#0072B2\"},\"orientation\":\"h\",\"x\":[0.3990463614463806,0.40405207872390747,0.41558295488357544,0.527124285697937,0.5467709302902222],\"y\":[\"personalized  \",\"recommendations  \",\"recommendation  \",\"recommenders  \",\"recommender  \"],\"type\":\"bar\",\"xaxis\":\"x2\",\"yaxis\":\"y2\"},{\"marker\":{\"color\":\"#CC79A7\"},\"orientation\":\"h\",\"x\":[0.4148331582546234,0.41894763708114624,0.4411280155181885,0.4419061243534088,0.48593869805336],\"y\":[\"vehicle  \",\"traffic  \",\"autonomous  \",\"vehicles  \",\"driving  \"],\"type\":\"bar\",\"xaxis\":\"x3\",\"yaxis\":\"y3\"},{\"marker\":{\"color\":\"#E69F00\"},\"orientation\":\"h\",\"x\":[0.35523325204849243,0.37122642993927,0.5310268998146057,0.5548233389854431,0.5736266374588013],\"y\":[\"intelligence  \",\"moral  \",\"ai  \",\"ethics  \",\"ethical  \"],\"type\":\"bar\",\"xaxis\":\"x4\",\"yaxis\":\"y4\"},{\"marker\":{\"color\":\"#56B4E9\"},\"orientation\":\"h\",\"x\":[0.4603070616722107,0.5481247901916504,0.5728540420532227,0.5832720994949341,0.5836164951324463],\"y\":[\"conversation  \",\"dialogues  \",\"dialog  \",\"dialogs  \",\"dialogue  \"],\"type\":\"bar\",\"xaxis\":\"x5\",\"yaxis\":\"y5\"},{\"marker\":{\"color\":\"#009E73\"},\"orientation\":\"h\",\"x\":[0.33938416838645935,0.36163783073425293,0.36165839433670044,0.3636876344680786,0.3732423186302185],\"y\":[\"corpus  \",\"clinical  \",\"nlp  \",\"medicine  \",\"medical  \"],\"type\":\"bar\",\"xaxis\":\"x6\",\"yaxis\":\"y6\"},{\"marker\":{\"color\":\"#F0E442\"},\"orientation\":\"h\",\"x\":[0.3266949951648712,0.34101900458335876,0.39148908853530884,0.4127214550971985,0.4539531469345093],\"y\":[\"mri  \",\"imaging  \",\"supervised  \",\"cnn  \",\"segmentation  \"],\"type\":\"bar\",\"xaxis\":\"x7\",\"yaxis\":\"y7\"},{\"marker\":{\"color\":\"#D55E00\"},\"orientation\":\"h\",\"x\":[0.40380463004112244,0.4862123131752014,0.5219898819923401,0.5249478816986084,0.5397326946258545],\"y\":[\"lstm  \",\"timeseries  \",\"forecast  \",\"forecasts  \",\"forecasting  \"],\"type\":\"bar\",\"xaxis\":\"x8\",\"yaxis\":\"y8\"}],                        {\"template\":{\"data\":{\"barpolar\":[{\"marker\":{\"line\":{\"color\":\"white\",\"width\":0.5},\"pattern\":{\"fillmode\":\"overlay\",\"size\":10,\"solidity\":0.2}},\"type\":\"barpolar\"}],\"bar\":[{\"error_x\":{\"color\":\"#2a3f5f\"},\"error_y\":{\"color\":\"#2a3f5f\"},\"marker\":{\"line\":{\"color\":\"white\",\"width\":0.5},\"pattern\":{\"fillmode\":\"overlay\",\"size\":10,\"solidity\":0.2}},\"type\":\"bar\"}],\"carpet\":[{\"aaxis\":{\"endlinecolor\":\"#2a3f5f\",\"gridcolor\":\"#C8D4E3\",\"linecolor\":\"#C8D4E3\",\"minorgridcolor\":\"#C8D4E3\",\"startlinecolor\":\"#2a3f5f\"},\"baxis\":{\"endlinecolor\":\"#2a3f5f\",\"gridcolor\":\"#C8D4E3\",\"linecolor\":\"#C8D4E3\",\"minorgridcolor\":\"#C8D4E3\",\"startlinecolor\":\"#2a3f5f\"},\"type\":\"carpet\"}],\"choropleth\":[{\"colorbar\":{\"outlinewidth\":0,\"ticks\":\"\"},\"type\":\"choropleth\"}],\"contourcarpet\":[{\"colorbar\":{\"outlinewidth\":0,\"ticks\":\"\"},\"type\":\"contourcarpet\"}],\"contour\":[{\"colorbar\":{\"outlinewidth\":0,\"ticks\":\"\"},\"colorscale\":[[0.0,\"#0d0887\"],[0.1111111111111111,\"#46039f\"],[0.2222222222222222,\"#7201a8\"],[0.3333333333333333,\"#9c179e\"],[0.4444444444444444,\"#bd3786\"],[0.5555555555555556,\"#d8576b\"],[0.6666666666666666,\"#ed7953\"],[0.7777777777777778,\"#fb9f3a\"],[0.8888888888888888,\"#fdca26\"],[1.0,\"#f0f921\"]],\"type\":\"contour\"}],\"heatmapgl\":[{\"colorbar\":{\"outlinewidth\":0,\"ticks\":\"\"},\"colorscale\":[[0.0,\"#0d0887\"],[0.1111111111111111,\"#46039f\"],[0.2222222222222222,\"#7201a8\"],[0.3333333333333333,\"#9c179e\"],[0.4444444444444444,\"#bd3786\"],[0.5555555555555556,\"#d8576b\"],[0.6666666666666666,\"#ed7953\"],[0.7777777777777778,\"#fb9f3a\"],[0.8888888888888888,\"#fdca26\"],[1.0,\"#f0f921\"]],\"type\":\"heatmapgl\"}],\"heatmap\":[{\"colorbar\":{\"outlinewidth\":0,\"ticks\":\"\"},\"colorscale\":[[0.0,\"#0d0887\"],[0.1111111111111111,\"#46039f\"],[0.2222222222222222,\"#7201a8\"],[0.3333333333333333,\"#9c179e\"],[0.4444444444444444,\"#bd3786\"],[0.5555555555555556,\"#d8576b\"],[0.6666666666666666,\"#ed7953\"],[0.7777777777777778,\"#fb9f3a\"],[0.8888888888888888,\"#fdca26\"],[1.0,\"#f0f921\"]],\"type\":\"heatmap\"}],\"histogram2dcontour\":[{\"colorbar\":{\"outlinewidth\":0,\"ticks\":\"\"},\"colorscale\":[[0.0,\"#0d0887\"],[0.1111111111111111,\"#46039f\"],[0.2222222222222222,\"#7201a8\"],[0.3333333333333333,\"#9c179e\"],[0.4444444444444444,\"#bd3786\"],[0.5555555555555556,\"#d8576b\"],[0.6666666666666666,\"#ed7953\"],[0.7777777777777778,\"#fb9f3a\"],[0.8888888888888888,\"#fdca26\"],[1.0,\"#f0f921\"]],\"type\":\"histogram2dcontour\"}],\"histogram2d\":[{\"colorbar\":{\"outlinewidth\":0,\"ticks\":\"\"},\"colorscale\":[[0.0,\"#0d0887\"],[0.1111111111111111,\"#46039f\"],[0.2222222222222222,\"#7201a8\"],[0.3333333333333333,\"#9c179e\"],[0.4444444444444444,\"#bd3786\"],[0.5555555555555556,\"#d8576b\"],[0.6666666666666666,\"#ed7953\"],[0.7777777777777778,\"#fb9f3a\"],[0.8888888888888888,\"#fdca26\"],[1.0,\"#f0f921\"]],\"type\":\"histogram2d\"}],\"histogram\":[{\"marker\":{\"pattern\":{\"fillmode\":\"overlay\",\"size\":10,\"solidity\":0.2}},\"type\":\"histogram\"}],\"mesh3d\":[{\"colorbar\":{\"outlinewidth\":0,\"ticks\":\"\"},\"type\":\"mesh3d\"}],\"parcoords\":[{\"line\":{\"colorbar\":{\"outlinewidth\":0,\"ticks\":\"\"}},\"type\":\"parcoords\"}],\"pie\":[{\"automargin\":true,\"type\":\"pie\"}],\"scatter3d\":[{\"line\":{\"colorbar\":{\"outlinewidth\":0,\"ticks\":\"\"}},\"marker\":{\"colorbar\":{\"outlinewidth\":0,\"ticks\":\"\"}},\"type\":\"scatter3d\"}],\"scattercarpet\":[{\"marker\":{\"colorbar\":{\"outlinewidth\":0,\"ticks\":\"\"}},\"type\":\"scattercarpet\"}],\"scattergeo\":[{\"marker\":{\"colorbar\":{\"outlinewidth\":0,\"ticks\":\"\"}},\"type\":\"scattergeo\"}],\"scattergl\":[{\"marker\":{\"colorbar\":{\"outlinewidth\":0,\"ticks\":\"\"}},\"type\":\"scattergl\"}],\"scattermapbox\":[{\"marker\":{\"colorbar\":{\"outlinewidth\":0,\"ticks\":\"\"}},\"type\":\"scattermapbox\"}],\"scatterpolargl\":[{\"marker\":{\"colorbar\":{\"outlinewidth\":0,\"ticks\":\"\"}},\"type\":\"scatterpolargl\"}],\"scatterpolar\":[{\"marker\":{\"colorbar\":{\"outlinewidth\":0,\"ticks\":\"\"}},\"type\":\"scatterpolar\"}],\"scatter\":[{\"fillpattern\":{\"fillmode\":\"overlay\",\"size\":10,\"solidity\":0.2},\"type\":\"scatter\"}],\"scatterternary\":[{\"marker\":{\"colorbar\":{\"outlinewidth\":0,\"ticks\":\"\"}},\"type\":\"scatterternary\"}],\"surface\":[{\"colorbar\":{\"outlinewidth\":0,\"ticks\":\"\"},\"colorscale\":[[0.0,\"#0d0887\"],[0.1111111111111111,\"#46039f\"],[0.2222222222222222,\"#7201a8\"],[0.3333333333333333,\"#9c179e\"],[0.4444444444444444,\"#bd3786\"],[0.5555555555555556,\"#d8576b\"],[0.6666666666666666,\"#ed7953\"],[0.7777777777777778,\"#fb9f3a\"],[0.8888888888888888,\"#fdca26\"],[1.0,\"#f0f921\"]],\"type\":\"surface\"}],\"table\":[{\"cells\":{\"fill\":{\"color\":\"#EBF0F8\"},\"line\":{\"color\":\"white\"}},\"header\":{\"fill\":{\"color\":\"#C8D4E3\"},\"line\":{\"color\":\"white\"}},\"type\":\"table\"}]},\"layout\":{\"annotationdefaults\":{\"arrowcolor\":\"#2a3f5f\",\"arrowhead\":0,\"arrowwidth\":1},\"autotypenumbers\":\"strict\",\"coloraxis\":{\"colorbar\":{\"outlinewidth\":0,\"ticks\":\"\"}},\"colorscale\":{\"diverging\":[[0,\"#8e0152\"],[0.1,\"#c51b7d\"],[0.2,\"#de77ae\"],[0.3,\"#f1b6da\"],[0.4,\"#fde0ef\"],[0.5,\"#f7f7f7\"],[0.6,\"#e6f5d0\"],[0.7,\"#b8e186\"],[0.8,\"#7fbc41\"],[0.9,\"#4d9221\"],[1,\"#276419\"]],\"sequential\":[[0.0,\"#0d0887\"],[0.1111111111111111,\"#46039f\"],[0.2222222222222222,\"#7201a8\"],[0.3333333333333333,\"#9c179e\"],[0.4444444444444444,\"#bd3786\"],[0.5555555555555556,\"#d8576b\"],[0.6666666666666666,\"#ed7953\"],[0.7777777777777778,\"#fb9f3a\"],[0.8888888888888888,\"#fdca26\"],[1.0,\"#f0f921\"]],\"sequentialminus\":[[0.0,\"#0d0887\"],[0.1111111111111111,\"#46039f\"],[0.2222222222222222,\"#7201a8\"],[0.3333333333333333,\"#9c179e\"],[0.4444444444444444,\"#bd3786\"],[0.5555555555555556,\"#d8576b\"],[0.6666666666666666,\"#ed7953\"],[0.7777777777777778,\"#fb9f3a\"],[0.8888888888888888,\"#fdca26\"],[1.0,\"#f0f921\"]]},\"colorway\":[\"#636efa\",\"#EF553B\",\"#00cc96\",\"#ab63fa\",\"#FFA15A\",\"#19d3f3\",\"#FF6692\",\"#B6E880\",\"#FF97FF\",\"#FECB52\"],\"font\":{\"color\":\"#2a3f5f\"},\"geo\":{\"bgcolor\":\"white\",\"lakecolor\":\"white\",\"landcolor\":\"white\",\"showlakes\":true,\"showland\":true,\"subunitcolor\":\"#C8D4E3\"},\"hoverlabel\":{\"align\":\"left\"},\"hovermode\":\"closest\",\"mapbox\":{\"style\":\"light\"},\"paper_bgcolor\":\"white\",\"plot_bgcolor\":\"white\",\"polar\":{\"angularaxis\":{\"gridcolor\":\"#EBF0F8\",\"linecolor\":\"#EBF0F8\",\"ticks\":\"\"},\"bgcolor\":\"white\",\"radialaxis\":{\"gridcolor\":\"#EBF0F8\",\"linecolor\":\"#EBF0F8\",\"ticks\":\"\"}},\"scene\":{\"xaxis\":{\"backgroundcolor\":\"white\",\"gridcolor\":\"#DFE8F3\",\"gridwidth\":2,\"linecolor\":\"#EBF0F8\",\"showbackground\":true,\"ticks\":\"\",\"zerolinecolor\":\"#EBF0F8\"},\"yaxis\":{\"backgroundcolor\":\"white\",\"gridcolor\":\"#DFE8F3\",\"gridwidth\":2,\"linecolor\":\"#EBF0F8\",\"showbackground\":true,\"ticks\":\"\",\"zerolinecolor\":\"#EBF0F8\"},\"zaxis\":{\"backgroundcolor\":\"white\",\"gridcolor\":\"#DFE8F3\",\"gridwidth\":2,\"linecolor\":\"#EBF0F8\",\"showbackground\":true,\"ticks\":\"\",\"zerolinecolor\":\"#EBF0F8\"}},\"shapedefaults\":{\"line\":{\"color\":\"#2a3f5f\"}},\"ternary\":{\"aaxis\":{\"gridcolor\":\"#DFE8F3\",\"linecolor\":\"#A2B1C6\",\"ticks\":\"\"},\"baxis\":{\"gridcolor\":\"#DFE8F3\",\"linecolor\":\"#A2B1C6\",\"ticks\":\"\"},\"bgcolor\":\"white\",\"caxis\":{\"gridcolor\":\"#DFE8F3\",\"linecolor\":\"#A2B1C6\",\"ticks\":\"\"}},\"title\":{\"x\":0.05},\"xaxis\":{\"automargin\":true,\"gridcolor\":\"#EBF0F8\",\"linecolor\":\"#EBF0F8\",\"ticks\":\"\",\"title\":{\"standoff\":15},\"zerolinecolor\":\"#EBF0F8\",\"zerolinewidth\":2},\"yaxis\":{\"automargin\":true,\"gridcolor\":\"#EBF0F8\",\"linecolor\":\"#EBF0F8\",\"ticks\":\"\",\"title\":{\"standoff\":15},\"zerolinecolor\":\"#EBF0F8\",\"zerolinewidth\":2}}},\"xaxis\":{\"anchor\":\"y\",\"domain\":[0.0,0.175],\"showgrid\":true},\"yaxis\":{\"anchor\":\"x\",\"domain\":[0.6000000000000001,1.0],\"showgrid\":true},\"xaxis2\":{\"anchor\":\"y2\",\"domain\":[0.275,0.45],\"showgrid\":true},\"yaxis2\":{\"anchor\":\"x2\",\"domain\":[0.6000000000000001,1.0],\"showgrid\":true},\"xaxis3\":{\"anchor\":\"y3\",\"domain\":[0.55,0.7250000000000001],\"showgrid\":true},\"yaxis3\":{\"anchor\":\"x3\",\"domain\":[0.6000000000000001,1.0],\"showgrid\":true},\"xaxis4\":{\"anchor\":\"y4\",\"domain\":[0.825,1.0],\"showgrid\":true},\"yaxis4\":{\"anchor\":\"x4\",\"domain\":[0.6000000000000001,1.0],\"showgrid\":true},\"xaxis5\":{\"anchor\":\"y5\",\"domain\":[0.0,0.175],\"showgrid\":true},\"yaxis5\":{\"anchor\":\"x5\",\"domain\":[0.0,0.4],\"showgrid\":true},\"xaxis6\":{\"anchor\":\"y6\",\"domain\":[0.275,0.45],\"showgrid\":true},\"yaxis6\":{\"anchor\":\"x6\",\"domain\":[0.0,0.4],\"showgrid\":true},\"xaxis7\":{\"anchor\":\"y7\",\"domain\":[0.55,0.7250000000000001],\"showgrid\":true},\"yaxis7\":{\"anchor\":\"x7\",\"domain\":[0.0,0.4],\"showgrid\":true},\"xaxis8\":{\"anchor\":\"y8\",\"domain\":[0.825,1.0],\"showgrid\":true},\"yaxis8\":{\"anchor\":\"x8\",\"domain\":[0.0,0.4],\"showgrid\":true},\"annotations\":[{\"font\":{\"size\":16},\"showarrow\":false,\"text\":\"Topic 0\",\"x\":0.0875,\"xanchor\":\"center\",\"xref\":\"paper\",\"y\":1.0,\"yanchor\":\"bottom\",\"yref\":\"paper\"},{\"font\":{\"size\":16},\"showarrow\":false,\"text\":\"Topic 1\",\"x\":0.36250000000000004,\"xanchor\":\"center\",\"xref\":\"paper\",\"y\":1.0,\"yanchor\":\"bottom\",\"yref\":\"paper\"},{\"font\":{\"size\":16},\"showarrow\":false,\"text\":\"Topic 2\",\"x\":0.6375000000000001,\"xanchor\":\"center\",\"xref\":\"paper\",\"y\":1.0,\"yanchor\":\"bottom\",\"yref\":\"paper\"},{\"font\":{\"size\":16},\"showarrow\":false,\"text\":\"Topic 3\",\"x\":0.9125,\"xanchor\":\"center\",\"xref\":\"paper\",\"y\":1.0,\"yanchor\":\"bottom\",\"yref\":\"paper\"},{\"font\":{\"size\":16},\"showarrow\":false,\"text\":\"Topic 4\",\"x\":0.0875,\"xanchor\":\"center\",\"xref\":\"paper\",\"y\":0.4,\"yanchor\":\"bottom\",\"yref\":\"paper\"},{\"font\":{\"size\":16},\"showarrow\":false,\"text\":\"Topic 5\",\"x\":0.36250000000000004,\"xanchor\":\"center\",\"xref\":\"paper\",\"y\":0.4,\"yanchor\":\"bottom\",\"yref\":\"paper\"},{\"font\":{\"size\":16},\"showarrow\":false,\"text\":\"Topic 6\",\"x\":0.6375000000000001,\"xanchor\":\"center\",\"xref\":\"paper\",\"y\":0.4,\"yanchor\":\"bottom\",\"yref\":\"paper\"},{\"font\":{\"size\":16},\"showarrow\":false,\"text\":\"Topic 7\",\"x\":0.9125,\"xanchor\":\"center\",\"xref\":\"paper\",\"y\":0.4,\"yanchor\":\"bottom\",\"yref\":\"paper\"}],\"title\":{\"font\":{\"size\":22,\"color\":\"Black\"},\"text\":\"Topic Word Scores\",\"x\":0.5,\"xanchor\":\"center\",\"yanchor\":\"top\"},\"hoverlabel\":{\"font\":{\"size\":16,\"family\":\"Rockwell\"},\"bgcolor\":\"white\"},\"showlegend\":false,\"width\":1000,\"height\":500},                        {\"responsive\": true}                    ).then(function(){\n",
       "                            \n",
       "var gd = document.getElementById('fbd886f3-4f75-4199-8fb2-750bca1cff26');\n",
       "var x = new MutationObserver(function (mutations, observer) {{\n",
       "        var display = window.getComputedStyle(gd).display;\n",
       "        if (!display || display === 'none') {{\n",
       "            console.log([gd, 'removed!']);\n",
       "            Plotly.purge(gd);\n",
       "            observer.disconnect();\n",
       "        }}\n",
       "}});\n",
       "\n",
       "// Listen for the removal of the full notebook cells\n",
       "var notebookContainer = gd.closest('#notebook-container');\n",
       "if (notebookContainer) {{\n",
       "    x.observe(notebookContainer, {childList: true});\n",
       "}}\n",
       "\n",
       "// Listen for the clearing of the current output cell\n",
       "var outputEl = gd.closest('.output');\n",
       "if (outputEl) {{\n",
       "    x.observe(outputEl, {childList: true});\n",
       "}}\n",
       "\n",
       "                        })                };                });            </script>        </div>"
      ]
     },
     "metadata": {},
     "output_type": "display_data"
    }
   ],
   "execution_count": 12
  },
  {
   "metadata": {},
   "cell_type": "markdown",
   "source": "### MaximalMarginalRelevance representation",
   "id": "f2702cc59628517c"
  },
  {
   "metadata": {
    "ExecuteTime": {
     "end_time": "2024-11-04T09:55:10.594624Z",
     "start_time": "2024-11-04T09:55:10.586587Z"
    }
   },
   "cell_type": "code",
   "source": [
    "from bertopic.representation import MaximalMarginalRelevance\n",
    "topic_model_3 = BERTopic(representation_model=MaximalMarginalRelevance(diversity=0.5))"
   ],
   "id": "4864608175db23d0",
   "outputs": [],
   "execution_count": 13
  },
  {
   "metadata": {
    "ExecuteTime": {
     "end_time": "2024-11-04T09:56:50.416473Z",
     "start_time": "2024-11-04T09:55:11.666473Z"
    }
   },
   "cell_type": "code",
   "source": "topics, probs = topic_model_3.fit_transform(data)",
   "id": "feb9ee13aec45eab",
   "outputs": [],
   "execution_count": 14
  },
  {
   "metadata": {
    "ExecuteTime": {
     "end_time": "2024-11-04T09:56:50.446845Z",
     "start_time": "2024-11-04T09:56:50.418474Z"
    }
   },
   "cell_type": "code",
   "source": "topic_model_3.get_topic_info()",
   "id": "10d155e8ed8da3c1",
   "outputs": [
    {
     "data": {
      "text/plain": [
       "     Topic  Count                                               Name  \\\n",
       "0       -1  12780                          -1_of_models_learning_our   \n",
       "1        0    950               0_gnns_networks_subgraph_contrastive   \n",
       "2        1    430      1_recommender_useritem_preferences_sequential   \n",
       "3        2    404          2_driving_autonomous_safety_intersections   \n",
       "4        3    403               3_ai_ethical_principles_transparency   \n",
       "..     ...    ...                                                ...   \n",
       "378    377     10         377_probabilistic_programming_gcfove_prasp   \n",
       "379    378     10                   378_ontology_cqs_ttfamily_axioms   \n",
       "380    379     10          379_indices_comparisons_cleo_alternatives   \n",
       "381    380     10              380_3d_estimation_selfsupervised_svdm   \n",
       "382    381     10  381_dynamical_odes_continuoustime_physicsinformed   \n",
       "\n",
       "                                        Representation  \\\n",
       "0    [of, models, learning, our, can, data, which, ...   \n",
       "1    [gnns, networks, subgraph, contrastive, spectr...   \n",
       "2    [recommender, useritem, preferences, sequentia...   \n",
       "3    [driving, autonomous, safety, intersections, p...   \n",
       "4    [ai, ethical, principles, transparency, regula...   \n",
       "..                                                 ...   \n",
       "378  [probabilistic, programming, gcfove, prasp, lo...   \n",
       "379  [ontology, cqs, ttfamily, axioms, nl, redundan...   \n",
       "380  [indices, comparisons, cleo, alternatives, pcm...   \n",
       "381  [3d, estimation, selfsupervised, svdm, fscn, k...   \n",
       "382  [dynamical, odes, continuoustime, physicsinfor...   \n",
       "\n",
       "                                   Representative_Docs  \n",
       "0    [Despite the high accuracy offered by state-of...  \n",
       "1    [Graph neural networks (GNNs) have become comp...  \n",
       "2    [Recently, interactive recommendation systems ...  \n",
       "3    [The objective of the first CARLA autonomous d...  \n",
       "4    [Artificial Intelligence (AI) is becoming the ...  \n",
       "..                                                 ...  \n",
       "378  [Probabilistic Logic Programming (PLP), exempl...  \n",
       "379  [Competency Questions (CQs) are used in many o...  \n",
       "380  [Pairwise comparisons are an important tool of...  \n",
       "381  [Depth perception is a crucial component of mo...  \n",
       "382  [Modeling continuous-time dynamics on irregula...  \n",
       "\n",
       "[383 rows x 5 columns]"
      ],
      "text/html": [
       "<div>\n",
       "<style scoped>\n",
       "    .dataframe tbody tr th:only-of-type {\n",
       "        vertical-align: middle;\n",
       "    }\n",
       "\n",
       "    .dataframe tbody tr th {\n",
       "        vertical-align: top;\n",
       "    }\n",
       "\n",
       "    .dataframe thead th {\n",
       "        text-align: right;\n",
       "    }\n",
       "</style>\n",
       "<table border=\"1\" class=\"dataframe\">\n",
       "  <thead>\n",
       "    <tr style=\"text-align: right;\">\n",
       "      <th></th>\n",
       "      <th>Topic</th>\n",
       "      <th>Count</th>\n",
       "      <th>Name</th>\n",
       "      <th>Representation</th>\n",
       "      <th>Representative_Docs</th>\n",
       "    </tr>\n",
       "  </thead>\n",
       "  <tbody>\n",
       "    <tr>\n",
       "      <th>0</th>\n",
       "      <td>-1</td>\n",
       "      <td>12780</td>\n",
       "      <td>-1_of_models_learning_our</td>\n",
       "      <td>[of, models, learning, our, can, data, which, ...</td>\n",
       "      <td>[Despite the high accuracy offered by state-of...</td>\n",
       "    </tr>\n",
       "    <tr>\n",
       "      <th>1</th>\n",
       "      <td>0</td>\n",
       "      <td>950</td>\n",
       "      <td>0_gnns_networks_subgraph_contrastive</td>\n",
       "      <td>[gnns, networks, subgraph, contrastive, spectr...</td>\n",
       "      <td>[Graph neural networks (GNNs) have become comp...</td>\n",
       "    </tr>\n",
       "    <tr>\n",
       "      <th>2</th>\n",
       "      <td>1</td>\n",
       "      <td>430</td>\n",
       "      <td>1_recommender_useritem_preferences_sequential</td>\n",
       "      <td>[recommender, useritem, preferences, sequentia...</td>\n",
       "      <td>[Recently, interactive recommendation systems ...</td>\n",
       "    </tr>\n",
       "    <tr>\n",
       "      <th>3</th>\n",
       "      <td>2</td>\n",
       "      <td>404</td>\n",
       "      <td>2_driving_autonomous_safety_intersections</td>\n",
       "      <td>[driving, autonomous, safety, intersections, p...</td>\n",
       "      <td>[The objective of the first CARLA autonomous d...</td>\n",
       "    </tr>\n",
       "    <tr>\n",
       "      <th>4</th>\n",
       "      <td>3</td>\n",
       "      <td>403</td>\n",
       "      <td>3_ai_ethical_principles_transparency</td>\n",
       "      <td>[ai, ethical, principles, transparency, regula...</td>\n",
       "      <td>[Artificial Intelligence (AI) is becoming the ...</td>\n",
       "    </tr>\n",
       "    <tr>\n",
       "      <th>...</th>\n",
       "      <td>...</td>\n",
       "      <td>...</td>\n",
       "      <td>...</td>\n",
       "      <td>...</td>\n",
       "      <td>...</td>\n",
       "    </tr>\n",
       "    <tr>\n",
       "      <th>378</th>\n",
       "      <td>377</td>\n",
       "      <td>10</td>\n",
       "      <td>377_probabilistic_programming_gcfove_prasp</td>\n",
       "      <td>[probabilistic, programming, gcfove, prasp, lo...</td>\n",
       "      <td>[Probabilistic Logic Programming (PLP), exempl...</td>\n",
       "    </tr>\n",
       "    <tr>\n",
       "      <th>379</th>\n",
       "      <td>378</td>\n",
       "      <td>10</td>\n",
       "      <td>378_ontology_cqs_ttfamily_axioms</td>\n",
       "      <td>[ontology, cqs, ttfamily, axioms, nl, redundan...</td>\n",
       "      <td>[Competency Questions (CQs) are used in many o...</td>\n",
       "    </tr>\n",
       "    <tr>\n",
       "      <th>380</th>\n",
       "      <td>379</td>\n",
       "      <td>10</td>\n",
       "      <td>379_indices_comparisons_cleo_alternatives</td>\n",
       "      <td>[indices, comparisons, cleo, alternatives, pcm...</td>\n",
       "      <td>[Pairwise comparisons are an important tool of...</td>\n",
       "    </tr>\n",
       "    <tr>\n",
       "      <th>381</th>\n",
       "      <td>380</td>\n",
       "      <td>10</td>\n",
       "      <td>380_3d_estimation_selfsupervised_svdm</td>\n",
       "      <td>[3d, estimation, selfsupervised, svdm, fscn, k...</td>\n",
       "      <td>[Depth perception is a crucial component of mo...</td>\n",
       "    </tr>\n",
       "    <tr>\n",
       "      <th>382</th>\n",
       "      <td>381</td>\n",
       "      <td>10</td>\n",
       "      <td>381_dynamical_odes_continuoustime_physicsinformed</td>\n",
       "      <td>[dynamical, odes, continuoustime, physicsinfor...</td>\n",
       "      <td>[Modeling continuous-time dynamics on irregula...</td>\n",
       "    </tr>\n",
       "  </tbody>\n",
       "</table>\n",
       "<p>383 rows × 5 columns</p>\n",
       "</div>"
      ]
     },
     "execution_count": 15,
     "metadata": {},
     "output_type": "execute_result"
    }
   ],
   "execution_count": 15
  },
  {
   "metadata": {},
   "cell_type": "markdown",
   "source": "### Chain representation",
   "id": "8b09ffc329fba01f"
  },
  {
   "metadata": {
    "ExecuteTime": {
     "end_time": "2024-11-04T10:01:38.185416Z",
     "start_time": "2024-11-04T09:59:42.545466Z"
    }
   },
   "cell_type": "code",
   "source": [
    "# chain models\n",
    "mmr = MaximalMarginalRelevance(diversity=0.3)\n",
    "keybert = KeyBERTInspired()\n",
    "representation_models = [mmr, keybert]\n",
    "topic_model_4 = BERTopic(representation_model=representation_models)\n",
    "topics, probs = topic_model_4.fit_transform(data)"
   ],
   "id": "a1dcd1fcfda84ea3",
   "outputs": [],
   "execution_count": 18
  },
  {
   "metadata": {
    "ExecuteTime": {
     "end_time": "2024-11-04T10:01:44.614330Z",
     "start_time": "2024-11-04T10:01:44.589495Z"
    }
   },
   "cell_type": "code",
   "source": "topic_model_4.get_topic_info()",
   "id": "dda3b3775d9c9984",
   "outputs": [
    {
     "data": {
      "text/plain": [
       "     Topic  Count                                               Name  \\\n",
       "0       -1  12894                     -1_learning_ai_neural_planning   \n",
       "1        0    532           0_federated_privacy_learning_distributed   \n",
       "2        1    519  1_recommender_recommenders_recommendation_reco...   \n",
       "3        2    427              2_segmentation_supervised_cnn_imaging   \n",
       "4        3    387                3_dialogue_dialogs_dialog_dialogues   \n",
       "..     ...    ...                                                ...   \n",
       "390    389     10              389_planning_planner_planners_robotic   \n",
       "391    390     10        390_safetext_safetypromptscom_safety_unsafe   \n",
       "392    391     10  391_attackfinding_cybersecurity_attackers_attacks   \n",
       "393    392     10              392_tables_table_tablelab_recognition   \n",
       "394    393     10                   393_networks_neural_deep_neurons   \n",
       "\n",
       "                                        Representation  \\\n",
       "0    [learning, ai, neural, planning, reinforcement...   \n",
       "1    [federated, privacy, learning, distributed, pr...   \n",
       "2    [recommender, recommenders, recommendation, re...   \n",
       "3    [segmentation, supervised, cnn, imaging, mri, ...   \n",
       "4    [dialogue, dialogs, dialog, dialogues, convers...   \n",
       "..                                                 ...   \n",
       "390  [planning, planner, planners, robotic, robot, ...   \n",
       "391  [safetext, safetypromptscom, safety, unsafe, s...   \n",
       "392  [attackfinding, cybersecurity, attackers, atta...   \n",
       "393  [tables, table, tablelab, recognition, textrec...   \n",
       "394  [networks, neural, deep, neurons, topological,...   \n",
       "\n",
       "                                   Representative_Docs  \n",
       "0    [High fidelity behavior prediction of human dr...  \n",
       "1    [Federated Learning (FL) has become a key choi...  \n",
       "2    [In this paper, we investigate the recommendat...  \n",
       "3    [Manual segmentation of medical images (e.g., ...  \n",
       "4    [Goal-oriented dialogue systems typically rely...  \n",
       "..                                                 ...  \n",
       "390  [Combining symbolic and geometric reasoning in...  \n",
       "391  [Understanding what constitutes safe text is a...  \n",
       "392  [Cloud infrastructures are being increasingly ...  \n",
       "393  [Table extraction from PDF and image documents...  \n",
       "394  [Geometric deep learning (GDL) models have dem...  \n",
       "\n",
       "[395 rows x 5 columns]"
      ],
      "text/html": [
       "<div>\n",
       "<style scoped>\n",
       "    .dataframe tbody tr th:only-of-type {\n",
       "        vertical-align: middle;\n",
       "    }\n",
       "\n",
       "    .dataframe tbody tr th {\n",
       "        vertical-align: top;\n",
       "    }\n",
       "\n",
       "    .dataframe thead th {\n",
       "        text-align: right;\n",
       "    }\n",
       "</style>\n",
       "<table border=\"1\" class=\"dataframe\">\n",
       "  <thead>\n",
       "    <tr style=\"text-align: right;\">\n",
       "      <th></th>\n",
       "      <th>Topic</th>\n",
       "      <th>Count</th>\n",
       "      <th>Name</th>\n",
       "      <th>Representation</th>\n",
       "      <th>Representative_Docs</th>\n",
       "    </tr>\n",
       "  </thead>\n",
       "  <tbody>\n",
       "    <tr>\n",
       "      <th>0</th>\n",
       "      <td>-1</td>\n",
       "      <td>12894</td>\n",
       "      <td>-1_learning_ai_neural_planning</td>\n",
       "      <td>[learning, ai, neural, planning, reinforcement...</td>\n",
       "      <td>[High fidelity behavior prediction of human dr...</td>\n",
       "    </tr>\n",
       "    <tr>\n",
       "      <th>1</th>\n",
       "      <td>0</td>\n",
       "      <td>532</td>\n",
       "      <td>0_federated_privacy_learning_distributed</td>\n",
       "      <td>[federated, privacy, learning, distributed, pr...</td>\n",
       "      <td>[Federated Learning (FL) has become a key choi...</td>\n",
       "    </tr>\n",
       "    <tr>\n",
       "      <th>2</th>\n",
       "      <td>1</td>\n",
       "      <td>519</td>\n",
       "      <td>1_recommender_recommenders_recommendation_reco...</td>\n",
       "      <td>[recommender, recommenders, recommendation, re...</td>\n",
       "      <td>[In this paper, we investigate the recommendat...</td>\n",
       "    </tr>\n",
       "    <tr>\n",
       "      <th>3</th>\n",
       "      <td>2</td>\n",
       "      <td>427</td>\n",
       "      <td>2_segmentation_supervised_cnn_imaging</td>\n",
       "      <td>[segmentation, supervised, cnn, imaging, mri, ...</td>\n",
       "      <td>[Manual segmentation of medical images (e.g., ...</td>\n",
       "    </tr>\n",
       "    <tr>\n",
       "      <th>4</th>\n",
       "      <td>3</td>\n",
       "      <td>387</td>\n",
       "      <td>3_dialogue_dialogs_dialog_dialogues</td>\n",
       "      <td>[dialogue, dialogs, dialog, dialogues, convers...</td>\n",
       "      <td>[Goal-oriented dialogue systems typically rely...</td>\n",
       "    </tr>\n",
       "    <tr>\n",
       "      <th>...</th>\n",
       "      <td>...</td>\n",
       "      <td>...</td>\n",
       "      <td>...</td>\n",
       "      <td>...</td>\n",
       "      <td>...</td>\n",
       "    </tr>\n",
       "    <tr>\n",
       "      <th>390</th>\n",
       "      <td>389</td>\n",
       "      <td>10</td>\n",
       "      <td>389_planning_planner_planners_robotic</td>\n",
       "      <td>[planning, planner, planners, robotic, robot, ...</td>\n",
       "      <td>[Combining symbolic and geometric reasoning in...</td>\n",
       "    </tr>\n",
       "    <tr>\n",
       "      <th>391</th>\n",
       "      <td>390</td>\n",
       "      <td>10</td>\n",
       "      <td>390_safetext_safetypromptscom_safety_unsafe</td>\n",
       "      <td>[safetext, safetypromptscom, safety, unsafe, s...</td>\n",
       "      <td>[Understanding what constitutes safe text is a...</td>\n",
       "    </tr>\n",
       "    <tr>\n",
       "      <th>392</th>\n",
       "      <td>391</td>\n",
       "      <td>10</td>\n",
       "      <td>391_attackfinding_cybersecurity_attackers_attacks</td>\n",
       "      <td>[attackfinding, cybersecurity, attackers, atta...</td>\n",
       "      <td>[Cloud infrastructures are being increasingly ...</td>\n",
       "    </tr>\n",
       "    <tr>\n",
       "      <th>393</th>\n",
       "      <td>392</td>\n",
       "      <td>10</td>\n",
       "      <td>392_tables_table_tablelab_recognition</td>\n",
       "      <td>[tables, table, tablelab, recognition, textrec...</td>\n",
       "      <td>[Table extraction from PDF and image documents...</td>\n",
       "    </tr>\n",
       "    <tr>\n",
       "      <th>394</th>\n",
       "      <td>393</td>\n",
       "      <td>10</td>\n",
       "      <td>393_networks_neural_deep_neurons</td>\n",
       "      <td>[networks, neural, deep, neurons, topological,...</td>\n",
       "      <td>[Geometric deep learning (GDL) models have dem...</td>\n",
       "    </tr>\n",
       "  </tbody>\n",
       "</table>\n",
       "<p>395 rows × 5 columns</p>\n",
       "</div>"
      ]
     },
     "execution_count": 19,
     "metadata": {},
     "output_type": "execute_result"
    }
   ],
   "execution_count": 19
  },
  {
   "metadata": {},
   "cell_type": "code",
   "outputs": [],
   "execution_count": null,
   "source": "",
   "id": "b6b02775ccfed55e"
  }
 ],
 "metadata": {
  "kernelspec": {
   "display_name": "Python 3",
   "language": "python",
   "name": "python3"
  },
  "language_info": {
   "codemirror_mode": {
    "name": "ipython",
    "version": 2
   },
   "file_extension": ".py",
   "mimetype": "text/x-python",
   "name": "python",
   "nbconvert_exporter": "python",
   "pygments_lexer": "ipython2",
   "version": "2.7.6"
  }
 },
 "nbformat": 4,
 "nbformat_minor": 5
}
