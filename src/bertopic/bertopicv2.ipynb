{
 "cells": [
  {
   "metadata": {
    "ExecuteTime": {
     "end_time": "2024-12-03T15:54:24.706105Z",
     "start_time": "2024-12-03T15:53:47.657607Z"
    }
   },
   "cell_type": "code",
   "source": [
    "from utils import *\n",
    "from octis.dataset.dataset import Dataset\n",
    "from bertopic import BERTopic\n",
    "import matplotlib.pyplot as plt"
   ],
   "id": "bf2b7caa7b615f81",
   "outputs": [],
   "execution_count": 1
  },
  {
   "metadata": {
    "ExecuteTime": {
     "end_time": "2024-12-03T20:28:08.204402Z",
     "start_time": "2024-12-03T20:28:02.055503Z"
    }
   },
   "cell_type": "code",
   "source": [
    "df = get_processed_data_bertopic()\n",
    "data = df['Processed Summary'].tolist()\n",
    "\n",
    "dataset = Dataset()\n",
    "dataset.load_custom_dataset_from_folder(\"../../data/octis\")"
   ],
   "id": "69a95cbe672c00d2",
   "outputs": [],
   "execution_count": 65
  },
  {
   "metadata": {},
   "cell_type": "markdown",
   "source": "# Simple BERTopic",
   "id": "ebda2ca7ee022ccc"
  },
  {
   "metadata": {
    "ExecuteTime": {
     "end_time": "2024-12-03T16:00:08.584922Z",
     "start_time": "2024-12-03T15:54:31.116011Z"
    }
   },
   "cell_type": "code",
   "source": [
    "topic_model = BERTopic(calculate_probabilities=True)\n",
    "topics, probs = topic_model.fit_transform(data)\n",
    "topic_info = topic_model.get_topic_info()\n",
    "print(f\"Number of topics: {len(topic_info)}\")\n",
    "print(f\"Number of outliers: {topic_info[topic_info['Topic'] == -1]['Count']}\")"
   ],
   "id": "78312d27b7699b01",
   "outputs": [
    {
     "name": "stdout",
     "output_type": "stream",
     "text": [
      "Number of topics: 379\n",
      "Number of outliers: 0    13468\n",
      "Name: Count, dtype: int64\n"
     ]
    }
   ],
   "execution_count": 5
  },
  {
   "metadata": {
    "ExecuteTime": {
     "end_time": "2024-12-03T16:56:58.919944Z",
     "start_time": "2024-12-03T16:56:58.595121Z"
    }
   },
   "cell_type": "code",
   "source": [
    "topic_info.hist(column='Count', bins=50)\n",
    "plt.xlabel(\"Size of topic\")\n",
    "plt.ylabel(\"Number of topics\")\n",
    "plt.title(\"BERTopic before reducing outliers\")\n",
    "plt.show()"
   ],
   "id": "e8e97bdbb06532f0",
   "outputs": [
    {
     "data": {
      "text/plain": [
       "<Figure size 640x480 with 1 Axes>"
      ],
      "image/png": "[encoded data removed]"
     },
     "metadata": {},
     "output_type": "display_data"
    }
   ],
   "execution_count": 6
  },
  {
   "metadata": {
    "ExecuteTime": {
     "end_time": "2024-12-02T20:47:46.151447Z",
     "start_time": "2024-12-02T20:47:46.134972Z"
    }
   },
   "cell_type": "code",
   "source": [
    "# def get_bertopic_model_output(topic_model: bertopic.BERTopic) -> typing.Dict:\n",
    "#     model_output = dict()\n",
    "#     model_output['topics'] = topic_model.get_topic_info()['Representation'].tolist()\n",
    "#     model_output['topic-word-matrix'] = topic_model.c_tf_idf_.toarray()\n",
    "#     model_output['topic-document-matrix'] = topic_model.probabilities_\n",
    "# \n",
    "#     return model_output"
   ],
   "id": "68e65b4cd797d89e",
   "outputs": [],
   "execution_count": 6
  },
  {
   "metadata": {
    "ExecuteTime": {
     "end_time": "2024-12-02T20:47:46.690726Z",
     "start_time": "2024-12-02T20:47:46.594831Z"
    }
   },
   "cell_type": "code",
   "source": "model_output = get_bertopic_model_output(topic_model)",
   "id": "2a42faedd127129b",
   "outputs": [],
   "execution_count": 7
  },
  {
   "metadata": {
    "ExecuteTime": {
     "end_time": "2024-12-02T20:50:22.689889Z",
     "start_time": "2024-12-02T20:48:16.573443Z"
    }
   },
   "cell_type": "code",
   "source": "results_bertopic = calculate_metrics(model_output, dataset, verbose=False)",
   "id": "42803dcbd8c966d1",
   "outputs": [
    {
     "name": "stdout",
     "output_type": "stream",
     "text": [
      "UMass: -6.018936965231936\n",
      "NPMI: 0.08345348369187004\n",
      "C_V: 0.5585226161337192\n",
      "Topic Diversity: 0.6461333333333333\n",
      "Inverted RBO: 0.9963968218719779\n",
      "Pairwise Jaccard: 0.002785236522989273\n",
      "KL Uniform: 3.3521553933361368\n",
      "Error calculating KL Vacuous: index 375 is out of bounds for axis 0 with size 375\n",
      "KL Vacuous: None\n",
      "KL Background: 1.3358345869903614\n"
     ]
    }
   ],
   "execution_count": 8
  },
  {
   "metadata": {
    "ExecuteTime": {
     "end_time": "2024-12-02T20:51:15.975565Z",
     "start_time": "2024-12-02T20:51:15.942576Z"
    }
   },
   "cell_type": "code",
   "source": [
    "# convert to a pandas dataframe\n",
    "import pandas as pd\n",
    "df = pd.DataFrame(results_bertopic.values(), index=results_bertopic.keys()).T\n",
    "df"
   ],
   "id": "80d3fe5847f29fc0",
   "outputs": [
    {
     "data": {
      "text/plain": [
       "      UMass      NPMI       C_V  Topic Diversity  Inverted RBO  \\\n",
       "0 -6.018937  0.083453  0.558523         0.646133      0.996397   \n",
       "\n",
       "   Pairwise Jaccard  KL Uniform  KL Vacuous  KL Background  \n",
       "0          0.002785    3.352155         NaN       1.335835  "
      ],
      "text/html": [
       "<div>\n",
       "<style scoped>\n",
       "    .dataframe tbody tr th:only-of-type {\n",
       "        vertical-align: middle;\n",
       "    }\n",
       "\n",
       "    .dataframe tbody tr th {\n",
       "        vertical-align: top;\n",
       "    }\n",
       "\n",
       "    .dataframe thead th {\n",
       "        text-align: right;\n",
       "    }\n",
       "</style>\n",
       "<table border=\"1\" class=\"dataframe\">\n",
       "  <thead>\n",
       "    <tr style=\"text-align: right;\">\n",
       "      <th></th>\n",
       "      <th>UMass</th>\n",
       "      <th>NPMI</th>\n",
       "      <th>C_V</th>\n",
       "      <th>Topic Diversity</th>\n",
       "      <th>Inverted RBO</th>\n",
       "      <th>Pairwise Jaccard</th>\n",
       "      <th>KL Uniform</th>\n",
       "      <th>KL Vacuous</th>\n",
       "      <th>KL Background</th>\n",
       "    </tr>\n",
       "  </thead>\n",
       "  <tbody>\n",
       "    <tr>\n",
       "      <th>0</th>\n",
       "      <td>-6.018937</td>\n",
       "      <td>0.083453</td>\n",
       "      <td>0.558523</td>\n",
       "      <td>0.646133</td>\n",
       "      <td>0.996397</td>\n",
       "      <td>0.002785</td>\n",
       "      <td>3.352155</td>\n",
       "      <td>NaN</td>\n",
       "      <td>1.335835</td>\n",
       "    </tr>\n",
       "  </tbody>\n",
       "</table>\n",
       "</div>"
      ]
     },
     "execution_count": 12,
     "metadata": {},
     "output_type": "execute_result"
    }
   ],
   "execution_count": 12
  },
  {
   "metadata": {},
   "cell_type": "markdown",
   "source": "# Reducing outliers",
   "id": "82398c2807cbfc60"
  },
  {
   "metadata": {
    "ExecuteTime": {
     "end_time": "2024-12-03T16:57:25.714085Z",
     "start_time": "2024-12-03T16:57:04.366651Z"
    }
   },
   "cell_type": "code",
   "source": [
    "new_topics = topic_model.reduce_outliers(data, topics)\n",
    "topic_model.update_topics(data, topics=new_topics)\n",
    "topic_info2 = topic_model.get_topic_info()\n",
    "print(f\"Number of topics: {len(topic_info2)}\")\n",
    "print(f\"Number of outliers: {topic_info2[topic_info['Topic'] == -1]['Count']}\")"
   ],
   "id": "3139d87a2e85544f",
   "outputs": [
    {
     "name": "stderr",
     "output_type": "stream",
     "text": [
      "2024-12-03 17:57:21,664 - BERTopic - WARNING: Using a custom list of topic assignments may lead to errors if topic reduction techniques are used afterwards. Make sure that manually assigning topics is the last step in the pipeline.Note that topic embeddings will also be created through weightedc-TF-IDF embeddings instead of centroid embeddings.\n"
     ]
    },
    {
     "name": "stdout",
     "output_type": "stream",
     "text": [
      "Number of topics: 378\n",
      "Number of outliers: 0    657\n",
      "Name: Count, dtype: int64\n"
     ]
    }
   ],
   "execution_count": 7
  },
  {
   "metadata": {
    "ExecuteTime": {
     "end_time": "2024-12-03T16:57:29.638866Z",
     "start_time": "2024-12-03T16:57:29.436320Z"
    }
   },
   "cell_type": "code",
   "source": [
    "topic_info2.hist(column='Count', bins=50)\n",
    "plt.xlabel(\"Size of topic\")\n",
    "plt.ylabel(\"Number of topics\")\n",
    "plt.title(\"BERTopic after reducing outliers\")\n",
    "plt.show()"
   ],
   "id": "fef151fe3af43676",
   "outputs": [
    {
     "data": {
      "text/plain": [
       "<Figure size 640x480 with 1 Axes>"
      ],
      "image/png": "[encoded data removed]"
     },
     "metadata": {},
     "output_type": "display_data"
    }
   ],
   "execution_count": 8
  },
  {
   "metadata": {
    "ExecuteTime": {
     "end_time": "2024-12-03T16:57:34.425714Z",
     "start_time": "2024-12-03T16:57:34.394455Z"
    }
   },
   "cell_type": "code",
   "source": "topic_info2",
   "id": "3ed02b03e217226e",
   "outputs": [
    {
     "data": {
      "text/plain": [
       "     Topic  Count                                           Name  \\\n",
       "0        0    657                    0_game_player_playing_chess   \n",
       "1        1    573        1_dialogue_dialog_conversation_response   \n",
       "2        2    558           2_driving_vehicle_traffic_autonomous   \n",
       "3        3    556  3_bayesian_probability_variable_probabilistic   \n",
       "4        4    466         4_recommendation_item_recommender_user   \n",
       "..     ...    ...                                            ...   \n",
       "373    373     30                   373_scene_4d_physic_physical   \n",
       "374    374     58   374_communication_message_sender_communicate   \n",
       "375    375     25               375_bo_surrogate_gp_optimization   \n",
       "376    376     29            376_default_nc_closure_preferential   \n",
       "377    377     16        377_comment_guideline_clinical_syndrome   \n",
       "\n",
       "                                        Representation  \\\n",
       "0    [game, player, playing, chess, level, play, op...   \n",
       "1    [dialogue, dialog, conversation, response, con...   \n",
       "2    [driving, vehicle, traffic, autonomous, road, ...   \n",
       "3    [bayesian, probability, variable, probabilisti...   \n",
       "4    [recommendation, item, recommender, user, pref...   \n",
       "..                                                 ...   \n",
       "373  [scene, 4d, physic, physical, dynamic, intuiti...   \n",
       "374  [communication, message, sender, communicate, ...   \n",
       "375  [bo, surrogate, gp, optimization, ann, functio...   \n",
       "376  [default, nc, closure, preferential, rational,...   \n",
       "377  [comment, guideline, clinical, syndrome, physi...   \n",
       "\n",
       "                                   Representative_Docs  \n",
       "0    [representing game pixel offer promising appro...  \n",
       "1    [unsupervised dialogue structure learning impo...  \n",
       "2    [traffic system random complex large system di...  \n",
       "3    [bayesian network probabilistic graphical mode...  \n",
       "4    [paper investigate recommendation task common ...  \n",
       "..                                                 ...  \n",
       "373  [given visual scene human strong intuition sce...  \n",
       "374  [field emergent communication aim understand c...  \n",
       "375  [bayesian optimization bo guided gaussian proc...  \n",
       "376  [philosopher writing raven paradox often note ...  \n",
       "377  [management chronic disease heart failure diab...  \n",
       "\n",
       "[378 rows x 5 columns]"
      ],
      "text/html": [
       "<div>\n",
       "<style scoped>\n",
       "    .dataframe tbody tr th:only-of-type {\n",
       "        vertical-align: middle;\n",
       "    }\n",
       "\n",
       "    .dataframe tbody tr th {\n",
       "        vertical-align: top;\n",
       "    }\n",
       "\n",
       "    .dataframe thead th {\n",
       "        text-align: right;\n",
       "    }\n",
       "</style>\n",
       "<table border=\"1\" class=\"dataframe\">\n",
       "  <thead>\n",
       "    <tr style=\"text-align: right;\">\n",
       "      <th></th>\n",
       "      <th>Topic</th>\n",
       "      <th>Count</th>\n",
       "      <th>Name</th>\n",
       "      <th>Representation</th>\n",
       "      <th>Representative_Docs</th>\n",
       "    </tr>\n",
       "  </thead>\n",
       "  <tbody>\n",
       "    <tr>\n",
       "      <th>0</th>\n",
       "      <td>0</td>\n",
       "      <td>657</td>\n",
       "      <td>0_game_player_playing_chess</td>\n",
       "      <td>[game, player, playing, chess, level, play, op...</td>\n",
       "      <td>[representing game pixel offer promising appro...</td>\n",
       "    </tr>\n",
       "    <tr>\n",
       "      <th>1</th>\n",
       "      <td>1</td>\n",
       "      <td>573</td>\n",
       "      <td>1_dialogue_dialog_conversation_response</td>\n",
       "      <td>[dialogue, dialog, conversation, response, con...</td>\n",
       "      <td>[unsupervised dialogue structure learning impo...</td>\n",
       "    </tr>\n",
       "    <tr>\n",
       "      <th>2</th>\n",
       "      <td>2</td>\n",
       "      <td>558</td>\n",
       "      <td>2_driving_vehicle_traffic_autonomous</td>\n",
       "      <td>[driving, vehicle, traffic, autonomous, road, ...</td>\n",
       "      <td>[traffic system random complex large system di...</td>\n",
       "    </tr>\n",
       "    <tr>\n",
       "      <th>3</th>\n",
       "      <td>3</td>\n",
       "      <td>556</td>\n",
       "      <td>3_bayesian_probability_variable_probabilistic</td>\n",
       "      <td>[bayesian, probability, variable, probabilisti...</td>\n",
       "      <td>[bayesian network probabilistic graphical mode...</td>\n",
       "    </tr>\n",
       "    <tr>\n",
       "      <th>4</th>\n",
       "      <td>4</td>\n",
       "      <td>466</td>\n",
       "      <td>4_recommendation_item_recommender_user</td>\n",
       "      <td>[recommendation, item, recommender, user, pref...</td>\n",
       "      <td>[paper investigate recommendation task common ...</td>\n",
       "    </tr>\n",
       "    <tr>\n",
       "      <th>...</th>\n",
       "      <td>...</td>\n",
       "      <td>...</td>\n",
       "      <td>...</td>\n",
       "      <td>...</td>\n",
       "      <td>...</td>\n",
       "    </tr>\n",
       "    <tr>\n",
       "      <th>373</th>\n",
       "      <td>373</td>\n",
       "      <td>30</td>\n",
       "      <td>373_scene_4d_physic_physical</td>\n",
       "      <td>[scene, 4d, physic, physical, dynamic, intuiti...</td>\n",
       "      <td>[given visual scene human strong intuition sce...</td>\n",
       "    </tr>\n",
       "    <tr>\n",
       "      <th>374</th>\n",
       "      <td>374</td>\n",
       "      <td>58</td>\n",
       "      <td>374_communication_message_sender_communicate</td>\n",
       "      <td>[communication, message, sender, communicate, ...</td>\n",
       "      <td>[field emergent communication aim understand c...</td>\n",
       "    </tr>\n",
       "    <tr>\n",
       "      <th>375</th>\n",
       "      <td>375</td>\n",
       "      <td>25</td>\n",
       "      <td>375_bo_surrogate_gp_optimization</td>\n",
       "      <td>[bo, surrogate, gp, optimization, ann, functio...</td>\n",
       "      <td>[bayesian optimization bo guided gaussian proc...</td>\n",
       "    </tr>\n",
       "    <tr>\n",
       "      <th>376</th>\n",
       "      <td>376</td>\n",
       "      <td>29</td>\n",
       "      <td>376_default_nc_closure_preferential</td>\n",
       "      <td>[default, nc, closure, preferential, rational,...</td>\n",
       "      <td>[philosopher writing raven paradox often note ...</td>\n",
       "    </tr>\n",
       "    <tr>\n",
       "      <th>377</th>\n",
       "      <td>377</td>\n",
       "      <td>16</td>\n",
       "      <td>377_comment_guideline_clinical_syndrome</td>\n",
       "      <td>[comment, guideline, clinical, syndrome, physi...</td>\n",
       "      <td>[management chronic disease heart failure diab...</td>\n",
       "    </tr>\n",
       "  </tbody>\n",
       "</table>\n",
       "<p>378 rows × 5 columns</p>\n",
       "</div>"
      ]
     },
     "execution_count": 9,
     "metadata": {},
     "output_type": "execute_result"
    }
   ],
   "execution_count": 9
  },
  {
   "metadata": {
    "ExecuteTime": {
     "end_time": "2024-12-03T16:58:13.223119Z",
     "start_time": "2024-12-03T16:58:13.209103Z"
    }
   },
   "cell_type": "code",
   "source": "topic_model.get_representative_docs(362)",
   "id": "6d3be630978cd492",
   "outputs": [
    {
     "data": {
      "text/plain": [
       "['background dental caries diagnosis requires manual inspection diagnostic bitewing image patient followed visual inspection probing identified dental piece potential lesion yet use artificial intelligence particular potential aid diagnosis providing quick informative analysis bitewing image method dataset bitewing hunt4 oral health study annotated individually six different expert used train three different object detection architecture retinanet resnet50 yolov5 size efficientdet d0 d1 size consensus dataset 197 image annotated jointly six dentist used evaluation cross validation scheme used evaluate performance ai model result trained model show increase average precision decrease false negative rate respect dental clinician compared dental clinician yolov5 model show largest improvement reporting mean average precision mean mean false negative rate whereas best annotator metric reported respectively conclusion model shown potential assist dental professional diagnosis caries yet task remains challenging due artifact natural bitewing image',\n",
       " 'dental fluorosis chronic disease caused overconsumption fluoride lead change appearance tooth enamel important basis early diagnosis endemic fluorosis however even dental professional may able accurately distinguish dental fluorosis severity based tooth image currently still gap research applying deep learning diagnosing dental fluorosis therefore construct first dental fluorosis image dataset dfid laying foundation deep learning research field advance diagnosis dental fluorosis propose pioneering deep learning model called masked latent transformer random masking ratio mltrmr mltrmr introduces mask latent modeling scheme based vision transformer enhance contextual learning dental fluorosis lesion characteristic consisting latent embedder encoder decoder mltrmr employ latent embedder extract latent token original image whereas encoder decoder comprising latent transformer lt block used process unmasked token predict masked token respectively mitigate lack inductive bias vision transformer may result performance degradation lt block introduces latent token enhance learning capacity latent lesion feature furthermore design auxiliary loss function constrain parameter update direction model mltrmr achieves accuracy f1 quadratic weighted kappa dfid making sota',\n",
       " 'segmenting dental plaque image medical reagent staining provides valuable information diagnosis determination treatment plan however accurate dental plaque segmentation challenging task requires identifying teeth dental plaque subjected region confused boundary border region teeth dental plaque complex variation instance shape fully addressed existing method therefore propose semantic decomposition network sdnet introduces two branch separately address segmentation teeth dental plaque design additional constraint learn feature branch thus facilitating semantic decomposition improving performance dental plaque segmentation specifically sdnet learns two separate segmentation branch teeth dental plaque manner decouple entangled relation branch specifies category tends yield accurate segmentation help two branch better focus feature two constraint module proposed 1 contrastive constraint module ccm learn discriminative feature representation maximizing distance different category representation reduce negative impact region feature extraction 2 structural constraint module scm provide complete structural information dental plaque various shape supervision geometric constraint besides construct stained dental plaque segmentation dataset sdpseg provides annotation teeth dental plaque experimental result sdpseg datasets show sdnet achieves performance']"
      ]
     },
     "execution_count": 10,
     "metadata": {},
     "output_type": "execute_result"
    }
   ],
   "execution_count": 10
  },
  {
   "metadata": {
    "ExecuteTime": {
     "end_time": "2024-12-03T20:27:37.048597Z",
     "start_time": "2024-12-03T20:27:31.260427Z"
    }
   },
   "cell_type": "code",
   "source": "df_original = get_processed_data_bertopic()",
   "id": "24d1b7df5e75cea",
   "outputs": [],
   "execution_count": 64
  },
  {
   "metadata": {
    "ExecuteTime": {
     "end_time": "2024-12-03T17:04:38.742393Z",
     "start_time": "2024-12-03T17:04:38.724381Z"
    }
   },
   "cell_type": "code",
   "source": "representative_docs = topic_model.get_representative_docs(372)",
   "id": "e079a00be42249c7",
   "outputs": [],
   "execution_count": 26
  },
  {
   "metadata": {
    "ExecuteTime": {
     "end_time": "2024-12-03T17:11:42.267134Z",
     "start_time": "2024-12-03T17:11:42.247128Z"
    }
   },
   "cell_type": "code",
   "source": [
    "links = []\n",
    "for doc in representative_docs:\n",
    "    links.append(df_original[df_original['Processed Summary'] == doc]['ID'].values[0])"
   ],
   "id": "98b073704613ad76",
   "outputs": [],
   "execution_count": 42
  },
  {
   "metadata": {
    "ExecuteTime": {
     "end_time": "2024-12-03T17:11:42.643077Z",
     "start_time": "2024-12-03T17:11:42.633077Z"
    }
   },
   "cell_type": "code",
   "source": "links",
   "id": "e8e1020192138fd",
   "outputs": [
    {
     "data": {
      "text/plain": [
       "['http://arxiv.org/abs/2404.15516v1',\n",
       " 'http://arxiv.org/abs/2310.05473v1',\n",
       " 'http://arxiv.org/abs/2404.11317v2']"
      ]
     },
     "execution_count": 43,
     "metadata": {},
     "output_type": "execute_result"
    }
   ],
   "execution_count": 43
  },
  {
   "metadata": {
    "ExecuteTime": {
     "end_time": "2024-12-03T18:20:28.995590Z",
     "start_time": "2024-12-03T18:20:28.969920Z"
    }
   },
   "cell_type": "code",
   "source": [
    "# look through all papers and check if the keywords: \"composed\" \"image\" \"retrieval\" are present\n",
    "ids = []\n",
    "for i, title in enumerate(df_original['Title']):\n",
    "    # print(title)\n",
    "    title = title.lower()\n",
    "    if \"composed\" in title and \"image\" in title and \"retrieval\" in title:\n",
    "        print(i, title)\n",
    "        ids.append(i)"
   ],
   "id": "e4e487bd016d2730",
   "outputs": [
    {
     "name": "stdout",
     "output_type": "stream",
     "text": [
      "25269 dual relation alignment for composed image retrieval\n",
      "26294 sentence-level prompts benefit composed image retrieval\n",
      "31696 improving composed image retrieval via contrastive learning with scaling   positives and negatives\n",
      "31912 visual delta generator with large multi-modal models for semi-supervised   composed image retrieval\n",
      "32180 spherical linear interpolation and text-anchoring for zero-shot composed   image retrieval\n"
     ]
    }
   ],
   "execution_count": 54
  },
  {
   "metadata": {
    "ExecuteTime": {
     "end_time": "2024-12-03T17:12:23.300498Z",
     "start_time": "2024-12-03T17:12:10.025420Z"
    }
   },
   "cell_type": "code",
   "source": [
    "# check which topics were assigned to the papers\n",
    "topics = []\n",
    "for i in ids:\n",
    "    topics.append(topic_model.transform([data[i]])[0])"
   ],
   "id": "266c5f70d3c9fbbf",
   "outputs": [],
   "execution_count": 46
  },
  {
   "metadata": {
    "ExecuteTime": {
     "end_time": "2024-12-03T17:12:29.772473Z",
     "start_time": "2024-12-03T17:12:29.756447Z"
    }
   },
   "cell_type": "code",
   "source": "topics",
   "id": "437bd8ea734bf818",
   "outputs": [
    {
     "data": {
      "text/plain": [
       "[[372], [372], [-1], [-1], [-1]]"
      ]
     },
     "execution_count": 47,
     "metadata": {},
     "output_type": "execute_result"
    }
   ],
   "execution_count": 47
  },
  {
   "metadata": {},
   "cell_type": "code",
   "outputs": [],
   "execution_count": null,
   "source": "",
   "id": "a5165b0856b876c7"
  },
  {
   "metadata": {},
   "cell_type": "code",
   "outputs": [],
   "execution_count": null,
   "source": "",
   "id": "f63e1e9d670b61ab"
  },
  {
   "metadata": {
    "ExecuteTime": {
     "end_time": "2024-12-03T17:00:04.882439Z",
     "start_time": "2024-12-03T17:00:04.873439Z"
    }
   },
   "cell_type": "code",
   "source": [
    "# find the representative documents for each topic\n",
    "doc = representative_docs[0]\n"
   ],
   "id": "1646867012285f3c",
   "outputs": [],
   "execution_count": 13
  },
  {
   "metadata": {
    "ExecuteTime": {
     "end_time": "2024-12-03T17:01:50.494517Z",
     "start_time": "2024-12-03T17:01:50.479504Z"
    }
   },
   "cell_type": "code",
   "source": [
    "# find the index of the document in the original dataset searching by the summary\n",
    "df_original[df_original['Processed Summary'] == doc]"
   ],
   "id": "c3efdd7421f3ca24",
   "outputs": [
    {
     "data": {
      "text/plain": [
       "                                      ID  \\\n",
       "25975  http://arxiv.org/abs/2310.00354v3   \n",
       "\n",
       "                                                   Title  \\\n",
       "25975  AI-Dentify: Deep learning for proximal caries ...   \n",
       "\n",
       "                                                 Summary  \\\n",
       "25975  Background: Dental caries diagnosis requires t...   \n",
       "\n",
       "                  Published                           PDF Link  \\\n",
       "25975  2023-09-30T12:17:36Z  http://arxiv.org/pdf/2310.00354v3   \n",
       "\n",
       "                                       Processed Summary  \n",
       "25975  background dental caries diagnosis requires ma...  "
      ],
      "text/html": [
       "<div>\n",
       "<style scoped>\n",
       "    .dataframe tbody tr th:only-of-type {\n",
       "        vertical-align: middle;\n",
       "    }\n",
       "\n",
       "    .dataframe tbody tr th {\n",
       "        vertical-align: top;\n",
       "    }\n",
       "\n",
       "    .dataframe thead th {\n",
       "        text-align: right;\n",
       "    }\n",
       "</style>\n",
       "<table border=\"1\" class=\"dataframe\">\n",
       "  <thead>\n",
       "    <tr style=\"text-align: right;\">\n",
       "      <th></th>\n",
       "      <th>ID</th>\n",
       "      <th>Title</th>\n",
       "      <th>Summary</th>\n",
       "      <th>Published</th>\n",
       "      <th>PDF Link</th>\n",
       "      <th>Processed Summary</th>\n",
       "    </tr>\n",
       "  </thead>\n",
       "  <tbody>\n",
       "    <tr>\n",
       "      <th>25975</th>\n",
       "      <td>http://arxiv.org/abs/2310.00354v3</td>\n",
       "      <td>AI-Dentify: Deep learning for proximal caries ...</td>\n",
       "      <td>Background: Dental caries diagnosis requires t...</td>\n",
       "      <td>2023-09-30T12:17:36Z</td>\n",
       "      <td>http://arxiv.org/pdf/2310.00354v3</td>\n",
       "      <td>background dental caries diagnosis requires ma...</td>\n",
       "    </tr>\n",
       "  </tbody>\n",
       "</table>\n",
       "</div>"
      ]
     },
     "execution_count": 17,
     "metadata": {},
     "output_type": "execute_result"
    }
   ],
   "execution_count": 17
  },
  {
   "metadata": {
    "ExecuteTime": {
     "end_time": "2024-12-03T17:01:32.922862Z",
     "start_time": "2024-12-03T17:01:32.901872Z"
    }
   },
   "cell_type": "code",
   "source": "df_original.head()",
   "id": "b552c1fecea056bd",
   "outputs": [
    {
     "data": {
      "text/plain": [
       "                                  ID  \\\n",
       "0  http://arxiv.org/abs/cs/0002002v1   \n",
       "1  http://arxiv.org/abs/cs/0002003v1   \n",
       "2  http://arxiv.org/abs/cs/0002009v1   \n",
       "3  http://arxiv.org/abs/cs/0003008v1   \n",
       "4  http://arxiv.org/abs/cs/0003016v1   \n",
       "\n",
       "                                               Title  \\\n",
       "0  Uniform semantic treatment of default and auto...   \n",
       "1           On the accuracy and running time of GSAT   \n",
       "2  Syntactic Autonomy: Why There is no Autonomy w...   \n",
       "3  Consistency Management of Normal Logic Program...   \n",
       "4  Abductive and Consistency-Based Diagnosis Revi...   \n",
       "\n",
       "                                             Summary             Published  \\\n",
       "0  We revisit the issue of connections between tw...  2000-02-03T21:44:57Z   \n",
       "1  Randomized algorithms for deciding satisfiabil...  2000-02-04T12:53:57Z   \n",
       "2  Two different types of agency are discussed ba...  2000-02-16T18:09:20Z   \n",
       "3  This paper presents a method of computing a re...  2000-03-05T10:29:03Z   \n",
       "4  Diagnostic reasoning has been characterized lo...  2000-03-07T11:39:53Z   \n",
       "\n",
       "                            PDF Link  \\\n",
       "0  http://arxiv.org/pdf/cs/0002002v1   \n",
       "1  http://arxiv.org/pdf/cs/0002003v1   \n",
       "2  http://arxiv.org/pdf/cs/0002009v1   \n",
       "3  http://arxiv.org/pdf/cs/0003008v1   \n",
       "4  http://arxiv.org/pdf/cs/0003016v1   \n",
       "\n",
       "                                   Processed Summary  \n",
       "0  revisit issue connection two leading formalism...  \n",
       "1  randomized algorithm deciding satisfiability s...  \n",
       "2  two different type agency discussed based dyna...  \n",
       "3  paper present method computing revision normal...  \n",
       "4  diagnostic reasoning characterized logically r...  "
      ],
      "text/html": [
       "<div>\n",
       "<style scoped>\n",
       "    .dataframe tbody tr th:only-of-type {\n",
       "        vertical-align: middle;\n",
       "    }\n",
       "\n",
       "    .dataframe tbody tr th {\n",
       "        vertical-align: top;\n",
       "    }\n",
       "\n",
       "    .dataframe thead th {\n",
       "        text-align: right;\n",
       "    }\n",
       "</style>\n",
       "<table border=\"1\" class=\"dataframe\">\n",
       "  <thead>\n",
       "    <tr style=\"text-align: right;\">\n",
       "      <th></th>\n",
       "      <th>ID</th>\n",
       "      <th>Title</th>\n",
       "      <th>Summary</th>\n",
       "      <th>Published</th>\n",
       "      <th>PDF Link</th>\n",
       "      <th>Processed Summary</th>\n",
       "    </tr>\n",
       "  </thead>\n",
       "  <tbody>\n",
       "    <tr>\n",
       "      <th>0</th>\n",
       "      <td>http://arxiv.org/abs/cs/0002002v1</td>\n",
       "      <td>Uniform semantic treatment of default and auto...</td>\n",
       "      <td>We revisit the issue of connections between tw...</td>\n",
       "      <td>2000-02-03T21:44:57Z</td>\n",
       "      <td>http://arxiv.org/pdf/cs/0002002v1</td>\n",
       "      <td>revisit issue connection two leading formalism...</td>\n",
       "    </tr>\n",
       "    <tr>\n",
       "      <th>1</th>\n",
       "      <td>http://arxiv.org/abs/cs/0002003v1</td>\n",
       "      <td>On the accuracy and running time of GSAT</td>\n",
       "      <td>Randomized algorithms for deciding satisfiabil...</td>\n",
       "      <td>2000-02-04T12:53:57Z</td>\n",
       "      <td>http://arxiv.org/pdf/cs/0002003v1</td>\n",
       "      <td>randomized algorithm deciding satisfiability s...</td>\n",
       "    </tr>\n",
       "    <tr>\n",
       "      <th>2</th>\n",
       "      <td>http://arxiv.org/abs/cs/0002009v1</td>\n",
       "      <td>Syntactic Autonomy: Why There is no Autonomy w...</td>\n",
       "      <td>Two different types of agency are discussed ba...</td>\n",
       "      <td>2000-02-16T18:09:20Z</td>\n",
       "      <td>http://arxiv.org/pdf/cs/0002009v1</td>\n",
       "      <td>two different type agency discussed based dyna...</td>\n",
       "    </tr>\n",
       "    <tr>\n",
       "      <th>3</th>\n",
       "      <td>http://arxiv.org/abs/cs/0003008v1</td>\n",
       "      <td>Consistency Management of Normal Logic Program...</td>\n",
       "      <td>This paper presents a method of computing a re...</td>\n",
       "      <td>2000-03-05T10:29:03Z</td>\n",
       "      <td>http://arxiv.org/pdf/cs/0003008v1</td>\n",
       "      <td>paper present method computing revision normal...</td>\n",
       "    </tr>\n",
       "    <tr>\n",
       "      <th>4</th>\n",
       "      <td>http://arxiv.org/abs/cs/0003016v1</td>\n",
       "      <td>Abductive and Consistency-Based Diagnosis Revi...</td>\n",
       "      <td>Diagnostic reasoning has been characterized lo...</td>\n",
       "      <td>2000-03-07T11:39:53Z</td>\n",
       "      <td>http://arxiv.org/pdf/cs/0003016v1</td>\n",
       "      <td>diagnostic reasoning characterized logically r...</td>\n",
       "    </tr>\n",
       "  </tbody>\n",
       "</table>\n",
       "</div>"
      ]
     },
     "execution_count": 16,
     "metadata": {},
     "output_type": "execute_result"
    }
   ],
   "execution_count": 16
  },
  {
   "metadata": {},
   "cell_type": "code",
   "outputs": [],
   "execution_count": null,
   "source": "",
   "id": "17acb0396636122f"
  },
  {
   "metadata": {},
   "cell_type": "code",
   "outputs": [],
   "execution_count": null,
   "source": "",
   "id": "c3b05a88980eb13f"
  },
  {
   "metadata": {
    "ExecuteTime": {
     "end_time": "2024-11-19T19:28:15.532992Z",
     "start_time": "2024-11-19T19:28:15.517904Z"
    }
   },
   "cell_type": "code",
   "source": "model_output = get_bertopic_model_output(topic_model)",
   "id": "4fbaa6dacf7b4bdb",
   "outputs": [],
   "execution_count": 11
  },
  {
   "metadata": {
    "ExecuteTime": {
     "end_time": "2024-11-19T19:30:22.095050Z",
     "start_time": "2024-11-19T19:28:21.377836Z"
    }
   },
   "cell_type": "code",
   "source": "results_bertopic = calculate_metrics(model_output, dataset, verbose=True)",
   "id": "ea849d5daca9f9b7",
   "outputs": [
    {
     "name": "stdout",
     "output_type": "stream",
     "text": [
      "UMass: -5.486193563352657\n",
      "NPMI: 0.09446816832986273\n",
      "C_V: 0.5796806544882305\n",
      "Topic Diversity: 0.6158031088082901\n",
      "Inverted RBO: 0.9959740195319101\n",
      "Pairwise Jaccard: 0.0032548585622447527\n",
      "KL Uniform: None\n",
      "KL Vacuous: None\n",
      "KL Background: 1.3369104398069989\n"
     ]
    }
   ],
   "execution_count": 12
  },
  {
   "metadata": {},
   "cell_type": "markdown",
   "source": "# Auto topic number",
   "id": "507fa9db9ff8d81e"
  },
  {
   "metadata": {
    "ExecuteTime": {
     "end_time": "2024-11-19T19:38:43.293040Z",
     "start_time": "2024-11-19T19:33:58.900608Z"
    }
   },
   "cell_type": "code",
   "source": [
    "topic_model_less_topics = BERTopic(calculate_probabilities=True, nr_topics=\"auto\")\n",
    "topics, probs = topic_model_less_topics.fit_transform(data)\n",
    "topic_info = topic_model_less_topics.get_topic_info()\n",
    "print(f\"Number of topics: {len(topic_info)}\")\n",
    "print(f\"Number of outliers: {topic_info[topic_info['Topic'] == -1]['Count']}\")"
   ],
   "id": "429788b7f8fb3935",
   "outputs": [
    {
     "name": "stdout",
     "output_type": "stream",
     "text": [
      "Number of topics: 103\n",
      "Number of outliers: 0    13909\n",
      "Name: Count, dtype: int64\n"
     ]
    }
   ],
   "execution_count": 13
  },
  {
   "metadata": {
    "ExecuteTime": {
     "end_time": "2024-11-19T19:38:43.539327Z",
     "start_time": "2024-11-19T19:38:43.295054Z"
    }
   },
   "cell_type": "code",
   "source": "topic_info.hist(column='Count', bins=100)",
   "id": "e28d384ac721111b",
   "outputs": [
    {
     "data": {
      "text/plain": [
       "array([[<Axes: title={'center': 'Count'}>]], dtype=object)"
      ]
     },
     "execution_count": 14,
     "metadata": {},
     "output_type": "execute_result"
    },
    {
     "data": {
      "text/plain": [
       "<Figure size 640x480 with 1 Axes>"
      ],
      "image/png": "[encoded data removed]"
     },
     "metadata": {},
     "output_type": "display_data"
    }
   ],
   "execution_count": 14
  },
  {
   "metadata": {
    "ExecuteTime": {
     "end_time": "2024-11-19T19:38:43.554549Z",
     "start_time": "2024-11-19T19:38:43.541322Z"
    }
   },
   "cell_type": "code",
   "source": "model_output = get_bertopic_model_output(topic_model_less_topics)",
   "id": "6b3fe76524a24126",
   "outputs": [],
   "execution_count": 15
  },
  {
   "metadata": {
    "ExecuteTime": {
     "end_time": "2024-11-19T19:39:53.136769Z",
     "start_time": "2024-11-19T19:38:43.556561Z"
    }
   },
   "cell_type": "code",
   "source": "results_bertopic = calculate_metrics(model_output, dataset, verbose=True)",
   "id": "20c596b47f9aaa24",
   "outputs": [
    {
     "name": "stdout",
     "output_type": "stream",
     "text": [
      "UMass: -5.304019168703258\n",
      "NPMI: 0.08633875178899669\n",
      "C_V: 0.5356901512928797\n",
      "Topic Diversity: 0.8087378640776699\n",
      "Inverted RBO: 0.995614940027621\n",
      "Pairwise Jaccard: 0.003870630915238785\n",
      "KL Uniform: None\n",
      "KL Vacuous: None\n",
      "KL Background: 3.218383183850171\n"
     ]
    }
   ],
   "execution_count": 16
  },
  {
   "metadata": {},
   "cell_type": "markdown",
   "source": "# Reducing outliers",
   "id": "dedcce01555fb0b0"
  },
  {
   "metadata": {
    "ExecuteTime": {
     "end_time": "2024-11-19T19:40:07.943691Z",
     "start_time": "2024-11-19T19:39:53.138934Z"
    }
   },
   "cell_type": "code",
   "source": [
    "new_topics = topic_model_less_topics.reduce_outliers(data, topics)\n",
    "topic_model_less_topics.update_topics(data, topics=new_topics)\n",
    "topic_info = topic_model_less_topics.get_topic_info()\n",
    "print(f\"Number of topics: {len(topic_info)}\")\n",
    "print(f\"Number of outliers: {topic_info[topic_info['Topic'] == -1]['Count']}\")"
   ],
   "id": "722f27bd82a46048",
   "outputs": [
    {
     "name": "stderr",
     "output_type": "stream",
     "text": [
      "2024-11-19 20:40:04,967 - BERTopic - WARNING: Using a custom list of topic assignments may lead to errors if topic reduction techniques are used afterwards. Make sure that manually assigning topics is the last step in the pipeline.Note that topic embeddings will also be created through weightedc-TF-IDF embeddings instead of centroid embeddings.\n"
     ]
    },
    {
     "name": "stdout",
     "output_type": "stream",
     "text": [
      "Number of topics: 102\n",
      "Number of outliers: Series([], Name: Count, dtype: int64)\n"
     ]
    }
   ],
   "execution_count": 17
  },
  {
   "metadata": {
    "ExecuteTime": {
     "end_time": "2024-11-19T19:40:08.190548Z",
     "start_time": "2024-11-19T19:40:07.945670Z"
    }
   },
   "cell_type": "code",
   "source": "topic_info.hist(column='Count', bins=100)",
   "id": "b1c4f7914b376965",
   "outputs": [
    {
     "data": {
      "text/plain": [
       "array([[<Axes: title={'center': 'Count'}>]], dtype=object)"
      ]
     },
     "execution_count": 18,
     "metadata": {},
     "output_type": "execute_result"
    },
    {
     "data": {
      "text/plain": [
       "<Figure size 640x480 with 1 Axes>"
      ],
      "image/png": "[encoded data removed]"
     },
     "metadata": {},
     "output_type": "display_data"
    }
   ],
   "execution_count": 18
  },
  {
   "metadata": {
    "ExecuteTime": {
     "end_time": "2024-11-19T19:45:33.729409Z",
     "start_time": "2024-11-19T19:45:33.696141Z"
    }
   },
   "cell_type": "code",
   "source": "topic_info",
   "id": "c16662e95aa58667",
   "outputs": [
    {
     "data": {
      "text/plain": [
       "     Topic  Count                                 Name  \\\n",
       "0        0  26746         0_model_learning_method_task   \n",
       "1        1    349   1_causal_causality_variable_effect   \n",
       "2        2    210           2_fairness_bias_fair_group   \n",
       "3        3    175  3_fault_diagnosis_sensor_industrial   \n",
       "4        4    113      4_snns_spiking_snn_neuromorphic   \n",
       "..     ...    ...                                  ...   \n",
       "97      97     54       97_blockchain_fl_privacy_smart   \n",
       "98      98     28    98_writing_suggestion_writer_tool   \n",
       "99      99     60               99_dl_library_bug_deep   \n",
       "100    100     41              100_big_data_tuning_job   \n",
       "101    101     56  101_traffic_flow_congestion_vehicle   \n",
       "\n",
       "                                                                                                    Representation  \\\n",
       "0                         [model, learning, method, task, data, approach, performance, problem, network, language]   \n",
       "1    [causal, causality, variable, effect, observational, discovery, cause, intervention, relationship, structure]   \n",
       "2                        [fairness, bias, fair, group, attribute, algorithmic, sensitive, gender, machine, biased]   \n",
       "3                   [fault, diagnosis, sensor, industrial, failure, maintenance, system, bearing, monitoring, rul]   \n",
       "4                                [snns, spiking, snn, neuromorphic, spike, neural, neuron, network, hardware, ann]   \n",
       "..                                                                                                             ...   \n",
       "97                            [blockchain, fl, privacy, smart, aigc, technology, contract, iiot, energy, security]   \n",
       "98                                [writing, suggestion, writer, tool, llm, story, user, scribe, scroll, copyright]   \n",
       "99                                    [dl, library, bug, deep, testing, project, pytorch, docker, software, model]   \n",
       "100                           [big, data, tuning, job, enterprise, spark, management, business, talent, analytics]   \n",
       "101                  [traffic, flow, congestion, vehicle, road, urban, transportation, network, encrypted, packet]   \n",
       "\n",
       "                                                                                                                                                                                                                                                                                                                                                                                                                                                                                                                                                                                                                                                                                                                                                                                                                                                                                                                                                                                                                                                                                                                                                                                                                                                                                                                                                                                                                                                                                                                                                                                                                                                                                                                                                                                                                                                                                                                                                                                                                                                                                                                                                                                                                                                                                                                                                                                                                                                                                                                                                                                                                                                                                                                                                                                                                                                                                                                                                                                                                                                                                                                                                                                                                                                                                                                                                                                                                                                                                                                                                                                                                                                                                Representative_Docs  \n",
       "0    [advance digital technology classification medical image become crucial step clinical decision support system automatic medical image classification represents pivotal domain use ai hold potential create significant social impact however several challenge act obstacle development practical effective solution one challenge prevalent class imbalance problem medical imaging datasets result existing ai technique particularly methodology often underperform scenario study propose novel framework called large margin aware focal lmf loss mitigate class imbalance problem medical imaging lmf loss represents linear combination two loss function optimized two hyperparameters framework harness distinct characteristic loss function enforcing wider margin minority class simultaneously emphasizing challenging sample found datasets perform rigorous experiment three neural network architecture four medical imaging datasets provide empirical evidence proposed framework consistently outperforms baseline method showing improvement 2 score analysis f1 score also demonstrate proposed framework significantly improve performance minority class result experiment show proposed framework perform consistently well across different architecture datasets overall study demonstrates simple effective approach addressing class imbalance problem medical imaging datasets hope work inspire new research toward generalized approach medical image classification, recent time large language model llm made significant stride generating computer code blurring line code created human code produced artificial intelligence ai technology evolve rapidly crucial explore influence code generation especially given risk misuse area like higher education paper explores issue using advanced classification technique differentiate code written human generated chatgpt type llm employ new approach combine powerful embedding feature supervised learning algorithm including deep neural network random forest extreme gradient boosting achieve differentiation impressive accuracy 98 successful combination also examine model calibration showing model extremely well calibrated additionally present feature interpretable bayes classifier elucidate critical difference code source enhancing explainability transparency approach approach work well provide accuracy also show untrained human solve task better random guessing study crucial understanding mitigating potential risk associated using ai code generation particularly context higher education software development competitive programming, recent development neural language modeling led leap accuracy commonsense benchmark however increasing concern model overfit specific task without learning utilize external knowledge perform general semantic reasoning contrast evaluation shown promise robust measure model general reasoning ability paper propose novel framework question answering across commonsense task guided set hypothesis framework study transform various knowledge resource form effective model vary set language model training regime knowledge source data generation strategy measure impact across task extending prior work devise compare four constrained strategy provide empirical result across five commonsense task data generated five external knowledge resource show individual knowledge graph better suited specific task global knowledge graph brings consistent gain across different task addition preserving structure task well generating fair informative question help language model learn effectively]  \n",
       "1                                                                                                                                                                                                                                                                                                                                                                                                                                                                                                                                                                                                                                                                                            [many field scientific research application unbiased estimation causal effect data crucial understanding mechanism underlying data effective response intervention great deal research conducted address challenging problem different angle estimating causal effect observational data assumption markov condition faithfulness causal sufficiency always made assumption full knowledge set covariates underlying causal graph typically required practical challenge many application full knowledge partial knowledge available recent year research emerged use search strategy based graphical causal modelling discover useful knowledge data causal effect estimation mild assumption shown promise tackling practical challenge survey review method causal effect estimation single treatment single outcome interest focus challenge faced causal effect estimation concisely summarise basic concept theory essential causal effect estimation using graphical causal modelling scattered around literature identify discus challenge faced causal effect estimation characterise existing method assumption approach tackling challenge analyse strength limitation different type method present empirical evaluation support discussion hope review motivate researcher design better method based graphical causal modelling challenging problem causal effect estimation, paper proposes causal inference relation causal programming general framework causal inference structural causal model tuple q f instance relation formula f computes causal query q function known population probability every model entailed set model assumption many problem causal inference viewed problem enumerating instance relation satisfy given criterion unifies number previously studied problem including causal effect identification causal discovery recovery selection bias addition relation support formalizing new problem causal inference structural causal model problem research design causal programming proposed generalization causal inference problem finding optimal instance relation respect cost function, uncovering causal relationship data major objective data analytics causal relationship normally discovered designed experiment randomised controlled trial however expensive infeasible conducted many case causal relationship also found using well designed observational study require domain expert knowledge process normally time consuming hence need scalable automated method causal relationship exploration data classification method fast could practical substitute finding causal signal data however classification method designed causal discovery classification method may find false causal signal miss true one paper develop causal decision tree node causal interpretation method follows well established causal inference framework make use classic statistical test method practical finding causal signal large data set]  \n",
       "2                                                                                                                                                                                                                                                                                                                                                                                                                                                                                                                                                                                                                                                                                                                                                                                                                                                                                                                                                                                                                                                                                                                                                                                                                                                                                                                                                                                                                                                                                                                                                                                                                      [paper consider theoretical model injecting data bias namely label bias blum stangl 2019 empirically study effect varying data bias accuracy fairness fair classifier extensive experiment synthetic datasets adult german credit bank marketing compas empirically audit fair classifier standard fairness toolkits fairness accuracy injecting varying amount label bias training data test data main observation fairness accuracy many standard fair classifier degrade severely bias injected training data increase simple logistic regression model trained right data often outperform accuracy fairness fair classifier trained biased training data simple fairness technique reweighing exponentiated gradient seem offer stable accuracy fairness guarantee even training data injected label bias experiment also show integrate measure data bias risk existing fairness dashboard deployment, significant advancement made field fair machine learning majority study focus scenario decision model operates static population paper study fairness dynamic system sequential decision made decision may shift underlying distribution feature user behavior model dynamic system markov decision process mdp acknowledging traditional fairness notion fairness distinct requirement may necessarily align one another propose algorithmic framework integrate various fairness consideration reinforcement learning using approach three case study show method strike balance traditional fairness notion fairness utility, study fairness machine learning fairml lens explanation generated machine learning model hypothesis biased model biased explanation establish first translate existing statistical notion group fairness define notion term explanation given model propose novel way detecting un fairness black box model look technique fairness reason explanation used make bias mitigation technique individually fair also introduce novel mitigation technique increase individual fairness recourse maintaining group level fairness]  \n",
       "3                                                                                                    [continuous monitoring motor health crucial early detection abnormality bearing fault 51 motor failure attributed bearing fault despite numerous methodology proposed bearing fault detection require normal healthy abnormal faulty data training even recent deep learning dl methodology trained labeled data machine classification accuracy significantly deteriorates one condition altered furthermore performance suffers significantly may entirely fail tested another machine entirely different healthy faulty signal pattern address need pilot study propose bearing fault detection method detect fault new target machine regardless working condition sensor parameter fault characteristic accomplish objective 1d operational generative adversarial network first characterizes transition normal fault vibration signal source machine various condition sensor parameter fault type target machine potential faulty signal generated actual healthy synthesized faulty signal compact lightweight 1d fault detector trained detect real faulty condition real time whenever occurs validate proposed approach new benchmark dataset created using two different motor working different condition sensor location experimental result demonstrate novel approach accurately detect bearing fault achieving average recall rate around 89 95 two target machine regardless type severity location, one important characteristic modern fault classification system ability flag system faced previously unseen fault type work considers unknown fault detection capability deep neural fault classifier specifically propose methodology available label regarding fault taxonomy used increase unknown fault detection performance without sacrificing model performance achieve propose utilize soft label technique improve deep novel fault detection technique training process novel hierarchically consistent detection statistic online novel fault detection finally demonstrated increased detection performance novel fault detection inspection image hot steel rolling process result well replicated across multiple scenario baseline detection method, monitoring rotating machinery essential task today production process currently several machine learning deep module achieved excellent result fault detection diagnosis nevertheless increase user adoption diffusion technology user human expert must provided explanation insight module another issue related case unavailability labeled historical data make use supervised model unfeasible therefore new approach fault detection diagnosis rotating machinery proposed methodology consists three part feature extraction fault detection fault diagnosis first part vibration feature time frequency domain extracted secondly fault detection presence fault verified unsupervised manner based anomaly detection algorithm modularity methodology allows different algorithm implemented finally fault diagnosis shapley additive explanation shap technique interpret model used feature importance ranking obtained model explainability fault diagnosis performed two tool diagnosis proposed namely unsupervised classification root cause analysis effectiveness proposed approach shown three datasets containing different mechanical fault rotating machinery study also present comparison model used machine learning explainability shap local feature importance isolation forest diffi lastly analysis several anomaly detection algorithm rotating machinery included]  \n",
       "4                                                                                                                                                                                                                                                                                                                                                                                                                                                                    [spiking neural network snns well known model high computing efficiency due key component utilize spike information unit close biological neural system although spiking based model energy efficient taking advantage discrete spike signal performance limited current network structure training method discrete signal typical snns apply gradient descent rule directly parameter adjustment artificial neural network anns aiming limitation propose novel method constructing deep snn model knowledge distillation kd us ann teacher model snn student model joint training algorithm student snn model learn rich feature information teacher ann model kd method yet avoids training snn scratch communicating spike method build efficient deep spiking structure feasibly reasonably use time step train whole model compared direct training ann snn method importantly superb ability noise immunity various type artificial noise natural signal proposed novel method provides efficient way improve performance snn constructing deeper structure fashion potential usage light efficient computing practical scenario, spiking neural network snns energy efficiency higher conventional artificial neural network anns since snn delivers data discrete spike difficult use gradient method training limiting accuracy keep accuracy snns similar ann counterpart anns converted snns conversion conversion encoding activation anns set spike snns crucial minimizing conversion loss work propose phase coding encoding scheme minimizes number spike transfer data snn layer minimize encoding error due approximation phase coding threshold shift base manipulation proposed without additional retraining architectural constraint anns proposed conversion method lose inference accuracy average verified three convolutional neural network cnns cifar imagenet addition graph convolutional network gcns converted snns successfully average accuracy loss importantly energy efficiency snn improves x compared ann baseline, spiking neural network snns promising coding information signal processing suited implementation neuromorphic hardware however unique working mode snns make difficult train traditional network currently two main route explore training deep snns high performance first convert ann model snn version usually requires long coding window convergence exploit feature training solving temporal task directly train snns domain due binary spike activity firing function problem gradient vanishing explosion current method restricted shallow architecture thereby difficult harnessing datasets imagenet end propose batch normalization tdbn method based emerging backpropagation termed enabling direct training deep snn efficient implementation inference neuromorphic hardware proposed method elaborated shortcut connection significantly extend snns shallow structure 10 layer deep structure 50 layer furthermore theoretically analyze effectiveness method based block dynamical isometry theory finally report superior accuracy result including imagenet timesteps best knowledge first time explore deep snns high performance imagenet]  \n",
       "..                                                                                                                                                                                                                                                                                                                                                                                                                                                                                                                                                                                                                                                                                                                                                                                                                                                                                                                                                                                                                                                                                                                                                                                                                                                                                                                                                                                                                                                                                                                                                                                                                                                                                                                                                                                                                                                                                                                                                                                                                                                                                                                                                                                                                                                                                                                                                                                                                                                                                                                                                                                                                                                                                                                                                                                                                                                                                                                                                                                                                                                                                                                                                                                                                                                                                                                                                                                                                                                                                                                                                                                                                                                                                              ...  \n",
       "97                                                                                                                                                                                                                                                                                                                                               [widespread attention application artificial intelligence ai blockchain technology privacy protection technique arising integration notable significance addition protecting privacy individual technique also guarantee security dependability data paper initially present overview ai blockchain summarizing combination along derived privacy protection technology explores specific application scenario data encryption distributed ledger method moreover paper evaluates five critical aspect privacy protection system including authorization management access control data protection network security scalability furthermore analyzes deficiency actual cause offering corresponding suggestion research also classifies summarizes privacy protection technique based application scenario technical scheme conclusion paper outline future direction privacy protection technology emerging ai blockchain integration including enhancing efficiency security achieve comprehensive privacy protection privacy, generative artificial intelligence gai recently emerged promising solution address critical challenge blockchain technology including scalability security privacy interoperability paper first introduce gai technique outline application discus existing solution integrating gai blockchains discus emerging solution demonstrate effectiveness gai addressing various challenge blockchain detecting unknown blockchain attack smart contract vulnerability designing key secret sharing scheme enhancing privacy moreover present case study demonstrate gai specifically generative diffusion model employed optimize blockchain network performance metric experimental result clearly show compared baseline traditional ai approach proposed generative diffusion model approach converge faster achieve higher reward significantly improve throughput latency blockchain network additionally highlight future research direction gai blockchain application including personalized blockchains synergy privacy security consideration within blockchain ecosystem, internet energy ioe distributed paradigm leverage smart network distributed system technology enable decentralized energy system contrast traditional centralized energy system distributed energy internet system comprise multiple component communication requirement demand innovative technology decentralization reliability efficiency security recent advance blockchain architecture smart contract distributed federated learning technology opened new opportunity realizing decentralized energy internet service paper present comprehensive analysis classification solution employ blockchain smart contract federated learning ioe domain specifically identify four representative system model discus key aspect model demonstrate diverse way blockchain smart contract federated learning integrated support main domain ioe namely distributed energy trading sharing smart microgrid energy network electric connected vehicle management furthermore provide detailed comparison different level decentralization advantage federated learning benefit using blockchain ioe system additionally identify open issue area future research integrating federated learning blockchain internet energy domain]  \n",
       "98                                                                                                                                                                                                                                                                                                                                                                                                                                                                                                                                                                                                    [writing suggestion powered large language model becoming pervasive day however research understand writer interaction process engaging system still emerging conducted qualitative study shed light writer cognitive process writing suggestion system recruited 14 amateur writer write two review one without suggestion one suggestion additionally also positively negatively biased suggestion system get diverse range instance writer opinion bias language model align misalign varying degree found writer interact suggestion various complex way writer abstracted extracted multiple part suggestion incorporated within writing even disagreed suggestion whole along evaluating suggestion various criterion suggestion system also various effect writing process altering writer usual writing plan leading higher level distraction etc based qualitative analysis using cognitive process model writing hayes lens propose theoretical model interaction writing causal language model general movie review writing task followed direction future research design, development natural language generation model led creation powerful artificial writing tool tool capable predicting user need actively providing suggestion write work conduct comparative tool information retrieval lens pull push specifically investigate user demand writing impact two paradigm quality ownership writing product efficiency enjoyment writing process also seek understand impact bias writing finding show user welcome seamless assistance ai writing furthermore ai helped user diversify idea writing keeping clear concise quickly user also enjoyed collaboration writing tool feel lack ownership finally although participant experience bias experiment still expressed explicit clear concern addressed future writing tool, writing complex process begin mental model intent progress outline idea word paper subsequent refinement despite past research understanding writing consumer enterprise collaborative digital writing environment yet greatly benefit intelligent system understand stage document evolution providing opportune assistance based author situated action context paper present three study explore temporal stage document authoring first survey information worker large technology company writing habit preference concluding writer fact conceptually progress several distinct phase authoring document also explore qualitatively writing stage linked document lifespan supplement qualitative finding analysis longitudinal user interaction log popular digital writing platform several million document finally first step towards facilitating intelligent digital writing assistant conduct preliminary investigation utility user interaction log data predicting temporal stage document result support benefit tool tailored writing stage identify primary task associated stage show possible predict stage anonymous interaction log together result argue benefit feasibility tailored digital writing assistance]  \n",
       "99                                                                                                                                                                                                                                                            [recent deep learning dl application mostly built top dl library quality assurance library critical dependable deployment dl application technique proposed generate various dl model apply test library however test effectiveness constrained diversity layer api call generated dl model study reveals technique cover layer input layer parameter value layer sequence result find many bug arising specific layer api call specific layer input parameter value layer sequence missed existing technique limitation propose comet effectively generate dl model diverse layer api call dl library testing comet 1 design set mutation operator search algorithm diversify layer input layer parameter value layer sequence dl model 2 proposes model synthesis method boost test efficiency without compromising layer api call diversity evaluation result show comet outperforms baseline covering twice many layer input layer parameter value layer sequence moreover comet cover library branch existing technique finally comet detects 32 new bug latest version eight popular dl library including tensorflow mxnet 21 confirmed dl library developer 7 confirmed bug fixed developer, recent advance deep learning dl led release several dl software library pytorch caffe tensorflow order assist machine learning ml practitioner developing deploying deep neural network dnn able properly cope limitation dl library testing data processing paper present qualitative quantitative analysis frequent dl library combination distribution dl library dependency across ml workflow formulate set recommendation hardware builder optimized accelerator ii library builder refined future release study based dl project contributor selected based reputation first found increasing trend usage deep learning library second highlight several usage pattern deep learning library addition identify dependency dl library frequent combination discover pytorch kera tensorflow frequent combination 18 14 project developer us two three dl library project tends use different multiple dl library function file developer show pattern using various library prefers simple function fewer argument straightforward goal finally present implication finding researcher library maintainer hardware vendor, recent year software system powered deep learning dl technique significantly facilitated people life many aspect backbone dl system various dl library undertake underlying optimization computation however like traditional software dl library immune bug pose serious threat user personal property safety studying characteristic dl library associated bug corresponding testing method crucial enhancing security dl system advancing widespread application dl technology paper provides overview testing research related various dl library discusses strength weakness existing method provides guidance reference application dl library paper first introduces workflow dl underlying library characteristic three kind dl library involved namely dl framework dl compiler dl hardware library provides definition dl underlying library bug testing additionally paper summarizes existing testing method tool tailored dl library separately analyzes effectiveness limitation also discusses existing challenge dl library testing outline potential direction future research]  \n",
       "100                                                                                                                                                                                                                                                                                                                                                                                                                                                                                                                                                                                                                  [big data solution designed cope data huge volume wide variety need ingested high velocity potential veracity issue challenging characteristic usually referred 4vs big data order evaluate possibly complex big data solution stress test require assess large number combination jointly possible big data variation formalization design experiment doe big data solution aimed ensuring reproducibility experiment facilitating partitioning guaranteeing consistency outcome global assessment paper approach proposed support evaluation big data system two way firstly approach formalizes decomposition recombination big data solution allowing aggregation component evaluation result level secondly existing work doe translated ontology supporting selection experiment proposed approach offer possibility combine knowledge evaluation domain application domain exploit domain specific restriction factor combination order reduce number experiment contrary existing approach proposed use ontology limited assertional description exploitation past experiment offer richer terminological description development doe scratch application example maritime big data solution problem detecting predicting vessel suspicious behaviour mobility analysis selected article concluded sketch future work, big data reforming many industrial domain providing decision support analyzing large data volume big data testing aim ensure big data system run smoothly maintaining performance quality data however diversity complexity data testing big data challenging though numerous research effort deal big data testing comprehensive review address testing technique challenge big data available yet therefore systematically reviewed big data testing technique evidence occurring period paper discusses testing data processing highlighting technique used every processing phase furthermore discus challenge future direction finding show diverse functional combined functional testing technique used solve specific problem related big data time testing challenge faced mapreduce validation phase addition combinatorial testing technique one applied technique combination technique random testing mutation testing input space partitioning equivalence testing find various functional fault big data testing, big data research attracted great attention science technology industry society developing evolving scientific paradigm fourth industrial revolution transformational innovation technology however nature fundamental challenge recognized methodology formed paper explores answer following question big data basic method representing managing analyzing big data relationship big data knowledge find mapping big data knowledge space kind infrastructure required support big data management analysis also knowledge discovery sharing management relationship big data science paradigm nature fundamental challenge big data computing perspective presented toward methodology big data computing]  \n",
       "101                                                                                                                                                                                                                                                                                                         [sophisticated traffic analytics encrypted traffic analytics unknown malware detection emphasizes need advanced method analyze network traffic traditional method using fixed pattern signature matching rule detect known pattern network traffic replaced ai artificial intelligence driven algorithm however absence ai framework make deploying processing within networking workload impossible paper describe design traffic analytics development kit tadk framework specific networking workload processing tadk provide networking workload processing networking equipment data center edge without need specialized hardware gpus neural processing unit deployed tadk commodity waf 5g upf evaluation result show tadk achieve throughput per core traffic feature extraction per core traffic classification decrease detection per request higher accuracy fixed pattern solution, one important task network management identifying different type traffic flow result type management service called network traffic classifier ntc introduced one type ntcs gained huge attention recent year applies deep learning packet order classify flow internet imbalanced environment class application lot populated others http additionally one challenge deep learning method perform well imbalanced environment term evaluation metric precision recall measure order solve problem recommend use augmentation method balance dataset paper propose novel data augmentation approach based use long short term memory lstm network generating traffic flow pattern kernel density estimation kde replicating numerical feature class first use lstm network order learn generate sequence packet flow class less population complete feature sequence generating random value based distribution certain feature estimated using kde finally compare training convolutional recurrent neural network crnn imbalanced sampled augmented datasets contribution augmentation scheme evaluated datasets measurement precision recall f1 measure every class application result demonstrate scheme well suited network traffic flow datasets improves performance deep learning algorithm come metric, traffic classification associate packet stream known application label vital network security network management rise nat port dynamic encrypted traffic increasingly challenging obtain unified traffic feature accurate classification many traffic classifier automatically extract feature packet stream based deep learning model convolution network unfortunately compositional causal relationship packet well extracted deep learning model affect prediction accuracy generalization different traffic type paper present chained graph model packet stream keep chained compositional sequence next propose cgnn graph neural network based traffic classification method build graph classifier automatically extracted feature chained graph extensive evaluation traffic data set including normal encrypted malicious label show cgnn improves prediction accuracy application classification malicious traffic classification reach accuracy level encrypted traffic classification cgnn quite robust term recall precision metric extensively evaluated parameter sensitivity cgnn yield optimized parameter quite effective traffic classification]  \n",
       "\n",
       "[102 rows x 5 columns]"
      ],
      "text/html": [
       "<div>\n",
       "<style scoped>\n",
       "    .dataframe tbody tr th:only-of-type {\n",
       "        vertical-align: middle;\n",
       "    }\n",
       "\n",
       "    .dataframe tbody tr th {\n",
       "        vertical-align: top;\n",
       "    }\n",
       "\n",
       "    .dataframe thead th {\n",
       "        text-align: right;\n",
       "    }\n",
       "</style>\n",
       "<table border=\"1\" class=\"dataframe\">\n",
       "  <thead>\n",
       "    <tr style=\"text-align: right;\">\n",
       "      <th></th>\n",
       "      <th>Topic</th>\n",
       "      <th>Count</th>\n",
       "      <th>Name</th>\n",
       "      <th>Representation</th>\n",
       "      <th>Representative_Docs</th>\n",
       "    </tr>\n",
       "  </thead>\n",
       "  <tbody>\n",
       "    <tr>\n",
       "      <th>0</th>\n",
       "      <td>0</td>\n",
       "      <td>26746</td>\n",
       "      <td>0_model_learning_method_task</td>\n",
       "      <td>[model, learning, method, task, data, approach, performance, problem, network, language]</td>\n",
       "      <td>[advance digital technology classification medical image become crucial step clinical decision support system automatic medical image classification represents pivotal domain use ai hold potential create significant social impact however several challenge act obstacle development practical effective solution one challenge prevalent class imbalance problem medical imaging datasets result existing ai technique particularly methodology often underperform scenario study propose novel framework called large margin aware focal lmf loss mitigate class imbalance problem medical imaging lmf loss represents linear combination two loss function optimized two hyperparameters framework harness distinct characteristic loss function enforcing wider margin minority class simultaneously emphasizing challenging sample found datasets perform rigorous experiment three neural network architecture four medical imaging datasets provide empirical evidence proposed framework consistently outperforms baseline method showing improvement 2 score analysis f1 score also demonstrate proposed framework significantly improve performance minority class result experiment show proposed framework perform consistently well across different architecture datasets overall study demonstrates simple effective approach addressing class imbalance problem medical imaging datasets hope work inspire new research toward generalized approach medical image classification, recent time large language model llm made significant stride generating computer code blurring line code created human code produced artificial intelligence ai technology evolve rapidly crucial explore influence code generation especially given risk misuse area like higher education paper explores issue using advanced classification technique differentiate code written human generated chatgpt type llm employ new approach combine powerful embedding feature supervised learning algorithm including deep neural network random forest extreme gradient boosting achieve differentiation impressive accuracy 98 successful combination also examine model calibration showing model extremely well calibrated additionally present feature interpretable bayes classifier elucidate critical difference code source enhancing explainability transparency approach approach work well provide accuracy also show untrained human solve task better random guessing study crucial understanding mitigating potential risk associated using ai code generation particularly context higher education software development competitive programming, recent development neural language modeling led leap accuracy commonsense benchmark however increasing concern model overfit specific task without learning utilize external knowledge perform general semantic reasoning contrast evaluation shown promise robust measure model general reasoning ability paper propose novel framework question answering across commonsense task guided set hypothesis framework study transform various knowledge resource form effective model vary set language model training regime knowledge source data generation strategy measure impact across task extending prior work devise compare four constrained strategy provide empirical result across five commonsense task data generated five external knowledge resource show individual knowledge graph better suited specific task global knowledge graph brings consistent gain across different task addition preserving structure task well generating fair informative question help language model learn effectively]</td>\n",
       "    </tr>\n",
       "    <tr>\n",
       "      <th>1</th>\n",
       "      <td>1</td>\n",
       "      <td>349</td>\n",
       "      <td>1_causal_causality_variable_effect</td>\n",
       "      <td>[causal, causality, variable, effect, observational, discovery, cause, intervention, relationship, structure]</td>\n",
       "      <td>[many field scientific research application unbiased estimation causal effect data crucial understanding mechanism underlying data effective response intervention great deal research conducted address challenging problem different angle estimating causal effect observational data assumption markov condition faithfulness causal sufficiency always made assumption full knowledge set covariates underlying causal graph typically required practical challenge many application full knowledge partial knowledge available recent year research emerged use search strategy based graphical causal modelling discover useful knowledge data causal effect estimation mild assumption shown promise tackling practical challenge survey review method causal effect estimation single treatment single outcome interest focus challenge faced causal effect estimation concisely summarise basic concept theory essential causal effect estimation using graphical causal modelling scattered around literature identify discus challenge faced causal effect estimation characterise existing method assumption approach tackling challenge analyse strength limitation different type method present empirical evaluation support discussion hope review motivate researcher design better method based graphical causal modelling challenging problem causal effect estimation, paper proposes causal inference relation causal programming general framework causal inference structural causal model tuple q f instance relation formula f computes causal query q function known population probability every model entailed set model assumption many problem causal inference viewed problem enumerating instance relation satisfy given criterion unifies number previously studied problem including causal effect identification causal discovery recovery selection bias addition relation support formalizing new problem causal inference structural causal model problem research design causal programming proposed generalization causal inference problem finding optimal instance relation respect cost function, uncovering causal relationship data major objective data analytics causal relationship normally discovered designed experiment randomised controlled trial however expensive infeasible conducted many case causal relationship also found using well designed observational study require domain expert knowledge process normally time consuming hence need scalable automated method causal relationship exploration data classification method fast could practical substitute finding causal signal data however classification method designed causal discovery classification method may find false causal signal miss true one paper develop causal decision tree node causal interpretation method follows well established causal inference framework make use classic statistical test method practical finding causal signal large data set]</td>\n",
       "    </tr>\n",
       "    <tr>\n",
       "      <th>2</th>\n",
       "      <td>2</td>\n",
       "      <td>210</td>\n",
       "      <td>2_fairness_bias_fair_group</td>\n",
       "      <td>[fairness, bias, fair, group, attribute, algorithmic, sensitive, gender, machine, biased]</td>\n",
       "      <td>[paper consider theoretical model injecting data bias namely label bias blum stangl 2019 empirically study effect varying data bias accuracy fairness fair classifier extensive experiment synthetic datasets adult german credit bank marketing compas empirically audit fair classifier standard fairness toolkits fairness accuracy injecting varying amount label bias training data test data main observation fairness accuracy many standard fair classifier degrade severely bias injected training data increase simple logistic regression model trained right data often outperform accuracy fairness fair classifier trained biased training data simple fairness technique reweighing exponentiated gradient seem offer stable accuracy fairness guarantee even training data injected label bias experiment also show integrate measure data bias risk existing fairness dashboard deployment, significant advancement made field fair machine learning majority study focus scenario decision model operates static population paper study fairness dynamic system sequential decision made decision may shift underlying distribution feature user behavior model dynamic system markov decision process mdp acknowledging traditional fairness notion fairness distinct requirement may necessarily align one another propose algorithmic framework integrate various fairness consideration reinforcement learning using approach three case study show method strike balance traditional fairness notion fairness utility, study fairness machine learning fairml lens explanation generated machine learning model hypothesis biased model biased explanation establish first translate existing statistical notion group fairness define notion term explanation given model propose novel way detecting un fairness black box model look technique fairness reason explanation used make bias mitigation technique individually fair also introduce novel mitigation technique increase individual fairness recourse maintaining group level fairness]</td>\n",
       "    </tr>\n",
       "    <tr>\n",
       "      <th>3</th>\n",
       "      <td>3</td>\n",
       "      <td>175</td>\n",
       "      <td>3_fault_diagnosis_sensor_industrial</td>\n",
       "      <td>[fault, diagnosis, sensor, industrial, failure, maintenance, system, bearing, monitoring, rul]</td>\n",
       "      <td>[continuous monitoring motor health crucial early detection abnormality bearing fault 51 motor failure attributed bearing fault despite numerous methodology proposed bearing fault detection require normal healthy abnormal faulty data training even recent deep learning dl methodology trained labeled data machine classification accuracy significantly deteriorates one condition altered furthermore performance suffers significantly may entirely fail tested another machine entirely different healthy faulty signal pattern address need pilot study propose bearing fault detection method detect fault new target machine regardless working condition sensor parameter fault characteristic accomplish objective 1d operational generative adversarial network first characterizes transition normal fault vibration signal source machine various condition sensor parameter fault type target machine potential faulty signal generated actual healthy synthesized faulty signal compact lightweight 1d fault detector trained detect real faulty condition real time whenever occurs validate proposed approach new benchmark dataset created using two different motor working different condition sensor location experimental result demonstrate novel approach accurately detect bearing fault achieving average recall rate around 89 95 two target machine regardless type severity location, one important characteristic modern fault classification system ability flag system faced previously unseen fault type work considers unknown fault detection capability deep neural fault classifier specifically propose methodology available label regarding fault taxonomy used increase unknown fault detection performance without sacrificing model performance achieve propose utilize soft label technique improve deep novel fault detection technique training process novel hierarchically consistent detection statistic online novel fault detection finally demonstrated increased detection performance novel fault detection inspection image hot steel rolling process result well replicated across multiple scenario baseline detection method, monitoring rotating machinery essential task today production process currently several machine learning deep module achieved excellent result fault detection diagnosis nevertheless increase user adoption diffusion technology user human expert must provided explanation insight module another issue related case unavailability labeled historical data make use supervised model unfeasible therefore new approach fault detection diagnosis rotating machinery proposed methodology consists three part feature extraction fault detection fault diagnosis first part vibration feature time frequency domain extracted secondly fault detection presence fault verified unsupervised manner based anomaly detection algorithm modularity methodology allows different algorithm implemented finally fault diagnosis shapley additive explanation shap technique interpret model used feature importance ranking obtained model explainability fault diagnosis performed two tool diagnosis proposed namely unsupervised classification root cause analysis effectiveness proposed approach shown three datasets containing different mechanical fault rotating machinery study also present comparison model used machine learning explainability shap local feature importance isolation forest diffi lastly analysis several anomaly detection algorithm rotating machinery included]</td>\n",
       "    </tr>\n",
       "    <tr>\n",
       "      <th>4</th>\n",
       "      <td>4</td>\n",
       "      <td>113</td>\n",
       "      <td>4_snns_spiking_snn_neuromorphic</td>\n",
       "      <td>[snns, spiking, snn, neuromorphic, spike, neural, neuron, network, hardware, ann]</td>\n",
       "      <td>[spiking neural network snns well known model high computing efficiency due key component utilize spike information unit close biological neural system although spiking based model energy efficient taking advantage discrete spike signal performance limited current network structure training method discrete signal typical snns apply gradient descent rule directly parameter adjustment artificial neural network anns aiming limitation propose novel method constructing deep snn model knowledge distillation kd us ann teacher model snn student model joint training algorithm student snn model learn rich feature information teacher ann model kd method yet avoids training snn scratch communicating spike method build efficient deep spiking structure feasibly reasonably use time step train whole model compared direct training ann snn method importantly superb ability noise immunity various type artificial noise natural signal proposed novel method provides efficient way improve performance snn constructing deeper structure fashion potential usage light efficient computing practical scenario, spiking neural network snns energy efficiency higher conventional artificial neural network anns since snn delivers data discrete spike difficult use gradient method training limiting accuracy keep accuracy snns similar ann counterpart anns converted snns conversion conversion encoding activation anns set spike snns crucial minimizing conversion loss work propose phase coding encoding scheme minimizes number spike transfer data snn layer minimize encoding error due approximation phase coding threshold shift base manipulation proposed without additional retraining architectural constraint anns proposed conversion method lose inference accuracy average verified three convolutional neural network cnns cifar imagenet addition graph convolutional network gcns converted snns successfully average accuracy loss importantly energy efficiency snn improves x compared ann baseline, spiking neural network snns promising coding information signal processing suited implementation neuromorphic hardware however unique working mode snns make difficult train traditional network currently two main route explore training deep snns high performance first convert ann model snn version usually requires long coding window convergence exploit feature training solving temporal task directly train snns domain due binary spike activity firing function problem gradient vanishing explosion current method restricted shallow architecture thereby difficult harnessing datasets imagenet end propose batch normalization tdbn method based emerging backpropagation termed enabling direct training deep snn efficient implementation inference neuromorphic hardware proposed method elaborated shortcut connection significantly extend snns shallow structure 10 layer deep structure 50 layer furthermore theoretically analyze effectiveness method based block dynamical isometry theory finally report superior accuracy result including imagenet timesteps best knowledge first time explore deep snns high performance imagenet]</td>\n",
       "    </tr>\n",
       "    <tr>\n",
       "      <th>...</th>\n",
       "      <td>...</td>\n",
       "      <td>...</td>\n",
       "      <td>...</td>\n",
       "      <td>...</td>\n",
       "      <td>...</td>\n",
       "    </tr>\n",
       "    <tr>\n",
       "      <th>97</th>\n",
       "      <td>97</td>\n",
       "      <td>54</td>\n",
       "      <td>97_blockchain_fl_privacy_smart</td>\n",
       "      <td>[blockchain, fl, privacy, smart, aigc, technology, contract, iiot, energy, security]</td>\n",
       "      <td>[widespread attention application artificial intelligence ai blockchain technology privacy protection technique arising integration notable significance addition protecting privacy individual technique also guarantee security dependability data paper initially present overview ai blockchain summarizing combination along derived privacy protection technology explores specific application scenario data encryption distributed ledger method moreover paper evaluates five critical aspect privacy protection system including authorization management access control data protection network security scalability furthermore analyzes deficiency actual cause offering corresponding suggestion research also classifies summarizes privacy protection technique based application scenario technical scheme conclusion paper outline future direction privacy protection technology emerging ai blockchain integration including enhancing efficiency security achieve comprehensive privacy protection privacy, generative artificial intelligence gai recently emerged promising solution address critical challenge blockchain technology including scalability security privacy interoperability paper first introduce gai technique outline application discus existing solution integrating gai blockchains discus emerging solution demonstrate effectiveness gai addressing various challenge blockchain detecting unknown blockchain attack smart contract vulnerability designing key secret sharing scheme enhancing privacy moreover present case study demonstrate gai specifically generative diffusion model employed optimize blockchain network performance metric experimental result clearly show compared baseline traditional ai approach proposed generative diffusion model approach converge faster achieve higher reward significantly improve throughput latency blockchain network additionally highlight future research direction gai blockchain application including personalized blockchains synergy privacy security consideration within blockchain ecosystem, internet energy ioe distributed paradigm leverage smart network distributed system technology enable decentralized energy system contrast traditional centralized energy system distributed energy internet system comprise multiple component communication requirement demand innovative technology decentralization reliability efficiency security recent advance blockchain architecture smart contract distributed federated learning technology opened new opportunity realizing decentralized energy internet service paper present comprehensive analysis classification solution employ blockchain smart contract federated learning ioe domain specifically identify four representative system model discus key aspect model demonstrate diverse way blockchain smart contract federated learning integrated support main domain ioe namely distributed energy trading sharing smart microgrid energy network electric connected vehicle management furthermore provide detailed comparison different level decentralization advantage federated learning benefit using blockchain ioe system additionally identify open issue area future research integrating federated learning blockchain internet energy domain]</td>\n",
       "    </tr>\n",
       "    <tr>\n",
       "      <th>98</th>\n",
       "      <td>98</td>\n",
       "      <td>28</td>\n",
       "      <td>98_writing_suggestion_writer_tool</td>\n",
       "      <td>[writing, suggestion, writer, tool, llm, story, user, scribe, scroll, copyright]</td>\n",
       "      <td>[writing suggestion powered large language model becoming pervasive day however research understand writer interaction process engaging system still emerging conducted qualitative study shed light writer cognitive process writing suggestion system recruited 14 amateur writer write two review one without suggestion one suggestion additionally also positively negatively biased suggestion system get diverse range instance writer opinion bias language model align misalign varying degree found writer interact suggestion various complex way writer abstracted extracted multiple part suggestion incorporated within writing even disagreed suggestion whole along evaluating suggestion various criterion suggestion system also various effect writing process altering writer usual writing plan leading higher level distraction etc based qualitative analysis using cognitive process model writing hayes lens propose theoretical model interaction writing causal language model general movie review writing task followed direction future research design, development natural language generation model led creation powerful artificial writing tool tool capable predicting user need actively providing suggestion write work conduct comparative tool information retrieval lens pull push specifically investigate user demand writing impact two paradigm quality ownership writing product efficiency enjoyment writing process also seek understand impact bias writing finding show user welcome seamless assistance ai writing furthermore ai helped user diversify idea writing keeping clear concise quickly user also enjoyed collaboration writing tool feel lack ownership finally although participant experience bias experiment still expressed explicit clear concern addressed future writing tool, writing complex process begin mental model intent progress outline idea word paper subsequent refinement despite past research understanding writing consumer enterprise collaborative digital writing environment yet greatly benefit intelligent system understand stage document evolution providing opportune assistance based author situated action context paper present three study explore temporal stage document authoring first survey information worker large technology company writing habit preference concluding writer fact conceptually progress several distinct phase authoring document also explore qualitatively writing stage linked document lifespan supplement qualitative finding analysis longitudinal user interaction log popular digital writing platform several million document finally first step towards facilitating intelligent digital writing assistant conduct preliminary investigation utility user interaction log data predicting temporal stage document result support benefit tool tailored writing stage identify primary task associated stage show possible predict stage anonymous interaction log together result argue benefit feasibility tailored digital writing assistance]</td>\n",
       "    </tr>\n",
       "    <tr>\n",
       "      <th>99</th>\n",
       "      <td>99</td>\n",
       "      <td>60</td>\n",
       "      <td>99_dl_library_bug_deep</td>\n",
       "      <td>[dl, library, bug, deep, testing, project, pytorch, docker, software, model]</td>\n",
       "      <td>[recent deep learning dl application mostly built top dl library quality assurance library critical dependable deployment dl application technique proposed generate various dl model apply test library however test effectiveness constrained diversity layer api call generated dl model study reveals technique cover layer input layer parameter value layer sequence result find many bug arising specific layer api call specific layer input parameter value layer sequence missed existing technique limitation propose comet effectively generate dl model diverse layer api call dl library testing comet 1 design set mutation operator search algorithm diversify layer input layer parameter value layer sequence dl model 2 proposes model synthesis method boost test efficiency without compromising layer api call diversity evaluation result show comet outperforms baseline covering twice many layer input layer parameter value layer sequence moreover comet cover library branch existing technique finally comet detects 32 new bug latest version eight popular dl library including tensorflow mxnet 21 confirmed dl library developer 7 confirmed bug fixed developer, recent advance deep learning dl led release several dl software library pytorch caffe tensorflow order assist machine learning ml practitioner developing deploying deep neural network dnn able properly cope limitation dl library testing data processing paper present qualitative quantitative analysis frequent dl library combination distribution dl library dependency across ml workflow formulate set recommendation hardware builder optimized accelerator ii library builder refined future release study based dl project contributor selected based reputation first found increasing trend usage deep learning library second highlight several usage pattern deep learning library addition identify dependency dl library frequent combination discover pytorch kera tensorflow frequent combination 18 14 project developer us two three dl library project tends use different multiple dl library function file developer show pattern using various library prefers simple function fewer argument straightforward goal finally present implication finding researcher library maintainer hardware vendor, recent year software system powered deep learning dl technique significantly facilitated people life many aspect backbone dl system various dl library undertake underlying optimization computation however like traditional software dl library immune bug pose serious threat user personal property safety studying characteristic dl library associated bug corresponding testing method crucial enhancing security dl system advancing widespread application dl technology paper provides overview testing research related various dl library discusses strength weakness existing method provides guidance reference application dl library paper first introduces workflow dl underlying library characteristic three kind dl library involved namely dl framework dl compiler dl hardware library provides definition dl underlying library bug testing additionally paper summarizes existing testing method tool tailored dl library separately analyzes effectiveness limitation also discusses existing challenge dl library testing outline potential direction future research]</td>\n",
       "    </tr>\n",
       "    <tr>\n",
       "      <th>100</th>\n",
       "      <td>100</td>\n",
       "      <td>41</td>\n",
       "      <td>100_big_data_tuning_job</td>\n",
       "      <td>[big, data, tuning, job, enterprise, spark, management, business, talent, analytics]</td>\n",
       "      <td>[big data solution designed cope data huge volume wide variety need ingested high velocity potential veracity issue challenging characteristic usually referred 4vs big data order evaluate possibly complex big data solution stress test require assess large number combination jointly possible big data variation formalization design experiment doe big data solution aimed ensuring reproducibility experiment facilitating partitioning guaranteeing consistency outcome global assessment paper approach proposed support evaluation big data system two way firstly approach formalizes decomposition recombination big data solution allowing aggregation component evaluation result level secondly existing work doe translated ontology supporting selection experiment proposed approach offer possibility combine knowledge evaluation domain application domain exploit domain specific restriction factor combination order reduce number experiment contrary existing approach proposed use ontology limited assertional description exploitation past experiment offer richer terminological description development doe scratch application example maritime big data solution problem detecting predicting vessel suspicious behaviour mobility analysis selected article concluded sketch future work, big data reforming many industrial domain providing decision support analyzing large data volume big data testing aim ensure big data system run smoothly maintaining performance quality data however diversity complexity data testing big data challenging though numerous research effort deal big data testing comprehensive review address testing technique challenge big data available yet therefore systematically reviewed big data testing technique evidence occurring period paper discusses testing data processing highlighting technique used every processing phase furthermore discus challenge future direction finding show diverse functional combined functional testing technique used solve specific problem related big data time testing challenge faced mapreduce validation phase addition combinatorial testing technique one applied technique combination technique random testing mutation testing input space partitioning equivalence testing find various functional fault big data testing, big data research attracted great attention science technology industry society developing evolving scientific paradigm fourth industrial revolution transformational innovation technology however nature fundamental challenge recognized methodology formed paper explores answer following question big data basic method representing managing analyzing big data relationship big data knowledge find mapping big data knowledge space kind infrastructure required support big data management analysis also knowledge discovery sharing management relationship big data science paradigm nature fundamental challenge big data computing perspective presented toward methodology big data computing]</td>\n",
       "    </tr>\n",
       "    <tr>\n",
       "      <th>101</th>\n",
       "      <td>101</td>\n",
       "      <td>56</td>\n",
       "      <td>101_traffic_flow_congestion_vehicle</td>\n",
       "      <td>[traffic, flow, congestion, vehicle, road, urban, transportation, network, encrypted, packet]</td>\n",
       "      <td>[sophisticated traffic analytics encrypted traffic analytics unknown malware detection emphasizes need advanced method analyze network traffic traditional method using fixed pattern signature matching rule detect known pattern network traffic replaced ai artificial intelligence driven algorithm however absence ai framework make deploying processing within networking workload impossible paper describe design traffic analytics development kit tadk framework specific networking workload processing tadk provide networking workload processing networking equipment data center edge without need specialized hardware gpus neural processing unit deployed tadk commodity waf 5g upf evaluation result show tadk achieve throughput per core traffic feature extraction per core traffic classification decrease detection per request higher accuracy fixed pattern solution, one important task network management identifying different type traffic flow result type management service called network traffic classifier ntc introduced one type ntcs gained huge attention recent year applies deep learning packet order classify flow internet imbalanced environment class application lot populated others http additionally one challenge deep learning method perform well imbalanced environment term evaluation metric precision recall measure order solve problem recommend use augmentation method balance dataset paper propose novel data augmentation approach based use long short term memory lstm network generating traffic flow pattern kernel density estimation kde replicating numerical feature class first use lstm network order learn generate sequence packet flow class less population complete feature sequence generating random value based distribution certain feature estimated using kde finally compare training convolutional recurrent neural network crnn imbalanced sampled augmented datasets contribution augmentation scheme evaluated datasets measurement precision recall f1 measure every class application result demonstrate scheme well suited network traffic flow datasets improves performance deep learning algorithm come metric, traffic classification associate packet stream known application label vital network security network management rise nat port dynamic encrypted traffic increasingly challenging obtain unified traffic feature accurate classification many traffic classifier automatically extract feature packet stream based deep learning model convolution network unfortunately compositional causal relationship packet well extracted deep learning model affect prediction accuracy generalization different traffic type paper present chained graph model packet stream keep chained compositional sequence next propose cgnn graph neural network based traffic classification method build graph classifier automatically extracted feature chained graph extensive evaluation traffic data set including normal encrypted malicious label show cgnn improves prediction accuracy application classification malicious traffic classification reach accuracy level encrypted traffic classification cgnn quite robust term recall precision metric extensively evaluated parameter sensitivity cgnn yield optimized parameter quite effective traffic classification]</td>\n",
       "    </tr>\n",
       "  </tbody>\n",
       "</table>\n",
       "<p>102 rows × 5 columns</p>\n",
       "</div>"
      ]
     },
     "execution_count": 20,
     "metadata": {},
     "output_type": "execute_result"
    }
   ],
   "execution_count": 20
  },
  {
   "metadata": {
    "ExecuteTime": {
     "end_time": "2024-11-19T19:41:21.578762Z",
     "start_time": "2024-11-19T19:40:08.192556Z"
    }
   },
   "cell_type": "code",
   "source": [
    "model_output = get_bertopic_model_output(topic_model_less_topics)\n",
    "results_bertopic = calculate_metrics(model_output, dataset, verbose=True)"
   ],
   "id": "adf39afbfca25baf",
   "outputs": [
    {
     "name": "stdout",
     "output_type": "stream",
     "text": [
      "UMass: -4.307763226755346\n",
      "NPMI: 0.10192969191140486\n",
      "C_V: 0.5669481669767485\n",
      "Topic Diversity: 0.7715686274509804\n",
      "Inverted RBO: 0.9946013512200488\n",
      "Pairwise Jaccard: 0.0049554536586421645\n",
      "KL Uniform: None\n",
      "KL Vacuous: None\n",
      "KL Background: 3.218383183850171\n"
     ]
    }
   ],
   "execution_count": 19
  },
  {
   "metadata": {},
   "cell_type": "markdown",
   "source": "# Removed scientific words",
   "id": "b6af03409dc2bbcc"
  },
  {
   "metadata": {
    "ExecuteTime": {
     "end_time": "2024-12-03T20:59:44.985874Z",
     "start_time": "2024-12-03T20:59:39.055272Z"
    }
   },
   "cell_type": "code",
   "source": [
    "df = get_processed_data_bertopic(csv_file=\"../../data/arxiv_processed_no_scientific.csv\")\n",
    "data = df['Processed Summary'].tolist()\n",
    "\n",
    "dataset = Dataset()\n",
    "dataset.load_custom_dataset_from_folder(\"../../data/octis_no_scientific\")"
   ],
   "id": "bb8673a88c8f7500",
   "outputs": [],
   "execution_count": 104
  },
  {
   "metadata": {
    "ExecuteTime": {
     "end_time": "2024-12-03T21:06:24.214815Z",
     "start_time": "2024-12-03T21:00:37.450800Z"
    }
   },
   "cell_type": "code",
   "source": [
    "topic_no_sci = BERTopic(calculate_probabilities=True)\n",
    "topics_sci, probs_sci = topic_no_sci.fit_transform(data)\n",
    "topic_info_sci = topic_no_sci.get_topic_info()\n"
   ],
   "id": "b6ffdaf795d058f9",
   "outputs": [],
   "execution_count": 105
  },
  {
   "metadata": {
    "ExecuteTime": {
     "end_time": "2024-12-03T21:06:34.549943Z",
     "start_time": "2024-12-03T21:06:34.542859Z"
    }
   },
   "cell_type": "code",
   "source": "print(f\"Number of topics: {len(topic_info_sci)}\")",
   "id": "a9248845f47c275d",
   "outputs": [
    {
     "name": "stdout",
     "output_type": "stream",
     "text": [
      "Number of topics: 396\n"
     ]
    }
   ],
   "execution_count": 106
  },
  {
   "metadata": {
    "ExecuteTime": {
     "end_time": "2024-12-03T21:06:35.645373Z",
     "start_time": "2024-12-03T21:06:35.617633Z"
    }
   },
   "cell_type": "code",
   "source": "topic_info_sci",
   "id": "af2db16a864214a0",
   "outputs": [
    {
     "data": {
      "text/plain": [
       "     Topic  Count                                           Name  \\\n",
       "0       -1  13350                   -1_learning_agent_task_human   \n",
       "1        0    580  0_dialogue_dialog_conversation_conversational   \n",
       "2        1    456           1_driving_vehicle_traffic_autonomous   \n",
       "3        2    436         2_recommendation_item_recommender_user   \n",
       "4        3    415        3_robot_navigation_planning_environment   \n",
       "..     ...    ...                                            ...   \n",
       "391    390     10      390_semantics_aft_expressiveness_negation   \n",
       "392    391     10      391_collapsed_proposal_program_collapsing   \n",
       "393    392     10          392_geometric_equivariant_disgnn_dgnn   \n",
       "394    393     10                   393_gesture_hand_wiopen_osgr   \n",
       "395    394     10                  394_1d_cnns_cnn_convolutional   \n",
       "\n",
       "                                        Representation  \\\n",
       "0    [learning, agent, task, human, system, languag...   \n",
       "1    [dialogue, dialog, conversation, conversationa...   \n",
       "2    [driving, vehicle, traffic, autonomous, road, ...   \n",
       "3    [recommendation, item, recommender, user, pref...   \n",
       "4    [robot, navigation, planning, environment, rob...   \n",
       "..                                                 ...   \n",
       "391  [semantics, aft, expressiveness, negation, pro...   \n",
       "392  [collapsed, proposal, program, collapsing, pro...   \n",
       "393  [geometric, equivariant, disgnn, dgnn, empsns,...   \n",
       "394  [gesture, hand, wiopen, osgr, semg, movement, ...   \n",
       "395  [1d, cnns, cnn, convolutional, dcnn, w2wnet, m...   \n",
       "\n",
       "                                   Representative_Docs  \n",
       "0    [large language llm shown increasing power var...  \n",
       "1    [dialogue system application customer support ...  \n",
       "2    [driving behavior connected vehicle technology...  \n",
       "3    [recommender system knowledge graph effectivel...  \n",
       "4    [situation human robot moving space whilst per...  \n",
       "..                                                 ...  \n",
       "391  [stable semantics become popular management ne...  \n",
       "392  [introduce collapsed compilation approximate i...  \n",
       "393  [invariant one important class geometric deep ...  \n",
       "394  [recognition dynamic hand gesture video stream...  \n",
       "395  [convolutional neural network cnns supposed fe...  \n",
       "\n",
       "[396 rows x 5 columns]"
      ],
      "text/html": [
       "<div>\n",
       "<style scoped>\n",
       "    .dataframe tbody tr th:only-of-type {\n",
       "        vertical-align: middle;\n",
       "    }\n",
       "\n",
       "    .dataframe tbody tr th {\n",
       "        vertical-align: top;\n",
       "    }\n",
       "\n",
       "    .dataframe thead th {\n",
       "        text-align: right;\n",
       "    }\n",
       "</style>\n",
       "<table border=\"1\" class=\"dataframe\">\n",
       "  <thead>\n",
       "    <tr style=\"text-align: right;\">\n",
       "      <th></th>\n",
       "      <th>Topic</th>\n",
       "      <th>Count</th>\n",
       "      <th>Name</th>\n",
       "      <th>Representation</th>\n",
       "      <th>Representative_Docs</th>\n",
       "    </tr>\n",
       "  </thead>\n",
       "  <tbody>\n",
       "    <tr>\n",
       "      <th>0</th>\n",
       "      <td>-1</td>\n",
       "      <td>13350</td>\n",
       "      <td>-1_learning_agent_task_human</td>\n",
       "      <td>[learning, agent, task, human, system, languag...</td>\n",
       "      <td>[large language llm shown increasing power var...</td>\n",
       "    </tr>\n",
       "    <tr>\n",
       "      <th>1</th>\n",
       "      <td>0</td>\n",
       "      <td>580</td>\n",
       "      <td>0_dialogue_dialog_conversation_conversational</td>\n",
       "      <td>[dialogue, dialog, conversation, conversationa...</td>\n",
       "      <td>[dialogue system application customer support ...</td>\n",
       "    </tr>\n",
       "    <tr>\n",
       "      <th>2</th>\n",
       "      <td>1</td>\n",
       "      <td>456</td>\n",
       "      <td>1_driving_vehicle_traffic_autonomous</td>\n",
       "      <td>[driving, vehicle, traffic, autonomous, road, ...</td>\n",
       "      <td>[driving behavior connected vehicle technology...</td>\n",
       "    </tr>\n",
       "    <tr>\n",
       "      <th>3</th>\n",
       "      <td>2</td>\n",
       "      <td>436</td>\n",
       "      <td>2_recommendation_item_recommender_user</td>\n",
       "      <td>[recommendation, item, recommender, user, pref...</td>\n",
       "      <td>[recommender system knowledge graph effectivel...</td>\n",
       "    </tr>\n",
       "    <tr>\n",
       "      <th>4</th>\n",
       "      <td>3</td>\n",
       "      <td>415</td>\n",
       "      <td>3_robot_navigation_planning_environment</td>\n",
       "      <td>[robot, navigation, planning, environment, rob...</td>\n",
       "      <td>[situation human robot moving space whilst per...</td>\n",
       "    </tr>\n",
       "    <tr>\n",
       "      <th>...</th>\n",
       "      <td>...</td>\n",
       "      <td>...</td>\n",
       "      <td>...</td>\n",
       "      <td>...</td>\n",
       "      <td>...</td>\n",
       "    </tr>\n",
       "    <tr>\n",
       "      <th>391</th>\n",
       "      <td>390</td>\n",
       "      <td>10</td>\n",
       "      <td>390_semantics_aft_expressiveness_negation</td>\n",
       "      <td>[semantics, aft, expressiveness, negation, pro...</td>\n",
       "      <td>[stable semantics become popular management ne...</td>\n",
       "    </tr>\n",
       "    <tr>\n",
       "      <th>392</th>\n",
       "      <td>391</td>\n",
       "      <td>10</td>\n",
       "      <td>391_collapsed_proposal_program_collapsing</td>\n",
       "      <td>[collapsed, proposal, program, collapsing, pro...</td>\n",
       "      <td>[introduce collapsed compilation approximate i...</td>\n",
       "    </tr>\n",
       "    <tr>\n",
       "      <th>393</th>\n",
       "      <td>392</td>\n",
       "      <td>10</td>\n",
       "      <td>392_geometric_equivariant_disgnn_dgnn</td>\n",
       "      <td>[geometric, equivariant, disgnn, dgnn, empsns,...</td>\n",
       "      <td>[invariant one important class geometric deep ...</td>\n",
       "    </tr>\n",
       "    <tr>\n",
       "      <th>394</th>\n",
       "      <td>393</td>\n",
       "      <td>10</td>\n",
       "      <td>393_gesture_hand_wiopen_osgr</td>\n",
       "      <td>[gesture, hand, wiopen, osgr, semg, movement, ...</td>\n",
       "      <td>[recognition dynamic hand gesture video stream...</td>\n",
       "    </tr>\n",
       "    <tr>\n",
       "      <th>395</th>\n",
       "      <td>394</td>\n",
       "      <td>10</td>\n",
       "      <td>394_1d_cnns_cnn_convolutional</td>\n",
       "      <td>[1d, cnns, cnn, convolutional, dcnn, w2wnet, m...</td>\n",
       "      <td>[convolutional neural network cnns supposed fe...</td>\n",
       "    </tr>\n",
       "  </tbody>\n",
       "</table>\n",
       "<p>396 rows × 5 columns</p>\n",
       "</div>"
      ]
     },
     "execution_count": 107,
     "metadata": {},
     "output_type": "execute_result"
    }
   ],
   "execution_count": 107
  },
  {
   "metadata": {
    "ExecuteTime": {
     "end_time": "2024-12-03T21:07:00.147007Z",
     "start_time": "2024-12-03T21:06:59.912477Z"
    }
   },
   "cell_type": "code",
   "source": [
    "topic_info_sci.hist(column='Count', bins=50)\n",
    "plt.xlabel(\"Size of topic\")\n",
    "plt.ylabel(\"Number of topics\")\n",
    "plt.title(\"BERTopic before reducing outliers\")\n",
    "plt.show()"
   ],
   "id": "8b56e17f6d4a9805",
   "outputs": [
    {
     "data": {
      "text/plain": [
       "<Figure size 640x480 with 1 Axes>"
      ],
      "image/png": "[encoded data removed]"
     },
     "metadata": {},
     "output_type": "display_data"
    }
   ],
   "execution_count": 109
  },
  {
   "metadata": {
    "ExecuteTime": {
     "end_time": "2024-12-03T21:09:44.148558Z",
     "start_time": "2024-12-03T21:07:51.361765Z"
    }
   },
   "cell_type": "code",
   "source": [
    "model_output_sci = get_bertopic_model_output(topic_no_sci)\n",
    "results_bertopic_sci = calculate_metrics(model_output_sci, dataset, verbose=False)"
   ],
   "id": "2917679a4f892e7",
   "outputs": [
    {
     "name": "stdout",
     "output_type": "stream",
     "text": [
      "Error calculating KL Vacuous: index 396 is out of bounds for axis 0 with size 396\n"
     ]
    },
    {
     "ename": "TypeError",
     "evalue": "'numpy.ndarray' object is not callable",
     "output_type": "error",
     "traceback": [
      "\u001B[1;31m---------------------------------------------------------------------------\u001B[0m",
      "\u001B[1;31mTypeError\u001B[0m                                 Traceback (most recent call last)",
      "Cell \u001B[1;32mIn[110], line 3\u001B[0m\n\u001B[0;32m      1\u001B[0m model_output_sci \u001B[38;5;241m=\u001B[39m get_bertopic_model_output(topic_no_sci)\n\u001B[0;32m      2\u001B[0m results_bertopic_sci \u001B[38;5;241m=\u001B[39m calculate_metrics(model_output_sci, dataset, verbose\u001B[38;5;241m=\u001B[39m\u001B[38;5;28;01mFalse\u001B[39;00m)\n\u001B[1;32m----> 3\u001B[0m results_bertopic_sci_df \u001B[38;5;241m=\u001B[39m pd\u001B[38;5;241m.\u001B[39mDataFrame(\u001B[43mresults_bertopic_sci\u001B[49m\u001B[38;5;241;43m.\u001B[39;49m\u001B[43mvalues\u001B[49m\u001B[43m(\u001B[49m\u001B[43m)\u001B[49m, index\u001B[38;5;241m=\u001B[39mresults_bertopic_sci\u001B[38;5;241m.\u001B[39mkeys())\u001B[38;5;241m.\u001B[39mT\n\u001B[0;32m      4\u001B[0m results_bertopic_sci_df\n",
      "\u001B[1;31mTypeError\u001B[0m: 'numpy.ndarray' object is not callable"
     ]
    }
   ],
   "execution_count": 110
  },
  {
   "metadata": {
    "ExecuteTime": {
     "end_time": "2024-12-03T21:16:39.922079Z",
     "start_time": "2024-12-03T21:16:39.906884Z"
    }
   },
   "cell_type": "code",
   "source": "results_bertopic_sci",
   "id": "747109d49b3ccfb5",
   "outputs": [
    {
     "data": {
      "text/plain": [
       "      UMass      NPMI       C_V  Topic Diversity  Inverted RBO  \\\n",
       "0 -6.427072  0.077667  0.549126         0.660859       0.99676   \n",
       "\n",
       "   Pairwise Jaccard  KL Uniform  KL Vacuous  KL Background  \n",
       "0          0.002455    3.409831         NaN       1.353695  "
      ],
      "text/html": [
       "<div>\n",
       "<style scoped>\n",
       "    .dataframe tbody tr th:only-of-type {\n",
       "        vertical-align: middle;\n",
       "    }\n",
       "\n",
       "    .dataframe tbody tr th {\n",
       "        vertical-align: top;\n",
       "    }\n",
       "\n",
       "    .dataframe thead th {\n",
       "        text-align: right;\n",
       "    }\n",
       "</style>\n",
       "<table border=\"1\" class=\"dataframe\">\n",
       "  <thead>\n",
       "    <tr style=\"text-align: right;\">\n",
       "      <th></th>\n",
       "      <th>UMass</th>\n",
       "      <th>NPMI</th>\n",
       "      <th>C_V</th>\n",
       "      <th>Topic Diversity</th>\n",
       "      <th>Inverted RBO</th>\n",
       "      <th>Pairwise Jaccard</th>\n",
       "      <th>KL Uniform</th>\n",
       "      <th>KL Vacuous</th>\n",
       "      <th>KL Background</th>\n",
       "    </tr>\n",
       "  </thead>\n",
       "  <tbody>\n",
       "    <tr>\n",
       "      <th>0</th>\n",
       "      <td>-6.427072</td>\n",
       "      <td>0.077667</td>\n",
       "      <td>0.549126</td>\n",
       "      <td>0.660859</td>\n",
       "      <td>0.99676</td>\n",
       "      <td>0.002455</td>\n",
       "      <td>3.409831</td>\n",
       "      <td>NaN</td>\n",
       "      <td>1.353695</td>\n",
       "    </tr>\n",
       "  </tbody>\n",
       "</table>\n",
       "</div>"
      ]
     },
     "execution_count": 111,
     "metadata": {},
     "output_type": "execute_result"
    }
   ],
   "execution_count": 111
  },
  {
   "metadata": {
    "ExecuteTime": {
     "end_time": "2024-12-03T21:23:01.041250Z",
     "start_time": "2024-12-03T21:22:42.018381Z"
    }
   },
   "cell_type": "code",
   "source": [
    "new_tops_sci = topic_no_sci.reduce_outliers(data, topics_sci)\n",
    "topic_no_sci.update_topics(data, topics=new_tops_sci)\n",
    "topic_info_sci = topic_no_sci.get_topic_info()"
   ],
   "id": "7850648f6e64d9f7",
   "outputs": [
    {
     "name": "stderr",
     "output_type": "stream",
     "text": [
      "2024-12-03 22:22:57,372 - BERTopic - WARNING: Using a custom list of topic assignments may lead to errors if topic reduction techniques are used afterwards. Make sure that manually assigning topics is the last step in the pipeline.Note that topic embeddings will also be created through weightedc-TF-IDF embeddings instead of centroid embeddings.\n"
     ]
    }
   ],
   "execution_count": 112
  },
  {
   "metadata": {
    "ExecuteTime": {
     "end_time": "2024-12-03T21:23:01.057849Z",
     "start_time": "2024-12-03T21:23:01.043232Z"
    }
   },
   "cell_type": "code",
   "source": "topic_info_sci",
   "id": "b28384705de466af",
   "outputs": [
    {
     "data": {
      "text/plain": [
       "     Topic  Count                                            Name  \\\n",
       "0        0    605   0_dialogue_dialog_conversation_conversational   \n",
       "1        1    526            1_driving_vehicle_traffic_autonomous   \n",
       "2        2    497          2_recommendation_item_recommender_user   \n",
       "3        3    587         3_robot_navigation_environment_planning   \n",
       "4        4    376                   4_fl_federated_client_privacy   \n",
       "..     ...    ...                                             ...   \n",
       "390    390     29     390_negation_semantics_expressiveness_logic   \n",
       "391    391     18    391_proposal_posterior_sampler_probabilistic   \n",
       "392    392     30  392_equivariant_geometric_invariant_conceptual   \n",
       "393    393     19              393_gesture_hand_keyboard_movement   \n",
       "394    394     34                   394_cnn_cnns_convolutional_1d   \n",
       "\n",
       "                                        Representation  \\\n",
       "0    [dialogue, dialog, conversation, conversationa...   \n",
       "1    [driving, vehicle, traffic, autonomous, road, ...   \n",
       "2    [recommendation, item, recommender, user, pref...   \n",
       "3    [robot, navigation, environment, planning, rob...   \n",
       "4    [fl, federated, client, privacy, server, local...   \n",
       "..                                                 ...   \n",
       "390  [negation, semantics, expressiveness, logic, n...   \n",
       "391  [proposal, posterior, sampler, probabilistic, ...   \n",
       "392  [equivariant, geometric, invariant, conceptual...   \n",
       "393  [gesture, hand, keyboard, movement, recognitio...   \n",
       "394  [cnn, cnns, convolutional, 1d, coral, pavement...   \n",
       "\n",
       "                                   Representative_Docs  \n",
       "0    [dialogue system application customer support ...  \n",
       "1    [driving behavior connected vehicle technology...  \n",
       "2    [recommender system knowledge graph effectivel...  \n",
       "3    [situation human robot moving space whilst per...  \n",
       "4    [federated learning fl emerged effective learn...  \n",
       "..                                                 ...  \n",
       "390  [stable semantics become popular management ne...  \n",
       "391  [introduce collapsed compilation approximate i...  \n",
       "392  [invariant one important class geometric deep ...  \n",
       "393  [recognition dynamic hand gesture video stream...  \n",
       "394  [convolutional neural network cnns supposed fe...  \n",
       "\n",
       "[395 rows x 5 columns]"
      ],
      "text/html": [
       "<div>\n",
       "<style scoped>\n",
       "    .dataframe tbody tr th:only-of-type {\n",
       "        vertical-align: middle;\n",
       "    }\n",
       "\n",
       "    .dataframe tbody tr th {\n",
       "        vertical-align: top;\n",
       "    }\n",
       "\n",
       "    .dataframe thead th {\n",
       "        text-align: right;\n",
       "    }\n",
       "</style>\n",
       "<table border=\"1\" class=\"dataframe\">\n",
       "  <thead>\n",
       "    <tr style=\"text-align: right;\">\n",
       "      <th></th>\n",
       "      <th>Topic</th>\n",
       "      <th>Count</th>\n",
       "      <th>Name</th>\n",
       "      <th>Representation</th>\n",
       "      <th>Representative_Docs</th>\n",
       "    </tr>\n",
       "  </thead>\n",
       "  <tbody>\n",
       "    <tr>\n",
       "      <th>0</th>\n",
       "      <td>0</td>\n",
       "      <td>605</td>\n",
       "      <td>0_dialogue_dialog_conversation_conversational</td>\n",
       "      <td>[dialogue, dialog, conversation, conversationa...</td>\n",
       "      <td>[dialogue system application customer support ...</td>\n",
       "    </tr>\n",
       "    <tr>\n",
       "      <th>1</th>\n",
       "      <td>1</td>\n",
       "      <td>526</td>\n",
       "      <td>1_driving_vehicle_traffic_autonomous</td>\n",
       "      <td>[driving, vehicle, traffic, autonomous, road, ...</td>\n",
       "      <td>[driving behavior connected vehicle technology...</td>\n",
       "    </tr>\n",
       "    <tr>\n",
       "      <th>2</th>\n",
       "      <td>2</td>\n",
       "      <td>497</td>\n",
       "      <td>2_recommendation_item_recommender_user</td>\n",
       "      <td>[recommendation, item, recommender, user, pref...</td>\n",
       "      <td>[recommender system knowledge graph effectivel...</td>\n",
       "    </tr>\n",
       "    <tr>\n",
       "      <th>3</th>\n",
       "      <td>3</td>\n",
       "      <td>587</td>\n",
       "      <td>3_robot_navigation_environment_planning</td>\n",
       "      <td>[robot, navigation, environment, planning, rob...</td>\n",
       "      <td>[situation human robot moving space whilst per...</td>\n",
       "    </tr>\n",
       "    <tr>\n",
       "      <th>4</th>\n",
       "      <td>4</td>\n",
       "      <td>376</td>\n",
       "      <td>4_fl_federated_client_privacy</td>\n",
       "      <td>[fl, federated, client, privacy, server, local...</td>\n",
       "      <td>[federated learning fl emerged effective learn...</td>\n",
       "    </tr>\n",
       "    <tr>\n",
       "      <th>...</th>\n",
       "      <td>...</td>\n",
       "      <td>...</td>\n",
       "      <td>...</td>\n",
       "      <td>...</td>\n",
       "      <td>...</td>\n",
       "    </tr>\n",
       "    <tr>\n",
       "      <th>390</th>\n",
       "      <td>390</td>\n",
       "      <td>29</td>\n",
       "      <td>390_negation_semantics_expressiveness_logic</td>\n",
       "      <td>[negation, semantics, expressiveness, logic, n...</td>\n",
       "      <td>[stable semantics become popular management ne...</td>\n",
       "    </tr>\n",
       "    <tr>\n",
       "      <th>391</th>\n",
       "      <td>391</td>\n",
       "      <td>18</td>\n",
       "      <td>391_proposal_posterior_sampler_probabilistic</td>\n",
       "      <td>[proposal, posterior, sampler, probabilistic, ...</td>\n",
       "      <td>[introduce collapsed compilation approximate i...</td>\n",
       "    </tr>\n",
       "    <tr>\n",
       "      <th>392</th>\n",
       "      <td>392</td>\n",
       "      <td>30</td>\n",
       "      <td>392_equivariant_geometric_invariant_conceptual</td>\n",
       "      <td>[equivariant, geometric, invariant, conceptual...</td>\n",
       "      <td>[invariant one important class geometric deep ...</td>\n",
       "    </tr>\n",
       "    <tr>\n",
       "      <th>393</th>\n",
       "      <td>393</td>\n",
       "      <td>19</td>\n",
       "      <td>393_gesture_hand_keyboard_movement</td>\n",
       "      <td>[gesture, hand, keyboard, movement, recognitio...</td>\n",
       "      <td>[recognition dynamic hand gesture video stream...</td>\n",
       "    </tr>\n",
       "    <tr>\n",
       "      <th>394</th>\n",
       "      <td>394</td>\n",
       "      <td>34</td>\n",
       "      <td>394_cnn_cnns_convolutional_1d</td>\n",
       "      <td>[cnn, cnns, convolutional, 1d, coral, pavement...</td>\n",
       "      <td>[convolutional neural network cnns supposed fe...</td>\n",
       "    </tr>\n",
       "  </tbody>\n",
       "</table>\n",
       "<p>395 rows × 5 columns</p>\n",
       "</div>"
      ]
     },
     "execution_count": 113,
     "metadata": {},
     "output_type": "execute_result"
    }
   ],
   "execution_count": 113
  },
  {
   "metadata": {
    "ExecuteTime": {
     "end_time": "2024-12-03T21:25:34.775340Z",
     "start_time": "2024-12-03T21:23:40.675416Z"
    }
   },
   "cell_type": "code",
   "source": [
    "model_output_sci = get_bertopic_model_output(topic_no_sci)\n",
    "results_bertopic_sci_2 = calculate_metrics(model_output_sci, dataset, verbose=True)"
   ],
   "id": "1d113acc3fcb60ce",
   "outputs": [
    {
     "name": "stdout",
     "output_type": "stream",
     "text": [
      "UMass: -5.763123050126857\n",
      "NPMI: 0.09336689128449857\n",
      "C_V: 0.5723087322551003\n",
      "Topic Diversity: 0.6316455696202532\n",
      "Inverted RBO: 0.9964378137162925\n",
      "Pairwise Jaccard: 0.00293463540432971\n",
      "KL Uniform: 3.0426070680237567\n",
      "Error calculating KL Vacuous: index 395 is out of bounds for axis 0 with size 395\n",
      "KL Vacuous: None\n",
      "KL Background: 1.3536946664232796\n"
     ]
    }
   ],
   "execution_count": 115
  },
  {
   "metadata": {},
   "cell_type": "code",
   "outputs": [],
   "execution_count": null,
   "source": "",
   "id": "8d5f3fb9a678a2d"
  },
  {
   "metadata": {},
   "cell_type": "code",
   "outputs": [],
   "execution_count": null,
   "source": "",
   "id": "a7350be00a7adca9"
  }
 ],
 "metadata": {
  "kernelspec": {
   "display_name": "Python 3",
   "language": "python",
   "name": "python3"
  },
  "language_info": {
   "codemirror_mode": {
    "name": "ipython",
    "version": 2
   },
   "file_extension": ".py",
   "mimetype": "text/x-python",
   "name": "python",
   "nbconvert_exporter": "python",
   "pygments_lexer": "ipython2",
   "version": "2.7.6"
  }
 },
 "nbformat": 4,
 "nbformat_minor": 5
}
