{
 "cells": [
  {
   "metadata": {
    "ExecuteTime": {
     "end_time": "2024-11-19T17:46:01.603816Z",
     "start_time": "2024-11-19T17:46:01.599812Z"
    }
   },
   "cell_type": "code",
   "source": [
    "import pandas as pd\n",
    "import os\n",
    "import ast"
   ],
   "id": "c5bcd41c217f47e0",
   "outputs": [],
   "execution_count": 2
  },
  {
   "metadata": {
    "ExecuteTime": {
     "end_time": "2024-11-19T17:51:22.178957Z",
     "start_time": "2024-11-19T17:51:16.575711Z"
    }
   },
   "cell_type": "code",
   "source": [
    "def parse_list_column(column):\n",
    "    return ast.literal_eval(column)\n",
    "\n",
    "csv_file = \"../../data/arxiv_processed.csv\"\n",
    "df = pd.read_csv(csv_file, sep=\";\", converters={'Processed Summary': parse_list_column})\n",
    "df['Processed Summary'] = df['Processed Summary'].apply(lambda x: \" \".join(x))"
   ],
   "id": "61adf4b1618990e5",
   "outputs": [],
   "execution_count": 19
  },
  {
   "metadata": {
    "ExecuteTime": {
     "end_time": "2024-11-19T18:04:00.960669Z",
     "start_time": "2024-11-19T18:04:00.576206Z"
    }
   },
   "cell_type": "code",
   "source": [
    "vocabulary = set()\n",
    "for summary in df['Processed Summary']:\n",
    "    vocabulary.update(summary.split())\n",
    "print(f\"Vocabulary size: {len(vocabulary)}\")"
   ],
   "id": "71c0e62a4318c8b7",
   "outputs": [
    {
     "name": "stdout",
     "output_type": "stream",
     "text": [
      "Vocabulary size: 53274\n"
     ]
    }
   ],
   "execution_count": 39
  },
  {
   "metadata": {
    "ExecuteTime": {
     "end_time": "2024-11-19T17:47:51.356986Z",
     "start_time": "2024-11-19T17:47:51.350961Z"
    }
   },
   "cell_type": "code",
   "source": [
    "octis_dataset_path = \"../../data/octis/\"\n",
    "os.makedirs(octis_dataset_path, exist_ok=True)\n",
    "\n",
    "with open(os.path.join(octis_dataset_path, \"vocabulary.txt\"), \"w\") as f:\n",
    "    f.write(\"\\n\".join(vocabulary))"
   ],
   "id": "d204b98cc01af7d0",
   "outputs": [],
   "execution_count": 8
  },
  {
   "metadata": {
    "ExecuteTime": {
     "end_time": "2024-11-19T17:55:06.992648Z",
     "start_time": "2024-11-19T17:55:06.976506Z"
    }
   },
   "cell_type": "code",
   "source": [
    "# add a partition column\n",
    "df_summary = df['Processed Summary']\n",
    "df_summary = df_summary.reset_index()\n",
    "df_summary['partition'] = 'train'\n",
    "df_summary = df_summary[['Processed Summary', 'partition']]"
   ],
   "id": "6022bebbba80f1c7",
   "outputs": [],
   "execution_count": 34
  },
  {
   "metadata": {
    "ExecuteTime": {
     "end_time": "2024-11-19T17:58:33.090145Z",
     "start_time": "2024-11-19T17:58:32.544149Z"
    }
   },
   "cell_type": "code",
   "source": "df_summary.to_csv(os.path.join(octis_dataset_path, \"corpus.tsv\"), index=False, sep=\"\\t\", header=False)",
   "id": "c7d374590a12650b",
   "outputs": [],
   "execution_count": 38
  },
  {
   "metadata": {
    "ExecuteTime": {
     "end_time": "2024-11-19T17:56:22.101266Z",
     "start_time": "2024-11-19T17:56:22.083043Z"
    }
   },
   "cell_type": "code",
   "source": "df_summary.head()",
   "id": "91abe7814471a0d",
   "outputs": [
    {
     "data": {
      "text/plain": [
       "                                   Processed Summary partition\n",
       "0  revisit issue connection two leading formalism...     train\n",
       "1  randomized algorithm deciding satisfiability s...     train\n",
       "2  two different type agency discussed based dyna...     train\n",
       "3  paper present method computing revision normal...     train\n",
       "4  diagnostic reasoning characterized logically r...     train"
      ],
      "text/html": [
       "<div>\n",
       "<style scoped>\n",
       "    .dataframe tbody tr th:only-of-type {\n",
       "        vertical-align: middle;\n",
       "    }\n",
       "\n",
       "    .dataframe tbody tr th {\n",
       "        vertical-align: top;\n",
       "    }\n",
       "\n",
       "    .dataframe thead th {\n",
       "        text-align: right;\n",
       "    }\n",
       "</style>\n",
       "<table border=\"1\" class=\"dataframe\">\n",
       "  <thead>\n",
       "    <tr style=\"text-align: right;\">\n",
       "      <th></th>\n",
       "      <th>Processed Summary</th>\n",
       "      <th>partition</th>\n",
       "    </tr>\n",
       "  </thead>\n",
       "  <tbody>\n",
       "    <tr>\n",
       "      <th>0</th>\n",
       "      <td>revisit issue connection two leading formalism...</td>\n",
       "      <td>train</td>\n",
       "    </tr>\n",
       "    <tr>\n",
       "      <th>1</th>\n",
       "      <td>randomized algorithm deciding satisfiability s...</td>\n",
       "      <td>train</td>\n",
       "    </tr>\n",
       "    <tr>\n",
       "      <th>2</th>\n",
       "      <td>two different type agency discussed based dyna...</td>\n",
       "      <td>train</td>\n",
       "    </tr>\n",
       "    <tr>\n",
       "      <th>3</th>\n",
       "      <td>paper present method computing revision normal...</td>\n",
       "      <td>train</td>\n",
       "    </tr>\n",
       "    <tr>\n",
       "      <th>4</th>\n",
       "      <td>diagnostic reasoning characterized logically r...</td>\n",
       "      <td>train</td>\n",
       "    </tr>\n",
       "  </tbody>\n",
       "</table>\n",
       "</div>"
      ]
     },
     "execution_count": 37,
     "metadata": {},
     "output_type": "execute_result"
    }
   ],
   "execution_count": 37
  },
  {
   "metadata": {},
   "cell_type": "code",
   "outputs": [],
   "execution_count": null,
   "source": "",
   "id": "f78154d7a2fe41d7"
  }
 ],
 "metadata": {
  "kernelspec": {
   "display_name": "Python 3",
   "language": "python",
   "name": "python3"
  },
  "language_info": {
   "codemirror_mode": {
    "name": "ipython",
    "version": 2
   },
   "file_extension": ".py",
   "mimetype": "text/x-python",
   "name": "python",
   "nbconvert_exporter": "python",
   "pygments_lexer": "ipython2",
   "version": "2.7.6"
  }
 },
 "nbformat": 4,
 "nbformat_minor": 5
}
